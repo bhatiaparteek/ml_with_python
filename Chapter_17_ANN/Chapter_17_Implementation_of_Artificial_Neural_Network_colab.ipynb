{
  "nbformat": 4,
  "nbformat_minor": 0,
  "metadata": {
    "colab": {
      "name": "Chapter 17 Implementation of Artificial Neural Network colab",
      "provenance": [],
      "collapsed_sections": [],
      "mount_file_id": "1Bw05SSvfIYLmV_h91PG6b7JxOZl7Ju4k",
      "authorship_tag": "ABX9TyON7guGwAdEOaJLFRJvzPTH",
      "include_colab_link": true
    },
    "kernelspec": {
      "name": "python3",
      "display_name": "Python 3"
    },
    "language_info": {
      "name": "python"
    }
  },
  "cells": [
    {
      "cell_type": "markdown",
      "metadata": {
        "id": "view-in-github",
        "colab_type": "text"
      },
      "source": [
        "<a href=\"https://colab.research.google.com/github/Sukhi02/ML-Content/blob/main/Chapter%2017%20Implementation%20of%20Artificial%20Neural%20Network/Chapter_17_Implementation_of_Artificial_Neural_Network_colab.ipynb\" target=\"_parent\"><img src=\"https://colab.research.google.com/assets/colab-badge.svg\" alt=\"Open In Colab\"/></a>"
      ]
    },
    {
      "cell_type": "code",
      "metadata": {
        "id": "Bn3YOpBVhvWR"
      },
      "source": [
        "import os\n",
        "os.chdir(\"/content/drive/MyDrive/CHapter ML\")"
      ],
      "execution_count": null,
      "outputs": []
    },
    {
      "cell_type": "markdown",
      "metadata": {
        "id": "zdI20MboRAdC"
      },
      "source": [
        "1. Importing the Libraries"
      ]
    },
    {
      "cell_type": "code",
      "metadata": {
        "id": "g7Tx8pFPQ-9e"
      },
      "source": [
        "#Importing the Libraries\n",
        "import numpy as np\n",
        "import matplotlib.pyplot as plt\n",
        "import pandas as pd\n",
        "import seaborn"
      ],
      "execution_count": null,
      "outputs": []
    },
    {
      "cell_type": "markdown",
      "metadata": {
        "id": "B-tSE3iFRIuA"
      },
      "source": [
        "2. Importing the Data"
      ]
    },
    {
      "cell_type": "code",
      "metadata": {
        "id": "mSa8GpBWRGTu"
      },
      "source": [
        "#Importing the Data\n",
        "dataset = pd.read_csv('MallCustomerDataset_.csv')  "
      ],
      "execution_count": null,
      "outputs": []
    },
    {
      "cell_type": "markdown",
      "metadata": {
        "id": "1OXor1LKRNOn"
      },
      "source": [
        "3. Feature and Label selection"
      ]
    },
    {
      "cell_type": "code",
      "metadata": {
        "id": "n2WwLNXMRQlJ"
      },
      "source": [
        "#Feature and Label selection\n",
        "X = dataset.iloc[:, 2:].values\n",
        "y = dataset.iloc[:, 1].values"
      ],
      "execution_count": null,
      "outputs": []
    },
    {
      "cell_type": "markdown",
      "metadata": {
        "id": "2NsKV6MiRZB9"
      },
      "source": [
        "4. Encoding categorical data\n"
      ]
    },
    {
      "cell_type": "code",
      "metadata": {
        "id": "bNql7SgGRd6z"
      },
      "source": [
        "# Encoding categorical data\n",
        "from sklearn.preprocessing import LabelEncoder\n",
        "labelencoder_X_1 = LabelEncoder()\n",
        "y = labelencoder_X_1.fit_transform(y)"
      ],
      "execution_count": null,
      "outputs": []
    },
    {
      "cell_type": "markdown",
      "metadata": {
        "id": "X3LqxJBVRf-1"
      },
      "source": [
        "5. Splitting the dataset into the Training set and Test set \n",
        "\n"
      ]
    },
    {
      "cell_type": "code",
      "metadata": {
        "id": "_QLU_RZsRiuk"
      },
      "source": [
        "#Splitting the dataset into the Training set and Test set \n",
        "from sklearn.model_selection import train_test_split\n",
        "X_train, X_test, y_train, y_test = train_test_split(X, y, test_size = 0.25, random_state = 0)"
      ],
      "execution_count": null,
      "outputs": []
    },
    {
      "cell_type": "markdown",
      "metadata": {
        "id": "xYcpnt5kZWky"
      },
      "source": [
        "6. Feature Scaling \n"
      ]
    },
    {
      "cell_type": "code",
      "metadata": {
        "id": "i_s2WEczZZRS"
      },
      "source": [
        "#Feature Scaling \n",
        "from sklearn.preprocessing import StandardScaler\n",
        "scale_X = StandardScaler()\n",
        "X_train = scale_X.fit_transform(X_train)\n",
        "X_test = scale_X.transform(X_test)"
      ],
      "execution_count": null,
      "outputs": []
    },
    {
      "cell_type": "markdown",
      "metadata": {
        "id": "3r_vzsouZcxJ"
      },
      "source": [
        "7. Importing the ANN Libraries\n"
      ]
    },
    {
      "cell_type": "code",
      "metadata": {
        "id": "3bAZPrw8ZesT"
      },
      "source": [
        "#Importing the ANN Libraries\n",
        "import keras\n",
        "from keras.models import Sequential \n",
        "from keras.layers import Dense, Dropout"
      ],
      "execution_count": null,
      "outputs": []
    },
    {
      "cell_type": "markdown",
      "metadata": {
        "id": "IAQ8SDVlZhkl"
      },
      "source": [
        "8. Intialising the ANN\n"
      ]
    },
    {
      "cell_type": "code",
      "metadata": {
        "id": "5mCid2D9ZjWX"
      },
      "source": [
        "#Intialising the ANN\n",
        "classifier = Sequential()"
      ],
      "execution_count": null,
      "outputs": []
    },
    {
      "cell_type": "markdown",
      "metadata": {
        "id": "ZvIiKVr_ZmZw"
      },
      "source": [
        "9. Adding the input layer and the first hidden layer"
      ]
    },
    {
      "cell_type": "code",
      "metadata": {
        "id": "h8HJcnIKZrWQ"
      },
      "source": [
        "# Adding the input layer and the first hidden layer\n",
        "classifier.add(Dense(activation = \"relu\", input_dim = 30, units=16,  kernel_initializer = \"uniform\"))\n",
        " # Adding the input layer and the first hidden layer\n",
        "classifier.add(Dropout(rate=0.1))"
      ],
      "execution_count": null,
      "outputs": []
    },
    {
      "cell_type": "markdown",
      "metadata": {
        "id": "8SSfLww0aAMM"
      },
      "source": [
        "10. Adding the second hidden layer\n"
      ]
    },
    {
      "cell_type": "code",
      "metadata": {
        "id": "G_wwwUxWZvhJ"
      },
      "source": [
        "# Adding the second hidden layer\n",
        "classifier.add(Dense(activation = \"relu\", units=16,  kernel_initializer  = \"uniform\"))\n",
        " # Adding dropout to prevent overfitting\n",
        "classifier.add(Dropout(rate=0.1))"
      ],
      "execution_count": null,
      "outputs": []
    },
    {
      "cell_type": "markdown",
      "metadata": {
        "id": "IH4vVjFhaE3X"
      },
      "source": [
        "11.  Adding the output layer\n",
        "\n",
        "\n"
      ]
    },
    {
      "cell_type": "code",
      "metadata": {
        "id": "e0437I44a3qw"
      },
      "source": [
        "# Adding the output layer\n",
        "classifier.add(Dense(activation = \"sigmoid\", units=1, kernel_initializer = \"uniform\"))"
      ],
      "execution_count": null,
      "outputs": []
    },
    {
      "cell_type": "markdown",
      "metadata": {
        "id": "pZQDoXXZeboI"
      },
      "source": [
        "12. Compining the ANN\n"
      ]
    },
    {
      "cell_type": "code",
      "metadata": {
        "id": "pcRTdTHwefj9"
      },
      "source": [
        "# Compining the ANN\n",
        "classifier.compile(optimizer = \"adam\", loss = \"binary_crossentropy\", metrics = [\"accuracy\"])"
      ],
      "execution_count": null,
      "outputs": []
    },
    {
      "cell_type": "markdown",
      "metadata": {
        "id": "FKhGVOPSarYk"
      },
      "source": [
        "13. Fitting the ANN to the Training set"
      ]
    },
    {
      "cell_type": "code",
      "metadata": {
        "id": "60LtBYD7aqXw",
        "colab": {
          "base_uri": "https://localhost:8080/"
        },
        "outputId": "be928974-ce61-4ab1-9a49-097761ae7a1d"
      },
      "source": [
        "# Fitting the ANN to the Training set\n",
        "classifier.fit(X_train, y_train, batch_size = 100, epochs = 150)"
      ],
      "execution_count": null,
      "outputs": [
        {
          "output_type": "stream",
          "name": "stdout",
          "text": [
            "Epoch 1/150\n",
            "5/5 [==============================] - 1s 3ms/step - loss: 0.6926 - accuracy: 0.6385\n",
            "Epoch 2/150\n",
            "5/5 [==============================] - 0s 3ms/step - loss: 0.6910 - accuracy: 0.6362\n",
            "Epoch 3/150\n",
            "5/5 [==============================] - 0s 3ms/step - loss: 0.6884 - accuracy: 0.6784\n",
            "Epoch 4/150\n",
            "5/5 [==============================] - 0s 2ms/step - loss: 0.6846 - accuracy: 0.7488\n",
            "Epoch 5/150\n",
            "5/5 [==============================] - 0s 3ms/step - loss: 0.6786 - accuracy: 0.8286\n",
            "Epoch 6/150\n",
            "5/5 [==============================] - 0s 3ms/step - loss: 0.6702 - accuracy: 0.8732\n",
            "Epoch 7/150\n",
            "5/5 [==============================] - 0s 3ms/step - loss: 0.6587 - accuracy: 0.9131\n",
            "Epoch 8/150\n",
            "5/5 [==============================] - 0s 2ms/step - loss: 0.6414 - accuracy: 0.9390\n",
            "Epoch 9/150\n",
            "5/5 [==============================] - 0s 2ms/step - loss: 0.6200 - accuracy: 0.9319\n",
            "Epoch 10/150\n",
            "5/5 [==============================] - 0s 3ms/step - loss: 0.5925 - accuracy: 0.9437\n",
            "Epoch 11/150\n",
            "5/5 [==============================] - 0s 2ms/step - loss: 0.5598 - accuracy: 0.9484\n",
            "Epoch 12/150\n",
            "5/5 [==============================] - 0s 2ms/step - loss: 0.5190 - accuracy: 0.9507\n",
            "Epoch 13/150\n",
            "5/5 [==============================] - 0s 2ms/step - loss: 0.4758 - accuracy: 0.9531\n",
            "Epoch 14/150\n",
            "5/5 [==============================] - 0s 3ms/step - loss: 0.4306 - accuracy: 0.9554\n",
            "Epoch 15/150\n",
            "5/5 [==============================] - 0s 2ms/step - loss: 0.3803 - accuracy: 0.9601\n",
            "Epoch 16/150\n",
            "5/5 [==============================] - 0s 2ms/step - loss: 0.3350 - accuracy: 0.9531\n",
            "Epoch 17/150\n",
            "5/5 [==============================] - 0s 2ms/step - loss: 0.2968 - accuracy: 0.9695\n",
            "Epoch 18/150\n",
            "5/5 [==============================] - 0s 2ms/step - loss: 0.2608 - accuracy: 0.9671\n",
            "Epoch 19/150\n",
            "5/5 [==============================] - 0s 2ms/step - loss: 0.2328 - accuracy: 0.9648\n",
            "Epoch 20/150\n",
            "5/5 [==============================] - 0s 3ms/step - loss: 0.2059 - accuracy: 0.9695\n",
            "Epoch 21/150\n",
            "5/5 [==============================] - 0s 3ms/step - loss: 0.1837 - accuracy: 0.9695\n",
            "Epoch 22/150\n",
            "5/5 [==============================] - 0s 2ms/step - loss: 0.1683 - accuracy: 0.9742\n",
            "Epoch 23/150\n",
            "5/5 [==============================] - 0s 2ms/step - loss: 0.1536 - accuracy: 0.9742\n",
            "Epoch 24/150\n",
            "5/5 [==============================] - 0s 3ms/step - loss: 0.1434 - accuracy: 0.9742\n",
            "Epoch 25/150\n",
            "5/5 [==============================] - 0s 3ms/step - loss: 0.1351 - accuracy: 0.9765\n",
            "Epoch 26/150\n",
            "5/5 [==============================] - 0s 3ms/step - loss: 0.1240 - accuracy: 0.9765\n",
            "Epoch 27/150\n",
            "5/5 [==============================] - 0s 2ms/step - loss: 0.1205 - accuracy: 0.9789\n",
            "Epoch 28/150\n",
            "5/5 [==============================] - 0s 2ms/step - loss: 0.1133 - accuracy: 0.9765\n",
            "Epoch 29/150\n",
            "5/5 [==============================] - 0s 3ms/step - loss: 0.1080 - accuracy: 0.9789\n",
            "Epoch 30/150\n",
            "5/5 [==============================] - 0s 2ms/step - loss: 0.1022 - accuracy: 0.9765\n",
            "Epoch 31/150\n",
            "5/5 [==============================] - 0s 2ms/step - loss: 0.0998 - accuracy: 0.9765\n",
            "Epoch 32/150\n",
            "5/5 [==============================] - 0s 2ms/step - loss: 0.0957 - accuracy: 0.9765\n",
            "Epoch 33/150\n",
            "5/5 [==============================] - 0s 3ms/step - loss: 0.0899 - accuracy: 0.9765\n",
            "Epoch 34/150\n",
            "5/5 [==============================] - 0s 2ms/step - loss: 0.0874 - accuracy: 0.9789\n",
            "Epoch 35/150\n",
            "5/5 [==============================] - 0s 3ms/step - loss: 0.0937 - accuracy: 0.9789\n",
            "Epoch 36/150\n",
            "5/5 [==============================] - 0s 3ms/step - loss: 0.0860 - accuracy: 0.9812\n",
            "Epoch 37/150\n",
            "5/5 [==============================] - 0s 2ms/step - loss: 0.0805 - accuracy: 0.9836\n",
            "Epoch 38/150\n",
            "5/5 [==============================] - 0s 2ms/step - loss: 0.0791 - accuracy: 0.9836\n",
            "Epoch 39/150\n",
            "5/5 [==============================] - 0s 3ms/step - loss: 0.0743 - accuracy: 0.9789\n",
            "Epoch 40/150\n",
            "5/5 [==============================] - 0s 3ms/step - loss: 0.0766 - accuracy: 0.9812\n",
            "Epoch 41/150\n",
            "5/5 [==============================] - 0s 3ms/step - loss: 0.0783 - accuracy: 0.9859\n",
            "Epoch 42/150\n",
            "5/5 [==============================] - 0s 2ms/step - loss: 0.0728 - accuracy: 0.9836\n",
            "Epoch 43/150\n",
            "5/5 [==============================] - 0s 3ms/step - loss: 0.0747 - accuracy: 0.9859\n",
            "Epoch 44/150\n",
            "5/5 [==============================] - 0s 3ms/step - loss: 0.0784 - accuracy: 0.9883\n",
            "Epoch 45/150\n",
            "5/5 [==============================] - 0s 2ms/step - loss: 0.0685 - accuracy: 0.9859\n",
            "Epoch 46/150\n",
            "5/5 [==============================] - 0s 2ms/step - loss: 0.0721 - accuracy: 0.9836\n",
            "Epoch 47/150\n",
            "5/5 [==============================] - 0s 3ms/step - loss: 0.0717 - accuracy: 0.9859\n",
            "Epoch 48/150\n",
            "5/5 [==============================] - 0s 4ms/step - loss: 0.0717 - accuracy: 0.9859\n",
            "Epoch 49/150\n",
            "5/5 [==============================] - 0s 3ms/step - loss: 0.0687 - accuracy: 0.9859\n",
            "Epoch 50/150\n",
            "5/5 [==============================] - 0s 3ms/step - loss: 0.0708 - accuracy: 0.9859\n",
            "Epoch 51/150\n",
            "5/5 [==============================] - 0s 3ms/step - loss: 0.0668 - accuracy: 0.9859\n",
            "Epoch 52/150\n",
            "5/5 [==============================] - 0s 2ms/step - loss: 0.0678 - accuracy: 0.9836\n",
            "Epoch 53/150\n",
            "5/5 [==============================] - 0s 3ms/step - loss: 0.0651 - accuracy: 0.9883\n",
            "Epoch 54/150\n",
            "5/5 [==============================] - 0s 2ms/step - loss: 0.0635 - accuracy: 0.9883\n",
            "Epoch 55/150\n",
            "5/5 [==============================] - 0s 2ms/step - loss: 0.0606 - accuracy: 0.9883\n",
            "Epoch 56/150\n",
            "5/5 [==============================] - 0s 3ms/step - loss: 0.0655 - accuracy: 0.9859\n",
            "Epoch 57/150\n",
            "5/5 [==============================] - 0s 2ms/step - loss: 0.0656 - accuracy: 0.9859\n",
            "Epoch 58/150\n",
            "5/5 [==============================] - 0s 2ms/step - loss: 0.0567 - accuracy: 0.9859\n",
            "Epoch 59/150\n",
            "5/5 [==============================] - 0s 2ms/step - loss: 0.0659 - accuracy: 0.9859\n",
            "Epoch 60/150\n",
            "5/5 [==============================] - 0s 4ms/step - loss: 0.0625 - accuracy: 0.9836\n",
            "Epoch 61/150\n",
            "5/5 [==============================] - 0s 3ms/step - loss: 0.0581 - accuracy: 0.9859\n",
            "Epoch 62/150\n",
            "5/5 [==============================] - 0s 2ms/step - loss: 0.0602 - accuracy: 0.9883\n",
            "Epoch 63/150\n",
            "5/5 [==============================] - 0s 3ms/step - loss: 0.0636 - accuracy: 0.9859\n",
            "Epoch 64/150\n",
            "5/5 [==============================] - 0s 2ms/step - loss: 0.0605 - accuracy: 0.9859\n",
            "Epoch 65/150\n",
            "5/5 [==============================] - 0s 3ms/step - loss: 0.0595 - accuracy: 0.9859\n",
            "Epoch 66/150\n",
            "5/5 [==============================] - 0s 2ms/step - loss: 0.0585 - accuracy: 0.9883\n",
            "Epoch 67/150\n",
            "5/5 [==============================] - 0s 2ms/step - loss: 0.0609 - accuracy: 0.9859\n",
            "Epoch 68/150\n",
            "5/5 [==============================] - 0s 4ms/step - loss: 0.0625 - accuracy: 0.9859\n",
            "Epoch 69/150\n",
            "5/5 [==============================] - 0s 3ms/step - loss: 0.0556 - accuracy: 0.9859\n",
            "Epoch 70/150\n",
            "5/5 [==============================] - 0s 3ms/step - loss: 0.0608 - accuracy: 0.9859\n",
            "Epoch 71/150\n",
            "5/5 [==============================] - 0s 3ms/step - loss: 0.0587 - accuracy: 0.9883\n",
            "Epoch 72/150\n",
            "5/5 [==============================] - 0s 3ms/step - loss: 0.0555 - accuracy: 0.9883\n",
            "Epoch 73/150\n",
            "5/5 [==============================] - 0s 3ms/step - loss: 0.0556 - accuracy: 0.9883\n",
            "Epoch 74/150\n",
            "5/5 [==============================] - 0s 3ms/step - loss: 0.0562 - accuracy: 0.9859\n",
            "Epoch 75/150\n",
            "5/5 [==============================] - 0s 3ms/step - loss: 0.0527 - accuracy: 0.9883\n",
            "Epoch 76/150\n",
            "5/5 [==============================] - 0s 2ms/step - loss: 0.0538 - accuracy: 0.9883\n",
            "Epoch 77/150\n",
            "5/5 [==============================] - 0s 3ms/step - loss: 0.0513 - accuracy: 0.9859\n",
            "Epoch 78/150\n",
            "5/5 [==============================] - 0s 2ms/step - loss: 0.0555 - accuracy: 0.9883\n",
            "Epoch 79/150\n",
            "5/5 [==============================] - 0s 3ms/step - loss: 0.0561 - accuracy: 0.9859\n",
            "Epoch 80/150\n",
            "5/5 [==============================] - 0s 3ms/step - loss: 0.0524 - accuracy: 0.9883\n",
            "Epoch 81/150\n",
            "5/5 [==============================] - 0s 3ms/step - loss: 0.0521 - accuracy: 0.9883\n",
            "Epoch 82/150\n",
            "5/5 [==============================] - 0s 3ms/step - loss: 0.0515 - accuracy: 0.9883\n",
            "Epoch 83/150\n",
            "5/5 [==============================] - 0s 2ms/step - loss: 0.0504 - accuracy: 0.9883\n",
            "Epoch 84/150\n",
            "5/5 [==============================] - 0s 3ms/step - loss: 0.0559 - accuracy: 0.9883\n",
            "Epoch 85/150\n",
            "5/5 [==============================] - 0s 2ms/step - loss: 0.0480 - accuracy: 0.9906\n",
            "Epoch 86/150\n",
            "5/5 [==============================] - 0s 3ms/step - loss: 0.0525 - accuracy: 0.9883\n",
            "Epoch 87/150\n",
            "5/5 [==============================] - 0s 3ms/step - loss: 0.0564 - accuracy: 0.9883\n",
            "Epoch 88/150\n",
            "5/5 [==============================] - 0s 2ms/step - loss: 0.0558 - accuracy: 0.9883\n",
            "Epoch 89/150\n",
            "5/5 [==============================] - 0s 3ms/step - loss: 0.0478 - accuracy: 0.9883\n",
            "Epoch 90/150\n",
            "5/5 [==============================] - 0s 3ms/step - loss: 0.0493 - accuracy: 0.9883\n",
            "Epoch 91/150\n",
            "5/5 [==============================] - 0s 3ms/step - loss: 0.0501 - accuracy: 0.9883\n",
            "Epoch 92/150\n",
            "5/5 [==============================] - 0s 3ms/step - loss: 0.0466 - accuracy: 0.9883\n",
            "Epoch 93/150\n",
            "5/5 [==============================] - 0s 2ms/step - loss: 0.0488 - accuracy: 0.9883\n",
            "Epoch 94/150\n",
            "5/5 [==============================] - 0s 3ms/step - loss: 0.0472 - accuracy: 0.9883\n",
            "Epoch 95/150\n",
            "5/5 [==============================] - 0s 3ms/step - loss: 0.0533 - accuracy: 0.9906\n",
            "Epoch 96/150\n",
            "5/5 [==============================] - 0s 3ms/step - loss: 0.0466 - accuracy: 0.9883\n",
            "Epoch 97/150\n",
            "5/5 [==============================] - 0s 3ms/step - loss: 0.0510 - accuracy: 0.9859\n",
            "Epoch 98/150\n",
            "5/5 [==============================] - 0s 4ms/step - loss: 0.0471 - accuracy: 0.9906\n",
            "Epoch 99/150\n",
            "5/5 [==============================] - 0s 2ms/step - loss: 0.0478 - accuracy: 0.9883\n",
            "Epoch 100/150\n",
            "5/5 [==============================] - 0s 3ms/step - loss: 0.0496 - accuracy: 0.9883\n",
            "Epoch 101/150\n",
            "5/5 [==============================] - 0s 3ms/step - loss: 0.0534 - accuracy: 0.9883\n",
            "Epoch 102/150\n",
            "5/5 [==============================] - 0s 3ms/step - loss: 0.0491 - accuracy: 0.9883\n",
            "Epoch 103/150\n",
            "5/5 [==============================] - 0s 3ms/step - loss: 0.0456 - accuracy: 0.9883\n",
            "Epoch 104/150\n",
            "5/5 [==============================] - 0s 3ms/step - loss: 0.0472 - accuracy: 0.9883\n",
            "Epoch 105/150\n",
            "5/5 [==============================] - 0s 5ms/step - loss: 0.0447 - accuracy: 0.9906\n",
            "Epoch 106/150\n",
            "5/5 [==============================] - 0s 2ms/step - loss: 0.0460 - accuracy: 0.9906\n",
            "Epoch 107/150\n",
            "5/5 [==============================] - 0s 3ms/step - loss: 0.0499 - accuracy: 0.9883\n",
            "Epoch 108/150\n",
            "5/5 [==============================] - 0s 3ms/step - loss: 0.0443 - accuracy: 0.9906\n",
            "Epoch 109/150\n",
            "5/5 [==============================] - 0s 4ms/step - loss: 0.0466 - accuracy: 0.9906\n",
            "Epoch 110/150\n",
            "5/5 [==============================] - 0s 3ms/step - loss: 0.0493 - accuracy: 0.9906\n",
            "Epoch 111/150\n",
            "5/5 [==============================] - 0s 3ms/step - loss: 0.0470 - accuracy: 0.9883\n",
            "Epoch 112/150\n",
            "5/5 [==============================] - 0s 3ms/step - loss: 0.0455 - accuracy: 0.9906\n",
            "Epoch 113/150\n",
            "5/5 [==============================] - 0s 3ms/step - loss: 0.0489 - accuracy: 0.9883\n",
            "Epoch 114/150\n",
            "5/5 [==============================] - 0s 3ms/step - loss: 0.0425 - accuracy: 0.9906\n",
            "Epoch 115/150\n",
            "5/5 [==============================] - 0s 2ms/step - loss: 0.0442 - accuracy: 0.9906\n",
            "Epoch 116/150\n",
            "5/5 [==============================] - 0s 3ms/step - loss: 0.0405 - accuracy: 0.9883\n",
            "Epoch 117/150\n",
            "5/5 [==============================] - 0s 4ms/step - loss: 0.0432 - accuracy: 0.9906\n",
            "Epoch 118/150\n",
            "5/5 [==============================] - 0s 3ms/step - loss: 0.0417 - accuracy: 0.9906\n",
            "Epoch 119/150\n",
            "5/5 [==============================] - 0s 3ms/step - loss: 0.0421 - accuracy: 0.9906\n",
            "Epoch 120/150\n",
            "5/5 [==============================] - 0s 3ms/step - loss: 0.0427 - accuracy: 0.9906\n",
            "Epoch 121/150\n",
            "5/5 [==============================] - 0s 3ms/step - loss: 0.0475 - accuracy: 0.9883\n",
            "Epoch 122/150\n",
            "5/5 [==============================] - 0s 3ms/step - loss: 0.0469 - accuracy: 0.9906\n",
            "Epoch 123/150\n",
            "5/5 [==============================] - 0s 3ms/step - loss: 0.0418 - accuracy: 0.9906\n",
            "Epoch 124/150\n",
            "5/5 [==============================] - 0s 3ms/step - loss: 0.0435 - accuracy: 0.9906\n",
            "Epoch 125/150\n",
            "5/5 [==============================] - 0s 4ms/step - loss: 0.0430 - accuracy: 0.9906\n",
            "Epoch 126/150\n",
            "5/5 [==============================] - 0s 3ms/step - loss: 0.0442 - accuracy: 0.9906\n",
            "Epoch 127/150\n",
            "5/5 [==============================] - 0s 3ms/step - loss: 0.0458 - accuracy: 0.9906\n",
            "Epoch 128/150\n",
            "5/5 [==============================] - 0s 2ms/step - loss: 0.0391 - accuracy: 0.9906\n",
            "Epoch 129/150\n",
            "5/5 [==============================] - 0s 4ms/step - loss: 0.0434 - accuracy: 0.9883\n",
            "Epoch 130/150\n",
            "5/5 [==============================] - 0s 4ms/step - loss: 0.0449 - accuracy: 0.9883\n",
            "Epoch 131/150\n",
            "5/5 [==============================] - 0s 3ms/step - loss: 0.0429 - accuracy: 0.9883\n",
            "Epoch 132/150\n",
            "5/5 [==============================] - 0s 3ms/step - loss: 0.0396 - accuracy: 0.9906\n",
            "Epoch 133/150\n",
            "5/5 [==============================] - 0s 3ms/step - loss: 0.0429 - accuracy: 0.9906\n",
            "Epoch 134/150\n",
            "5/5 [==============================] - 0s 2ms/step - loss: 0.0391 - accuracy: 0.9906\n",
            "Epoch 135/150\n",
            "5/5 [==============================] - 0s 3ms/step - loss: 0.0420 - accuracy: 0.9906\n",
            "Epoch 136/150\n",
            "5/5 [==============================] - 0s 3ms/step - loss: 0.0451 - accuracy: 0.9906\n",
            "Epoch 137/150\n",
            "5/5 [==============================] - 0s 3ms/step - loss: 0.0411 - accuracy: 0.9906\n",
            "Epoch 138/150\n",
            "5/5 [==============================] - 0s 4ms/step - loss: 0.0409 - accuracy: 0.9906\n",
            "Epoch 139/150\n",
            "5/5 [==============================] - 0s 4ms/step - loss: 0.0387 - accuracy: 0.9906\n",
            "Epoch 140/150\n",
            "5/5 [==============================] - 0s 2ms/step - loss: 0.0429 - accuracy: 0.9906\n",
            "Epoch 141/150\n",
            "5/5 [==============================] - 0s 3ms/step - loss: 0.0396 - accuracy: 0.9906\n",
            "Epoch 142/150\n",
            "5/5 [==============================] - 0s 3ms/step - loss: 0.0377 - accuracy: 0.9906\n",
            "Epoch 143/150\n",
            "5/5 [==============================] - 0s 3ms/step - loss: 0.0363 - accuracy: 0.9906\n",
            "Epoch 144/150\n",
            "5/5 [==============================] - 0s 3ms/step - loss: 0.0373 - accuracy: 0.9906\n",
            "Epoch 145/150\n",
            "5/5 [==============================] - 0s 3ms/step - loss: 0.0407 - accuracy: 0.9906\n",
            "Epoch 146/150\n",
            "5/5 [==============================] - 0s 4ms/step - loss: 0.0414 - accuracy: 0.9906\n",
            "Epoch 147/150\n",
            "5/5 [==============================] - 0s 3ms/step - loss: 0.0394 - accuracy: 0.9906\n",
            "Epoch 148/150\n",
            "5/5 [==============================] - 0s 3ms/step - loss: 0.0385 - accuracy: 0.9906\n",
            "Epoch 149/150\n",
            "5/5 [==============================] - 0s 3ms/step - loss: 0.0397 - accuracy: 0.9906\n",
            "Epoch 150/150\n",
            "5/5 [==============================] - 0s 3ms/step - loss: 0.0385 - accuracy: 0.9906\n"
          ]
        },
        {
          "output_type": "execute_result",
          "data": {
            "text/plain": [
              "<keras.callbacks.History at 0x7eff3fdfb390>"
            ]
          },
          "metadata": {},
          "execution_count": 72
        }
      ]
    },
    {
      "cell_type": "markdown",
      "metadata": {
        "id": "wRMmjCLMay2e"
      },
      "source": [
        "\n",
        "14. Predicting the Test set results\n"
      ]
    },
    {
      "cell_type": "code",
      "metadata": {
        "id": "nHBfVA8oa8TJ"
      },
      "source": [
        "# Predicting the Test set results\n",
        "y_pred = classifier.predict(X_test)\n",
        "y_pred = (y_pred > 0.5)"
      ],
      "execution_count": null,
      "outputs": []
    },
    {
      "cell_type": "markdown",
      "metadata": {
        "id": "5Lp81EHSa90X"
      },
      "source": [
        "15. Making the confusion Matrix"
      ]
    },
    {
      "cell_type": "code",
      "metadata": {
        "id": "Adcur8ihbBfZ"
      },
      "source": [
        "#Making the confusion Matrix\n",
        "from sklearn.metrics import confusion_matrix\n",
        "cm = confusion_matrix(y_test, y_pred)"
      ],
      "execution_count": null,
      "outputs": []
    }
  ]
}
