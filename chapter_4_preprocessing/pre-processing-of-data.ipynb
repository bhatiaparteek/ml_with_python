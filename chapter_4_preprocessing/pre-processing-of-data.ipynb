{
  "nbformat": 4,
  "nbformat_minor": 0,
  "metadata": {
    "colab": {
      "provenance": [],
      "include_colab_link": true
    },
    "kernelspec": {
      "name": "python3",
      "display_name": "Python 3"
    },
    "language_info": {
      "name": "python"
    }
  },
  "cells": [
    {
      "cell_type": "markdown",
      "metadata": {
        "id": "view-in-github",
        "colab_type": "text"
      },
      "source": [
        "<a href=\"https://colab.research.google.com/github/bhatiaparteek/ml_with_python/blob/main/chapter_4_preprocessing/pre-processing-of-data.ipynb\" target=\"_parent\"><img src=\"https://colab.research.google.com/assets/colab-badge.svg\" alt=\"Open In Colab\"/></a>"
      ]
    },
    {
      "cell_type": "markdown",
      "metadata": {
        "id": "rgPKJs_799tH"
      },
      "source": [
        "1. Importing the Libraries"
      ]
    },
    {
      "cell_type": "code",
      "metadata": {
        "id": "VtmDpSq7qfyd"
      },
      "source": [
        "import numpy as np\n",
        "import pandas as pd\n",
        "\n",
        "# style 1\n",
        "import matplotlib.pyplot\n",
        "from sklearn.preprocessing import StandardScaler\n",
        "# Used to perform scaling of data under pre-processing phase.\n",
        "\n",
        "from sklearn.model_selection import train_test_split\n",
        "# Used to split the dataset into training and testing.\n",
        "\n",
        "from sklearn.linear_model import LinearRegression\n",
        "# Used to perform Linear regression.\n",
        "\n",
        "from sklearn.metrics import confusion_matrix\n",
        "# Used to perform performance analysis of classifier by making a confusion matrix."
      ],
      "execution_count": 1,
      "outputs": []
    },
    {
      "cell_type": "markdown",
      "metadata": {
        "id": "sDUTwScz-n1v"
      },
      "source": [
        "\n",
        "2. Data Acquisition"
      ]
    },
    {
      "cell_type": "markdown",
      "source": [
        "This will open a file selection dialog. Choose your salary.csv file (get this from GitHub repo) and upload it."
      ],
      "metadata": {
        "id": "pSOanbruvZPn"
      }
    },
    {
      "cell_type": "code",
      "source": [
        "from google.colab import files\n",
        "\n",
        "# Upload the file from your local system\n",
        "uploaded = files.upload()"
      ],
      "metadata": {
        "id": "uGCpS58pvR6Y",
        "outputId": "70a38217-f8e6-4289-ed6c-b790c0f9e4b2",
        "colab": {
          "base_uri": "https://localhost:8080/",
          "height": 73
        }
      },
      "execution_count": 3,
      "outputs": [
        {
          "output_type": "display_data",
          "data": {
            "text/plain": [
              "<IPython.core.display.HTML object>"
            ],
            "text/html": [
              "\n",
              "     <input type=\"file\" id=\"files-383c34dc-af28-4b05-904f-0593a3b29e24\" name=\"files[]\" multiple disabled\n",
              "        style=\"border:none\" />\n",
              "     <output id=\"result-383c34dc-af28-4b05-904f-0593a3b29e24\">\n",
              "      Upload widget is only available when the cell has been executed in the\n",
              "      current browser session. Please rerun this cell to enable.\n",
              "      </output>\n",
              "      <script>// Copyright 2017 Google LLC\n",
              "//\n",
              "// Licensed under the Apache License, Version 2.0 (the \"License\");\n",
              "// you may not use this file except in compliance with the License.\n",
              "// You may obtain a copy of the License at\n",
              "//\n",
              "//      http://www.apache.org/licenses/LICENSE-2.0\n",
              "//\n",
              "// Unless required by applicable law or agreed to in writing, software\n",
              "// distributed under the License is distributed on an \"AS IS\" BASIS,\n",
              "// WITHOUT WARRANTIES OR CONDITIONS OF ANY KIND, either express or implied.\n",
              "// See the License for the specific language governing permissions and\n",
              "// limitations under the License.\n",
              "\n",
              "/**\n",
              " * @fileoverview Helpers for google.colab Python module.\n",
              " */\n",
              "(function(scope) {\n",
              "function span(text, styleAttributes = {}) {\n",
              "  const element = document.createElement('span');\n",
              "  element.textContent = text;\n",
              "  for (const key of Object.keys(styleAttributes)) {\n",
              "    element.style[key] = styleAttributes[key];\n",
              "  }\n",
              "  return element;\n",
              "}\n",
              "\n",
              "// Max number of bytes which will be uploaded at a time.\n",
              "const MAX_PAYLOAD_SIZE = 100 * 1024;\n",
              "\n",
              "function _uploadFiles(inputId, outputId) {\n",
              "  const steps = uploadFilesStep(inputId, outputId);\n",
              "  const outputElement = document.getElementById(outputId);\n",
              "  // Cache steps on the outputElement to make it available for the next call\n",
              "  // to uploadFilesContinue from Python.\n",
              "  outputElement.steps = steps;\n",
              "\n",
              "  return _uploadFilesContinue(outputId);\n",
              "}\n",
              "\n",
              "// This is roughly an async generator (not supported in the browser yet),\n",
              "// where there are multiple asynchronous steps and the Python side is going\n",
              "// to poll for completion of each step.\n",
              "// This uses a Promise to block the python side on completion of each step,\n",
              "// then passes the result of the previous step as the input to the next step.\n",
              "function _uploadFilesContinue(outputId) {\n",
              "  const outputElement = document.getElementById(outputId);\n",
              "  const steps = outputElement.steps;\n",
              "\n",
              "  const next = steps.next(outputElement.lastPromiseValue);\n",
              "  return Promise.resolve(next.value.promise).then((value) => {\n",
              "    // Cache the last promise value to make it available to the next\n",
              "    // step of the generator.\n",
              "    outputElement.lastPromiseValue = value;\n",
              "    return next.value.response;\n",
              "  });\n",
              "}\n",
              "\n",
              "/**\n",
              " * Generator function which is called between each async step of the upload\n",
              " * process.\n",
              " * @param {string} inputId Element ID of the input file picker element.\n",
              " * @param {string} outputId Element ID of the output display.\n",
              " * @return {!Iterable<!Object>} Iterable of next steps.\n",
              " */\n",
              "function* uploadFilesStep(inputId, outputId) {\n",
              "  const inputElement = document.getElementById(inputId);\n",
              "  inputElement.disabled = false;\n",
              "\n",
              "  const outputElement = document.getElementById(outputId);\n",
              "  outputElement.innerHTML = '';\n",
              "\n",
              "  const pickedPromise = new Promise((resolve) => {\n",
              "    inputElement.addEventListener('change', (e) => {\n",
              "      resolve(e.target.files);\n",
              "    });\n",
              "  });\n",
              "\n",
              "  const cancel = document.createElement('button');\n",
              "  inputElement.parentElement.appendChild(cancel);\n",
              "  cancel.textContent = 'Cancel upload';\n",
              "  const cancelPromise = new Promise((resolve) => {\n",
              "    cancel.onclick = () => {\n",
              "      resolve(null);\n",
              "    };\n",
              "  });\n",
              "\n",
              "  // Wait for the user to pick the files.\n",
              "  const files = yield {\n",
              "    promise: Promise.race([pickedPromise, cancelPromise]),\n",
              "    response: {\n",
              "      action: 'starting',\n",
              "    }\n",
              "  };\n",
              "\n",
              "  cancel.remove();\n",
              "\n",
              "  // Disable the input element since further picks are not allowed.\n",
              "  inputElement.disabled = true;\n",
              "\n",
              "  if (!files) {\n",
              "    return {\n",
              "      response: {\n",
              "        action: 'complete',\n",
              "      }\n",
              "    };\n",
              "  }\n",
              "\n",
              "  for (const file of files) {\n",
              "    const li = document.createElement('li');\n",
              "    li.append(span(file.name, {fontWeight: 'bold'}));\n",
              "    li.append(span(\n",
              "        `(${file.type || 'n/a'}) - ${file.size} bytes, ` +\n",
              "        `last modified: ${\n",
              "            file.lastModifiedDate ? file.lastModifiedDate.toLocaleDateString() :\n",
              "                                    'n/a'} - `));\n",
              "    const percent = span('0% done');\n",
              "    li.appendChild(percent);\n",
              "\n",
              "    outputElement.appendChild(li);\n",
              "\n",
              "    const fileDataPromise = new Promise((resolve) => {\n",
              "      const reader = new FileReader();\n",
              "      reader.onload = (e) => {\n",
              "        resolve(e.target.result);\n",
              "      };\n",
              "      reader.readAsArrayBuffer(file);\n",
              "    });\n",
              "    // Wait for the data to be ready.\n",
              "    let fileData = yield {\n",
              "      promise: fileDataPromise,\n",
              "      response: {\n",
              "        action: 'continue',\n",
              "      }\n",
              "    };\n",
              "\n",
              "    // Use a chunked sending to avoid message size limits. See b/62115660.\n",
              "    let position = 0;\n",
              "    do {\n",
              "      const length = Math.min(fileData.byteLength - position, MAX_PAYLOAD_SIZE);\n",
              "      const chunk = new Uint8Array(fileData, position, length);\n",
              "      position += length;\n",
              "\n",
              "      const base64 = btoa(String.fromCharCode.apply(null, chunk));\n",
              "      yield {\n",
              "        response: {\n",
              "          action: 'append',\n",
              "          file: file.name,\n",
              "          data: base64,\n",
              "        },\n",
              "      };\n",
              "\n",
              "      let percentDone = fileData.byteLength === 0 ?\n",
              "          100 :\n",
              "          Math.round((position / fileData.byteLength) * 100);\n",
              "      percent.textContent = `${percentDone}% done`;\n",
              "\n",
              "    } while (position < fileData.byteLength);\n",
              "  }\n",
              "\n",
              "  // All done.\n",
              "  yield {\n",
              "    response: {\n",
              "      action: 'complete',\n",
              "    }\n",
              "  };\n",
              "}\n",
              "\n",
              "scope.google = scope.google || {};\n",
              "scope.google.colab = scope.google.colab || {};\n",
              "scope.google.colab._files = {\n",
              "  _uploadFiles,\n",
              "  _uploadFilesContinue,\n",
              "};\n",
              "})(self);\n",
              "</script> "
            ]
          },
          "metadata": {}
        },
        {
          "output_type": "stream",
          "name": "stdout",
          "text": [
            "Saving salary.csv to salary.csv\n"
          ]
        }
      ]
    },
    {
      "cell_type": "code",
      "metadata": {
        "id": "G_krp_iwznlp",
        "outputId": "08b4d4b4-f7b7-43cd-d9b7-cdfa4ced14a7",
        "colab": {
          "base_uri": "https://localhost:8080/"
        }
      },
      "source": [
        "#----------------------------------Reading the dataset-----------------------\n",
        "dataset = pd.read_csv('salary.csv')\n",
        "# pd is the alias of the Pandas library imported.\n",
        "X = dataset.iloc[:, :-1].values\n",
        "Y = dataset.iloc[:,3].values\n",
        "print(X)\n",
        "print(Y)"
      ],
      "execution_count": 5,
      "outputs": [
        {
          "output_type": "stream",
          "name": "stdout",
          "text": [
            "[['Hyderabad' 44.0 72000.0]\n",
            " ['Mumbai' 27.0 48000.0]\n",
            " ['Delhi' 30.0 54000.0]\n",
            " ['Mumbai' 38.0 61000.0]\n",
            " ['Delhi' 40.0 nan]\n",
            " ['Hyderabad' 35.0 58000.0]\n",
            " ['Mumbai' nan 52000.0]\n",
            " ['Hyderabad' 48.0 79000.0]\n",
            " ['Delhi' 50.0 83000.0]\n",
            " ['Hyderabad' 37.0 67000.0]]\n",
            "['No' 'Yes' 'No' 'No' 'Yes' 'Yes' 'No' 'Yes' 'No' 'Yes']\n"
          ]
        }
      ]
    },
    {
      "cell_type": "markdown",
      "metadata": {
        "id": "2wY7ULEDB6bW"
      },
      "source": [
        "\n",
        "3. Taking care of missing data\n",
        "\n"
      ]
    },
    {
      "cell_type": "code",
      "metadata": {
        "id": "oM9IfLA0B9d5",
        "outputId": "d4da28e4-7292-4364-cde7-9c4f746a5b2d",
        "colab": {
          "base_uri": "https://localhost:8080/"
        }
      },
      "source": [
        "# handling of missing data\n",
        "from sklearn.impute import SimpleImputer\n",
        "imputer = SimpleImputer(missing_values = np.nan, strategy = 'mean')\n",
        "imputer = imputer.fit(X[:,1:3])\n",
        "X[:,1:3] = imputer.transform(X[:,1:3])\n",
        "print(X)"
      ],
      "execution_count": 6,
      "outputs": [
        {
          "output_type": "stream",
          "name": "stdout",
          "text": [
            "[['Hyderabad' 44.0 72000.0]\n",
            " ['Mumbai' 27.0 48000.0]\n",
            " ['Delhi' 30.0 54000.0]\n",
            " ['Mumbai' 38.0 61000.0]\n",
            " ['Delhi' 40.0 63777.77777777778]\n",
            " ['Hyderabad' 35.0 58000.0]\n",
            " ['Mumbai' 38.77777777777778 52000.0]\n",
            " ['Hyderabad' 48.0 79000.0]\n",
            " ['Delhi' 50.0 83000.0]\n",
            " ['Hyderabad' 37.0 67000.0]]\n"
          ]
        }
      ]
    },
    {
      "cell_type": "markdown",
      "metadata": {
        "id": "lHCnzaq0CFun"
      },
      "source": [
        "4. Encoding categorical data\n"
      ]
    },
    {
      "cell_type": "code",
      "metadata": {
        "id": "lr3oQustGRke",
        "outputId": "7ec955ee-ef69-4bf7-b5df-cfb22e29c398",
        "colab": {
          "base_uri": "https://localhost:8080/"
        }
      },
      "source": [
        "#label encoding categorical attribute city\n",
        "from sklearn.preprocessing import LabelEncoder\n",
        "labelEncoder_X = LabelEncoder()\n",
        "X[:, 0] = labelEncoder_X.fit_transform(X[:, 0])\n",
        "print(X[:, 0])"
      ],
      "execution_count": 7,
      "outputs": [
        {
          "output_type": "stream",
          "name": "stdout",
          "text": [
            "[1 2 0 2 0 1 2 1 0 1]\n"
          ]
        }
      ]
    },
    {
      "cell_type": "markdown",
      "source": [
        "5. One-hot encoding on categorical data"
      ],
      "metadata": {
        "id": "4Uf6lazB4sLR"
      }
    },
    {
      "cell_type": "code",
      "source": [
        "#One-hot encoding categorical attribute city\n",
        "from sklearn.preprocessing import OneHotEncoder\n",
        "from sklearn.compose import ColumnTransformer\n",
        "ct = ColumnTransformer(transformers=[('encoder', OneHotEncoder(), [0])], remainder='passthrough')\n",
        "X = np.array(ct.fit_transform(X))\n",
        "print(X)\n",
        "#Alternate way to do One-hot encoding is mentioned in the end of this file"
      ],
      "metadata": {
        "id": "hiu-GeSU4lw-",
        "outputId": "09bb1593-8f6f-4fcd-dab3-46b989fe6a34",
        "colab": {
          "base_uri": "https://localhost:8080/"
        }
      },
      "execution_count": 8,
      "outputs": [
        {
          "output_type": "stream",
          "name": "stdout",
          "text": [
            "[[0.0 1.0 0.0 44.0 72000.0]\n",
            " [0.0 0.0 1.0 27.0 48000.0]\n",
            " [1.0 0.0 0.0 30.0 54000.0]\n",
            " [0.0 0.0 1.0 38.0 61000.0]\n",
            " [1.0 0.0 0.0 40.0 63777.77777777778]\n",
            " [0.0 1.0 0.0 35.0 58000.0]\n",
            " [0.0 0.0 1.0 38.77777777777778 52000.0]\n",
            " [0.0 1.0 0.0 48.0 79000.0]\n",
            " [1.0 0.0 0.0 50.0 83000.0]\n",
            " [0.0 1.0 0.0 37.0 67000.0]]\n"
          ]
        }
      ]
    },
    {
      "cell_type": "markdown",
      "source": [
        "6. Lable encoding on purchased attribute"
      ],
      "metadata": {
        "id": "d3K-f_bW5Ceo"
      }
    },
    {
      "cell_type": "code",
      "source": [
        "#label encoding purchased attribute\n",
        "labelEncoder_Y = LabelEncoder()\n",
        "Y = labelEncoder_Y.fit_transform(Y)\n",
        "print(Y)"
      ],
      "metadata": {
        "id": "24VX8DNV5KkW",
        "outputId": "e9b109e4-bfeb-4415-c91a-b5ac7c6e2782",
        "colab": {
          "base_uri": "https://localhost:8080/"
        }
      },
      "execution_count": 9,
      "outputs": [
        {
          "output_type": "stream",
          "name": "stdout",
          "text": [
            "[0 1 0 0 1 1 0 1 0 1]\n"
          ]
        }
      ]
    },
    {
      "cell_type": "markdown",
      "metadata": {
        "id": "rcwi2CU4GTlW"
      },
      "source": [
        "7. Splitting of Dataset into training and testing\n"
      ]
    },
    {
      "cell_type": "code",
      "metadata": {
        "id": "W1MmI-62GYf6",
        "outputId": "9a932d3a-a1f1-4282-bf7b-fc2d1f741145",
        "colab": {
          "base_uri": "https://localhost:8080/"
        }
      },
      "source": [
        "#Splitting of Dataset into training and testing\n",
        "from sklearn.model_selection import train_test_split\n",
        "X_train, X_test, Y_train, Y_test = train_test_split(X, Y, test_size = 0.2, random_state = 0)\n",
        "print(X_train)\n",
        "print(X_test)\n",
        "print(Y_train)\n",
        "print(Y_test)\n"
      ],
      "execution_count": 10,
      "outputs": [
        {
          "output_type": "stream",
          "name": "stdout",
          "text": [
            "[[1.0 0.0 0.0 40.0 63777.77777777778]\n",
            " [0.0 1.0 0.0 37.0 67000.0]\n",
            " [0.0 0.0 1.0 27.0 48000.0]\n",
            " [0.0 0.0 1.0 38.77777777777778 52000.0]\n",
            " [0.0 1.0 0.0 48.0 79000.0]\n",
            " [0.0 0.0 1.0 38.0 61000.0]\n",
            " [0.0 1.0 0.0 44.0 72000.0]\n",
            " [0.0 1.0 0.0 35.0 58000.0]]\n",
            "[[1.0 0.0 0.0 30.0 54000.0]\n",
            " [1.0 0.0 0.0 50.0 83000.0]]\n",
            "[1 1 1 0 1 0 0 1]\n",
            "[0 0]\n"
          ]
        }
      ]
    },
    {
      "cell_type": "markdown",
      "metadata": {
        "id": "ytihsZOrGVzv"
      },
      "source": [
        "#Feature Scaling"
      ]
    },
    {
      "cell_type": "code",
      "metadata": {
        "id": "CJCAFYtzGeOe",
        "outputId": "a1c2400d-4090-4388-f9a7-98a135fdb154",
        "colab": {
          "base_uri": "https://localhost:8080/"
        }
      },
      "source": [
        "#Feature Scaling\n",
        "from sklearn import preprocessing\n",
        "X_train = preprocessing.normalize(X_train, norm='l1')\n",
        "X_test = preprocessing.normalize(X_test, norm='l1')\n",
        "print(X_train)\n",
        "print(X_test)"
      ],
      "execution_count": 11,
      "outputs": [
        {
          "output_type": "stream",
          "name": "stdout",
          "text": [
            "[[1.56693693e-05 0.00000000e+00 0.00000000e+00 6.26774774e-04\n",
            "  9.99357556e-01]\n",
            " [0.00000000e+00 1.49169128e-05 0.00000000e+00 5.51925773e-04\n",
            "  9.99433157e-01]\n",
            " [0.00000000e+00 0.00000000e+00 2.08211876e-05 5.62172066e-04\n",
            "  9.99417007e-01]\n",
            " [0.00000000e+00 0.00000000e+00 1.92160698e-05 7.45156483e-04\n",
            "  9.99235627e-01]\n",
            " [0.00000000e+00 1.26503814e-05 0.00000000e+00 6.07218308e-04\n",
            "  9.99380131e-01]\n",
            " [0.00000000e+00 0.00000000e+00 1.63829683e-05 6.22552794e-04\n",
            "  9.99361064e-01]\n",
            " [0.00000000e+00 1.38802138e-05 0.00000000e+00 6.10729405e-04\n",
            "  9.99375390e-01]\n",
            " [0.00000000e+00 1.72306844e-05 0.00000000e+00 6.03073954e-04\n",
            "  9.99379695e-01]]\n",
            "[[1.85078936e-05 0.00000000e+00 0.00000000e+00 5.55236808e-04\n",
            "  9.99426255e-01]\n",
            " [1.20407942e-05 0.00000000e+00 0.00000000e+00 6.02039711e-04\n",
            "  9.99385919e-01]]\n"
          ]
        }
      ]
    },
    {
      "cell_type": "markdown",
      "metadata": {
        "id": "PIDroYnuGqQX"
      },
      "source": [
        "Standardizing the data"
      ]
    },
    {
      "cell_type": "code",
      "metadata": {
        "id": "yvCqz_JOGqgS",
        "outputId": "ecfbe0f3-1d52-4145-9e3a-7ad03d4ac3a9",
        "colab": {
          "base_uri": "https://localhost:8080/"
        }
      },
      "source": [
        "#Standardizing the data\n",
        "#lets do split again as we have already applied normalization on X_train and X_test\n",
        "from sklearn.model_selection import train_test_split\n",
        "X_train, X_test, Y_train, Y_test = train_test_split(X, Y, test_size = 0.2, random_state = 0)\n",
        "#apply standarization\n",
        "from sklearn.preprocessing import StandardScaler\n",
        "scale_X = StandardScaler()\n",
        "X_train = scale_X.fit_transform(X_train)\n",
        "X_test = scale_X.transform(X_test)\n",
        "print(X_train)\n",
        "print(X_test)"
      ],
      "execution_count": 12,
      "outputs": [
        {
          "output_type": "stream",
          "name": "stdout",
          "text": [
            "[[ 2.64575131 -1.         -0.77459667  0.26306757  0.12381479]\n",
            " [-0.37796447  1.         -0.77459667 -0.25350148  0.46175632]\n",
            " [-0.37796447 -1.          1.29099445 -1.97539832 -1.53093341]\n",
            " [-0.37796447 -1.          1.29099445  0.05261351 -1.11141978]\n",
            " [-0.37796447  1.         -0.77459667  1.64058505  1.7202972 ]\n",
            " [-0.37796447 -1.          1.29099445 -0.0813118  -0.16751412]\n",
            " [-0.37796447  1.         -0.77459667  0.95182631  0.98614835]\n",
            " [-0.37796447  1.         -0.77459667 -0.59788085 -0.48214934]]\n",
            "[[ 2.64575131 -1.         -0.77459667 -1.45882927 -0.90166297]\n",
            " [ 2.64575131 -1.         -0.77459667  1.98496442  2.13981082]]\n"
          ]
        }
      ]
    },
    {
      "cell_type": "markdown",
      "source": [
        "Alternate way to do One-hot encoding"
      ],
      "metadata": {
        "id": "pFYk-s-06siC"
      }
    },
    {
      "cell_type": "code",
      "source": [
        "#Alternate way to do One-hot encoding\n",
        "#Importing of desired libraries\n",
        "import numpy as np\n",
        "import pandas as pd\n",
        "#---------------------------Reading the dataset----------------------\n",
        "dataset = pd.read_csv('salary.csv')\n",
        "# pd is the alias of the Pandas library imported.\n",
        "dataset = pd.get_dummies(dataset, columns=[\"City\"], drop_first=True)\n",
        "print(dataset)"
      ],
      "metadata": {
        "id": "g04CxliA52VX",
        "outputId": "67b641fa-6733-443f-bbac-e53cf0181181",
        "colab": {
          "base_uri": "https://localhost:8080/"
        }
      },
      "execution_count": 13,
      "outputs": [
        {
          "output_type": "stream",
          "name": "stdout",
          "text": [
            "    Age   Salary Purchased  City_Hyderabad  City_Mumbai\n",
            "0  44.0  72000.0        No            True        False\n",
            "1  27.0  48000.0       Yes           False         True\n",
            "2  30.0  54000.0        No           False        False\n",
            "3  38.0  61000.0        No           False         True\n",
            "4  40.0      NaN       Yes           False        False\n",
            "5  35.0  58000.0       Yes            True        False\n",
            "6   NaN  52000.0        No           False         True\n",
            "7  48.0  79000.0       Yes            True        False\n",
            "8  50.0  83000.0        No           False        False\n",
            "9  37.0  67000.0       Yes            True        False\n"
          ]
        }
      ]
    }
  ]
}