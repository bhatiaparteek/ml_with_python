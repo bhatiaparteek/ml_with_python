{
  "nbformat": 4,
  "nbformat_minor": 0,
  "metadata": {
    "colab": {
      "name": "Chapter 4: - Pre-Processing of Data  new code",
      "provenance": [],
      "collapsed_sections": [],
      "include_colab_link": true
    },
    "kernelspec": {
      "name": "python3",
      "display_name": "Python 3"
    },
    "language_info": {
      "name": "python"
    }
  },
  "cells": [
    {
      "cell_type": "markdown",
      "metadata": {
        "id": "view-in-github",
        "colab_type": "text"
      },
      "source": [
        "<a href=\"https://colab.research.google.com/github/Sukhi02/ML-Content/blob/main/Chapter%204%20Pre-processing%20of%20Data/Chapter_4_Pre_Processing_of_Data_colab.ipynb\" target=\"_parent\"><img src=\"https://colab.research.google.com/assets/colab-badge.svg\" alt=\"Open In Colab\"/></a>"
      ]
    },
    {
      "cell_type": "markdown",
      "metadata": {
        "id": "rgPKJs_799tH"
      },
      "source": [
        "1. Importing the Libraries"
      ]
    },
    {
      "cell_type": "code",
      "metadata": {
        "id": "VtmDpSq7qfyd"
      },
      "source": [
        "import numpy as np\n",
        "import pandas as pd\n",
        "\n",
        "# style 1\n",
        "import matplotlib.pyplot\n",
        "from sklearn.preprocessing import StandardScaler\n",
        "# Used to perform scaling of data under pre-processing phase.\n",
        "\n",
        "from sklearn.model_selection import train_test_split\n",
        "# Used to split the dataset into training and testing.\n",
        "\n",
        "from sklearn.linear_model import LinearRegression\n",
        "# Used to perform Linear regression.\n",
        "\n",
        "from sklearn.metrics import confusion_matrix\n",
        "# Used to perform performance analysis of classifier by making a confusion matrix."
      ],
      "execution_count": 4,
      "outputs": []
    },
    {
      "cell_type": "markdown",
      "metadata": {
        "id": "sDUTwScz-n1v"
      },
      "source": [
        "\n",
        "2. Data Acquisition"
      ]
    },
    {
      "cell_type": "code",
      "metadata": {
        "colab": {
          "base_uri": "https://localhost:8080/"
        },
        "id": "G_krp_iwznlp",
        "outputId": "61e5c4df-75f0-40a0-d0e3-e3c3d43fe7ae"
      },
      "source": [
        "#Mounting Google Drive\n",
        "from google.colab import drive\n",
        "drive.mount('/content/drive')"
      ],
      "execution_count": 5,
      "outputs": [
        {
          "output_type": "stream",
          "name": "stdout",
          "text": [
            "Drive already mounted at /content/drive; to attempt to forcibly remount, call drive.mount(\"/content/drive\", force_remount=True).\n"
          ]
        }
      ]
    },
    {
      "cell_type": "code",
      "metadata": {
        "id": "1v4Jt8xHS7Il"
      },
      "source": [
        "URL_GD = '/content/drive/MyDrive/CHapter ML/salary.csv'\n",
        "dataset = pd.read_csv(URL_GD)\n",
        "# pd is the alias of the Pandas library imported.\n",
        "X = dataset.iloc[:, :-1].values\n",
        "Y = dataset.iloc[:,3].values"
      ],
      "execution_count": 6,
      "outputs": []
    },
    {
      "cell_type": "markdown",
      "metadata": {
        "id": "2wY7ULEDB6bW"
      },
      "source": [
        "\n",
        "3. Taking care of missing data\n",
        "\n",
        "\t"
      ]
    },
    {
      "cell_type": "code",
      "metadata": {
        "id": "oM9IfLA0B9d5"
      },
      "source": [
        "#Taking care of missing data\n",
        "from sklearn.impute import SimpleImputer\n",
        "Imputer = SimpleImputer(missing_values = np.nan, strategy = 'mean')\n",
        "Imputer = Imputer.fit(X[:,1:3])\n",
        "X[:,1:3] = Imputer.transform(X[:,1:3])"
      ],
      "execution_count": 7,
      "outputs": []
    },
    {
      "cell_type": "markdown",
      "metadata": {
        "id": "lHCnzaq0CFun"
      },
      "source": [
        "4. Encoding categorical data\n"
      ]
    },
    {
      "cell_type": "code",
      "metadata": {
        "id": "lr3oQustGRke"
      },
      "source": [
        "#encoding categorical data\n",
        "from sklearn.preprocessing import LabelEncoder\n",
        "labelEncoder_X = LabelEncoder()\n",
        "X[:, 0] = labelEncoder_X.fit_transform(X[:, 0])\n",
        "\n",
        "from sklearn.preprocessing import OneHotEncoder\n",
        "from sklearn.compose import ColumnTransformer\n",
        "ct = ColumnTransformer([('country', OneHotEncoder(), [0])])\n",
        "\n",
        "labelEncoder_Y = LabelEncoder()\n",
        "Y = labelEncoder_Y.fit_transform(Y)"
      ],
      "execution_count": 8,
      "outputs": []
    },
    {
      "cell_type": "markdown",
      "metadata": {
        "id": "rcwi2CU4GTlW"
      },
      "source": [
        "Splitting of Dataset into training and testing\n"
      ]
    },
    {
      "cell_type": "code",
      "metadata": {
        "id": "W1MmI-62GYf6"
      },
      "source": [
        "#Splitting of Dataset into training and testing\n",
        "from sklearn.model_selection import train_test_split\n",
        "X_train, X_test, Y_train, Y_test = train_test_split(X, Y, test_size = 0.2, random_state = 0)\n"
      ],
      "execution_count": 9,
      "outputs": []
    },
    {
      "cell_type": "markdown",
      "metadata": {
        "id": "ytihsZOrGVzv"
      },
      "source": [
        "#Feature Scaling"
      ]
    },
    {
      "cell_type": "code",
      "metadata": {
        "id": "CJCAFYtzGeOe"
      },
      "source": [
        "#Feature Scaling\n",
        "from sklearn import preprocessing\n",
        "X_train = preprocessing.normalize(X_train, norm='l1')\n",
        "X_test = preprocessing.normalize(X_test, norm='l1')"
      ],
      "execution_count": 10,
      "outputs": []
    },
    {
      "cell_type": "markdown",
      "metadata": {
        "id": "PIDroYnuGqQX"
      },
      "source": [
        "Standardizing the data"
      ]
    },
    {
      "cell_type": "code",
      "metadata": {
        "id": "yvCqz_JOGqgS"
      },
      "source": [
        "\n",
        "#Standardizing the data\n",
        "from sklearn.preprocessing import StandardScaler\n",
        "scale_X = StandardScaler()\n",
        "X_train = scale_X.fit_transform(X_train) \n",
        "X_test = scale_X.transform(X_test)"
      ],
      "execution_count": 11,
      "outputs": []
    }
  ]
}
