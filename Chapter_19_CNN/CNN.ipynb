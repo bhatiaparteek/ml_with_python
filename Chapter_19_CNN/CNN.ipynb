{
  "nbformat": 4,
  "nbformat_minor": 0,
  "metadata": {
    "colab": {
      "name": "CNN",
      "provenance": [],
      "include_colab_link": true
    },
    "kernelspec": {
      "name": "python3",
      "display_name": "Python 3"
    },
    "language_info": {
      "name": "python"
    },
    "accelerator": "GPU"
  },
  "cells": [
    {
      "cell_type": "markdown",
      "metadata": {
        "id": "view-in-github",
        "colab_type": "text"
      },
      "source": [
        "<a href=\"https://colab.research.google.com/github/bhatiaparteek/ml_with_python/blob/main/CNN.ipynb\" target=\"_parent\"><img src=\"https://colab.research.google.com/assets/colab-badge.svg\" alt=\"Open In Colab\"/></a>"
      ]
    },
    {
      "cell_type": "code",
      "execution_count": 1,
      "metadata": {
        "colab": {
          "base_uri": "https://localhost:8080/",
          "height": 36
        },
        "id": "GnPi2914kyeb",
        "outputId": "93aefb79-d92c-42b9-b84f-1ff40a9f2d17"
      },
      "outputs": [
        {
          "output_type": "execute_result",
          "data": {
            "text/plain": [
              "'/device:GPU:0'"
            ],
            "application/vnd.google.colaboratory.intrinsic+json": {
              "type": "string"
            }
          },
          "metadata": {},
          "execution_count": 1
        }
      ],
      "source": [
        "import tensorflow as tf\n",
        "tf.test.gpu_device_name()"
      ]
    },
    {
      "cell_type": "code",
      "source": [
        "from keras.models import Sequential\n",
        "from keras.layers import Conv2D\n",
        "from keras.layers  import MaxPooling2D\n",
        "from keras.layers  import Flatten\n",
        "from keras.layers  import Dense\n",
        "from keras.preprocessing.image import ImageDataGenerator"
      ],
      "metadata": {
        "id": "sauxqgV6lDSm"
      },
      "execution_count": 2,
      "outputs": []
    },
    {
      "cell_type": "code",
      "source": [
        "from google.colab import drive\n",
        "\n",
        "drive.mount('/content/gdrive', force_remount=True)"
      ],
      "metadata": {
        "colab": {
          "base_uri": "https://localhost:8080/"
        },
        "id": "L_kUZTPM56BQ",
        "outputId": "904f1c4e-ca7a-4c31-8f2d-885956ff9426"
      },
      "execution_count": 2,
      "outputs": [
        {
          "output_type": "stream",
          "name": "stdout",
          "text": [
            "Mounted at /content/gdrive\n"
          ]
        }
      ]
    },
    {
      "cell_type": "code",
      "source": [
        "#Initialising the CNN\n",
        "classifier = Sequential()"
      ],
      "metadata": {
        "id": "6wM88LOelAQ9"
      },
      "execution_count": 13,
      "outputs": []
    },
    {
      "cell_type": "code",
      "source": [
        "#Convolution\n",
        "\n",
        "#classifier.add(Conv2D(filters=32, kernel_size=3,  activation='relu' ,  input_shape=[128,  128,  3]))\n",
        "classifier.add(Conv2D(32, (3, 3), input_shape = (128, 128, 3), activation = 'relu'))\n",
        "\n"
      ],
      "metadata": {
        "id": "nyeoSAXrl5Xv"
      },
      "execution_count": 15,
      "outputs": []
    },
    {
      "cell_type": "code",
      "source": [
        "# Pooling\n",
        "#classifier.add(MaxPooling2D(pool_size=2, strides=2) ) \n",
        "classifier.add(MaxPooling2D(pool_size = (2, 2)))"
      ],
      "metadata": {
        "id": "nFykLLk_mJLP"
      },
      "execution_count": 16,
      "outputs": []
    },
    {
      "cell_type": "code",
      "source": [
        "# Flattening\n",
        "classifier.add(Flatten())"
      ],
      "metadata": {
        "id": "F-lZVDeNmRIL"
      },
      "execution_count": 6,
      "outputs": []
    },
    {
      "cell_type": "code",
      "source": [
        "#Full Connection\n",
        "classifier.add(Dense(units=128,  activation='relu'))"
      ],
      "metadata": {
        "id": "Ce-4J0q1mXyN"
      },
      "execution_count": 7,
      "outputs": []
    },
    {
      "cell_type": "code",
      "source": [
        "# Output Layer\n",
        "classifier.add(Dense(units=1, activation='sigmoid'))"
      ],
      "metadata": {
        "id": "nlBJ1A8emvuZ"
      },
      "execution_count": 8,
      "outputs": []
    },
    {
      "cell_type": "code",
      "source": [
        "# Compiling the CNN\n",
        "classifier.compile( optimizer = 'adam' , loss = 'binary_crossentropy' , metrics =  ['accuracy' ])"
      ],
      "metadata": {
        "id": "wxDhZ6C-nJWr"
      },
      "execution_count": 9,
      "outputs": []
    },
    {
      "cell_type": "code",
      "source": [
        "# Image Augmentation\n",
        "train_datagen = ImageDataGenerator(\n",
        "rescale=1. /255,\n",
        "shear_range=0.2,\n",
        "zoom_range=0.2,\n",
        "horizontal_flip=True)"
      ],
      "metadata": {
        "id": "3gANO1NNncVm"
      },
      "execution_count": 10,
      "outputs": []
    },
    {
      "cell_type": "code",
      "source": [
        "training_set = train_datagen.flow_from_directory('/content/drive/MyDrive/dogs-vs-cats/train' ,\n",
        "                                target_size=(128, 128) ,\n",
        "                                batch_size=32,\n",
        "                                class_mode='binary')\n"
      ],
      "metadata": {
        "colab": {
          "base_uri": "https://localhost:8080/",
          "height": 444
        },
        "id": "jzayinTHnqoI",
        "outputId": "3aacaa90-22ed-4298-9348-c4343c01d6e8"
      },
      "execution_count": 11,
      "outputs": [
        {
          "output_type": "error",
          "ename": "FileNotFoundError",
          "evalue": "ignored",
          "traceback": [
            "\u001b[0;31m---------------------------------------------------------------------------\u001b[0m",
            "\u001b[0;31mFileNotFoundError\u001b[0m                         Traceback (most recent call last)",
            "\u001b[0;32m<ipython-input-11-82a2142f57b2>\u001b[0m in \u001b[0;36m<module>\u001b[0;34m()\u001b[0m\n\u001b[1;32m      2\u001b[0m                                 \u001b[0mtarget_size\u001b[0m\u001b[0;34m=\u001b[0m\u001b[0;34m(\u001b[0m\u001b[0;36m128\u001b[0m\u001b[0;34m,\u001b[0m \u001b[0;36m128\u001b[0m\u001b[0;34m)\u001b[0m \u001b[0;34m,\u001b[0m\u001b[0;34m\u001b[0m\u001b[0;34m\u001b[0m\u001b[0m\n\u001b[1;32m      3\u001b[0m                                 \u001b[0mbatch_size\u001b[0m\u001b[0;34m=\u001b[0m\u001b[0;36m32\u001b[0m\u001b[0;34m,\u001b[0m\u001b[0;34m\u001b[0m\u001b[0;34m\u001b[0m\u001b[0m\n\u001b[0;32m----> 4\u001b[0;31m                                 class_mode='binary')\n\u001b[0m",
            "\u001b[0;32m/usr/local/lib/python3.7/dist-packages/keras/preprocessing/image.py\u001b[0m in \u001b[0;36mflow_from_directory\u001b[0;34m(self, directory, target_size, color_mode, classes, class_mode, batch_size, shuffle, seed, save_to_dir, save_prefix, save_format, follow_links, subset, interpolation)\u001b[0m\n\u001b[1;32m    990\u001b[0m         \u001b[0mfollow_links\u001b[0m\u001b[0;34m=\u001b[0m\u001b[0mfollow_links\u001b[0m\u001b[0;34m,\u001b[0m\u001b[0;34m\u001b[0m\u001b[0;34m\u001b[0m\u001b[0m\n\u001b[1;32m    991\u001b[0m         \u001b[0msubset\u001b[0m\u001b[0;34m=\u001b[0m\u001b[0msubset\u001b[0m\u001b[0;34m,\u001b[0m\u001b[0;34m\u001b[0m\u001b[0;34m\u001b[0m\u001b[0m\n\u001b[0;32m--> 992\u001b[0;31m         interpolation=interpolation)\n\u001b[0m\u001b[1;32m    993\u001b[0m \u001b[0;34m\u001b[0m\u001b[0m\n\u001b[1;32m    994\u001b[0m   def flow_from_dataframe(self,\n",
            "\u001b[0;32m/usr/local/lib/python3.7/dist-packages/keras/preprocessing/image.py\u001b[0m in \u001b[0;36m__init__\u001b[0;34m(self, directory, image_data_generator, target_size, color_mode, classes, class_mode, batch_size, shuffle, seed, data_format, save_to_dir, save_prefix, save_format, follow_links, subset, interpolation, dtype)\u001b[0m\n\u001b[1;32m    408\u001b[0m         \u001b[0msubset\u001b[0m\u001b[0;34m=\u001b[0m\u001b[0msubset\u001b[0m\u001b[0;34m,\u001b[0m\u001b[0;34m\u001b[0m\u001b[0;34m\u001b[0m\u001b[0m\n\u001b[1;32m    409\u001b[0m         \u001b[0minterpolation\u001b[0m\u001b[0;34m=\u001b[0m\u001b[0minterpolation\u001b[0m\u001b[0;34m,\u001b[0m\u001b[0;34m\u001b[0m\u001b[0;34m\u001b[0m\u001b[0m\n\u001b[0;32m--> 410\u001b[0;31m         **kwargs)\n\u001b[0m\u001b[1;32m    411\u001b[0m \u001b[0;34m\u001b[0m\u001b[0m\n\u001b[1;32m    412\u001b[0m \u001b[0;34m\u001b[0m\u001b[0m\n",
            "\u001b[0;32m/usr/local/lib/python3.7/dist-packages/keras_preprocessing/image/directory_iterator.py\u001b[0m in \u001b[0;36m__init__\u001b[0;34m(self, directory, image_data_generator, target_size, color_mode, classes, class_mode, batch_size, shuffle, seed, data_format, save_to_dir, save_prefix, save_format, follow_links, subset, interpolation, dtype)\u001b[0m\n\u001b[1;32m    113\u001b[0m         \u001b[0;32mif\u001b[0m \u001b[0;32mnot\u001b[0m \u001b[0mclasses\u001b[0m\u001b[0;34m:\u001b[0m\u001b[0;34m\u001b[0m\u001b[0;34m\u001b[0m\u001b[0m\n\u001b[1;32m    114\u001b[0m             \u001b[0mclasses\u001b[0m \u001b[0;34m=\u001b[0m \u001b[0;34m[\u001b[0m\u001b[0;34m]\u001b[0m\u001b[0;34m\u001b[0m\u001b[0;34m\u001b[0m\u001b[0m\n\u001b[0;32m--> 115\u001b[0;31m             \u001b[0;32mfor\u001b[0m \u001b[0msubdir\u001b[0m \u001b[0;32min\u001b[0m \u001b[0msorted\u001b[0m\u001b[0;34m(\u001b[0m\u001b[0mos\u001b[0m\u001b[0;34m.\u001b[0m\u001b[0mlistdir\u001b[0m\u001b[0;34m(\u001b[0m\u001b[0mdirectory\u001b[0m\u001b[0;34m)\u001b[0m\u001b[0;34m)\u001b[0m\u001b[0;34m:\u001b[0m\u001b[0;34m\u001b[0m\u001b[0;34m\u001b[0m\u001b[0m\n\u001b[0m\u001b[1;32m    116\u001b[0m                 \u001b[0;32mif\u001b[0m \u001b[0mos\u001b[0m\u001b[0;34m.\u001b[0m\u001b[0mpath\u001b[0m\u001b[0;34m.\u001b[0m\u001b[0misdir\u001b[0m\u001b[0;34m(\u001b[0m\u001b[0mos\u001b[0m\u001b[0;34m.\u001b[0m\u001b[0mpath\u001b[0m\u001b[0;34m.\u001b[0m\u001b[0mjoin\u001b[0m\u001b[0;34m(\u001b[0m\u001b[0mdirectory\u001b[0m\u001b[0;34m,\u001b[0m \u001b[0msubdir\u001b[0m\u001b[0;34m)\u001b[0m\u001b[0;34m)\u001b[0m\u001b[0;34m:\u001b[0m\u001b[0;34m\u001b[0m\u001b[0;34m\u001b[0m\u001b[0m\n\u001b[1;32m    117\u001b[0m                     \u001b[0mclasses\u001b[0m\u001b[0;34m.\u001b[0m\u001b[0mappend\u001b[0m\u001b[0;34m(\u001b[0m\u001b[0msubdir\u001b[0m\u001b[0;34m)\u001b[0m\u001b[0;34m\u001b[0m\u001b[0;34m\u001b[0m\u001b[0m\n",
            "\u001b[0;31mFileNotFoundError\u001b[0m: [Errno 2] No such file or directory: '/content/drive/MyDrive/dogs-vs-cats/train'"
          ]
        }
      ]
    },
    {
      "cell_type": "code",
      "source": [
        "from google.colab import drive\n",
        "drive.mount('/content/drive')"
      ],
      "metadata": {
        "id": "kgtlt7S2636P"
      },
      "execution_count": null,
      "outputs": []
    },
    {
      "cell_type": "code",
      "source": [
        "#Image Augmentation of Test Data \n",
        "test_datagen = ImageDataGenerator(rescale = 1./255)"
      ],
      "metadata": {
        "id": "67u4kw0Sn37w"
      },
      "execution_count": null,
      "outputs": []
    },
    {
      "cell_type": "code",
      "source": [
        "test_set = test_datagen.flow_from_directory(\"/content/drive/MyDrive/dogs-vs-cats/test\",    \n",
        "                                          target_size = (128, 128), \n",
        "                                          batch_size = 32,\n",
        "                                          class_mode=\"binary\")   "
      ],
      "metadata": {
        "colab": {
          "base_uri": "https://localhost:8080/"
        },
        "id": "4RJ7YUjXw9ci",
        "outputId": "0d88fefe-c3eb-48dc-c1b9-d45547270079"
      },
      "execution_count": null,
      "outputs": [
        {
          "output_type": "stream",
          "name": "stdout",
          "text": [
            "Found 1000 images belonging to 2 classes.\n"
          ]
        }
      ]
    },
    {
      "cell_type": "code",
      "source": [
        "#Training the CNN on the training set and evaluating it on test set\n",
        "classifier.fit(training_set,\n",
        "                        steps_per_epoch=100,\n",
        "                         epochs=50,\n",
        "                         validation_data=test_set,\n",
        "                         validation_steps=800)"
      ],
      "metadata": {
        "colab": {
          "base_uri": "https://localhost:8080/"
        },
        "id": "amV86mglw_jr",
        "outputId": "c52c6a22-fb32-4049-9392-1fd4dbda64c7"
      },
      "execution_count": null,
      "outputs": [
        {
          "output_type": "stream",
          "name": "stdout",
          "text": [
            "Epoch 1/50\n",
            "100/100 [==============================] - ETA: 0s - loss: 1.1169 - accuracy: 0.5509WARNING:tensorflow:Your input ran out of data; interrupting training. Make sure that your dataset or generator can generate at least `steps_per_epoch * epochs` batches (in this case, 800 batches). You may need to use the repeat() function when building your dataset.\n",
            "100/100 [==============================] - 394s 4s/step - loss: 1.1169 - accuracy: 0.5509 - val_loss: 0.6463 - val_accuracy: 0.6540\n",
            "Epoch 2/50\n",
            "100/100 [==============================] - 22s 217ms/step - loss: 0.6492 - accuracy: 0.6379\n",
            "Epoch 3/50\n",
            "100/100 [==============================] - 22s 217ms/step - loss: 0.6189 - accuracy: 0.6716\n",
            "Epoch 4/50\n",
            "100/100 [==============================] - 22s 217ms/step - loss: 0.6100 - accuracy: 0.6678\n",
            "Epoch 5/50\n",
            "100/100 [==============================] - 22s 217ms/step - loss: 0.5770 - accuracy: 0.7003\n",
            "Epoch 6/50\n",
            "100/100 [==============================] - 22s 222ms/step - loss: 0.5660 - accuracy: 0.7041\n",
            "Epoch 7/50\n",
            "100/100 [==============================] - 22s 219ms/step - loss: 0.5588 - accuracy: 0.7228\n",
            "Epoch 8/50\n",
            "100/100 [==============================] - 22s 217ms/step - loss: 0.5604 - accuracy: 0.7206\n",
            "Epoch 9/50\n",
            "100/100 [==============================] - 22s 217ms/step - loss: 0.5645 - accuracy: 0.7069\n",
            "Epoch 10/50\n",
            "100/100 [==============================] - 22s 217ms/step - loss: 0.5426 - accuracy: 0.7259\n",
            "Epoch 11/50\n",
            "100/100 [==============================] - 22s 216ms/step - loss: 0.5141 - accuracy: 0.7569\n",
            "Epoch 12/50\n",
            "100/100 [==============================] - 22s 217ms/step - loss: 0.5144 - accuracy: 0.7556\n",
            "Epoch 13/50\n",
            "100/100 [==============================] - 22s 220ms/step - loss: 0.5208 - accuracy: 0.7444\n",
            "Epoch 14/50\n",
            "100/100 [==============================] - 22s 221ms/step - loss: 0.5006 - accuracy: 0.7541\n",
            "Epoch 15/50\n",
            "100/100 [==============================] - 22s 220ms/step - loss: 0.4999 - accuracy: 0.7578\n",
            "Epoch 16/50\n",
            "100/100 [==============================] - 22s 220ms/step - loss: 0.4921 - accuracy: 0.7672\n",
            "Epoch 17/50\n",
            "100/100 [==============================] - 22s 219ms/step - loss: 0.4778 - accuracy: 0.7681\n",
            "Epoch 18/50\n",
            "100/100 [==============================] - 22s 217ms/step - loss: 0.4736 - accuracy: 0.7713\n",
            "Epoch 19/50\n",
            "100/100 [==============================] - 22s 217ms/step - loss: 0.4740 - accuracy: 0.7861\n",
            "Epoch 20/50\n",
            "100/100 [==============================] - 22s 217ms/step - loss: 0.4932 - accuracy: 0.7638\n",
            "Epoch 21/50\n",
            "100/100 [==============================] - 22s 219ms/step - loss: 0.4582 - accuracy: 0.7797\n",
            "Epoch 22/50\n",
            "100/100 [==============================] - 22s 216ms/step - loss: 0.4443 - accuracy: 0.7962\n",
            "Epoch 23/50\n",
            "100/100 [==============================] - 22s 216ms/step - loss: 0.4644 - accuracy: 0.7921\n",
            "Epoch 24/50\n",
            "100/100 [==============================] - 22s 222ms/step - loss: 0.4584 - accuracy: 0.7878\n",
            "Epoch 25/50\n",
            "100/100 [==============================] - 22s 218ms/step - loss: 0.4812 - accuracy: 0.7659\n",
            "Epoch 26/50\n",
            "100/100 [==============================] - 22s 219ms/step - loss: 0.4506 - accuracy: 0.7922\n",
            "Epoch 27/50\n",
            "100/100 [==============================] - 22s 218ms/step - loss: 0.4300 - accuracy: 0.7947\n",
            "Epoch 28/50\n",
            "100/100 [==============================] - 22s 215ms/step - loss: 0.4505 - accuracy: 0.7845\n",
            "Epoch 29/50\n",
            "100/100 [==============================] - 22s 218ms/step - loss: 0.4421 - accuracy: 0.7941\n",
            "Epoch 30/50\n",
            "100/100 [==============================] - 22s 217ms/step - loss: 0.4299 - accuracy: 0.7975\n",
            "Epoch 31/50\n",
            "100/100 [==============================] - 22s 216ms/step - loss: 0.4202 - accuracy: 0.8028\n",
            "Epoch 32/50\n",
            "100/100 [==============================] - 22s 216ms/step - loss: 0.4181 - accuracy: 0.8009\n",
            "Epoch 33/50\n",
            "100/100 [==============================] - 22s 217ms/step - loss: 0.4045 - accuracy: 0.8109\n",
            "Epoch 34/50\n",
            "100/100 [==============================] - 22s 217ms/step - loss: 0.4231 - accuracy: 0.8062\n",
            "Epoch 35/50\n",
            "100/100 [==============================] - 22s 222ms/step - loss: 0.4312 - accuracy: 0.7962\n",
            "Epoch 36/50\n",
            "100/100 [==============================] - 22s 216ms/step - loss: 0.4198 - accuracy: 0.8109\n",
            "Epoch 37/50\n",
            "100/100 [==============================] - 22s 217ms/step - loss: 0.3995 - accuracy: 0.8169\n",
            "Epoch 38/50\n",
            "100/100 [==============================] - 22s 216ms/step - loss: 0.4011 - accuracy: 0.8138\n",
            "Epoch 39/50\n",
            "100/100 [==============================] - 22s 220ms/step - loss: 0.3967 - accuracy: 0.8172\n",
            "Epoch 40/50\n",
            "100/100 [==============================] - 22s 216ms/step - loss: 0.3938 - accuracy: 0.8125\n",
            "Epoch 41/50\n",
            "100/100 [==============================] - 22s 217ms/step - loss: 0.3903 - accuracy: 0.8256\n",
            "Epoch 42/50\n",
            "100/100 [==============================] - 22s 218ms/step - loss: 0.3827 - accuracy: 0.8272\n",
            "Epoch 43/50\n",
            "100/100 [==============================] - 22s 216ms/step - loss: 0.3732 - accuracy: 0.8316\n",
            "Epoch 44/50\n",
            "100/100 [==============================] - 22s 216ms/step - loss: 0.3620 - accuracy: 0.8422\n",
            "Epoch 45/50\n",
            "100/100 [==============================] - 22s 222ms/step - loss: 0.3520 - accuracy: 0.8474\n",
            "Epoch 46/50\n",
            "100/100 [==============================] - 22s 217ms/step - loss: 0.3732 - accuracy: 0.8400\n",
            "Epoch 47/50\n",
            "100/100 [==============================] - 22s 216ms/step - loss: 0.3595 - accuracy: 0.8408\n",
            "Epoch 48/50\n",
            "100/100 [==============================] - 22s 217ms/step - loss: 0.3487 - accuracy: 0.8452\n",
            "Epoch 49/50\n",
            "100/100 [==============================] - 22s 219ms/step - loss: 0.3603 - accuracy: 0.8392\n",
            "Epoch 50/50\n",
            "100/100 [==============================] - 22s 218ms/step - loss: 0.3566 - accuracy: 0.8464\n"
          ]
        },
        {
          "output_type": "execute_result",
          "data": {
            "text/plain": [
              "<keras.callbacks.History at 0x7f155419a150>"
            ]
          },
          "metadata": {},
          "execution_count": 28
        }
      ]
    },
    {
      "cell_type": "code",
      "source": [
        "#Making a single prediction \n",
        "import numpy as np\n",
        "from keras.preprocessing import image\n",
        "unseen_image = image.load_img(\"/content/sample_data/2442.jpg\",                                                             target_size = (128, 128))\n",
        "unseen_image  = image.img_to_array(unseen_image)"
      ],
      "metadata": {
        "id": "t_gRB6NKxCRM"
      },
      "execution_count": null,
      "outputs": []
    },
    {
      "cell_type": "code",
      "source": [
        "unseen_image  = np.expand_dims(unseen_image,  axis  = 0)\n",
        "result  =  classifier.predict(unseen_image)\n",
        "training_set.class_indices\n",
        "if  result[0] [0]  ==1:\n",
        "            prediction  = \"dog\"\n",
        "else :\n",
        "            prediction  = \"cat\"\n",
        "print (\"The given image is of \"+prediction)"
      ],
      "metadata": {
        "colab": {
          "base_uri": "https://localhost:8080/"
        },
        "id": "RGgblCIxxLhl",
        "outputId": "48968181-f065-4d12-fb66-aa631c53d67a"
      },
      "execution_count": null,
      "outputs": [
        {
          "output_type": "stream",
          "name": "stdout",
          "text": [
            "The given image is of dog\n"
          ]
        }
      ]
    },
    {
      "cell_type": "code",
      "source": [
        "from keras.models import Sequential\n",
        "from keras.layers import Conv2D\n",
        "from keras.layers import MaxPooling2D\n",
        "from keras.layers import Flatten\n",
        "from keras.layers import Dense\n",
        "from keras. preprocessing.image import ImageDataGenerator\n",
        "#Initialising the CNN\n",
        "classifier = Sequential()\n",
        "#Convolution\n",
        "classifier.add(Conv2D(filters=32,  kernel_size=3,  activation=\"relu\"))\n",
        "#Pooling\n",
        "classifier.add(MaxPooling2D(pool_size=2,  strides=2))\n",
        "#Adding second convolution layer \n",
        "classifier.add(Conv2D(filters=32,  kernel_size=3,  activation=\"relu\"))\n",
        "#Adding second pooling layer \n",
        "classifier.add(MaxPooling2D(pool_size=2,  strides=2)) \n",
        "#Flattening  \n",
        "classifier.add (Flatten())\n",
        "#Full Connection\n",
        "classifier.add(Dense(units=128,  activation=\"relu\"))\n",
        "#Output Layer\n",
        "classifier.add(Dense(units=1,  activation=\"sigmoid\"))\n",
        "#Compiling the CNN\n",
        "classifier.compile(optimizer=\"adam\",loss=\"binary_crossentropy\" ,metrics =  ['accuracy' ])\n",
        "#Image Augmentation\n",
        "train_datagen=ImageDataGenerator (rescale=1./255,\n",
        "shear_range=0.2,\n",
        "zoom_range=0.2,\n",
        "horizontal_flip=True)\n",
        "training_set= train_datagen.flow_from_directory(\"/content/drive/MyDrive/dogs-vs-cats/train\",\n",
        "                                target_size=(128, 128) ,\n",
        "                                batch_size=32,\n",
        "                                class_mode=\"binary\")#Image Augmentation of Test Data\n",
        "test_datagen=ImageDataGenerator(rescale=1./255)\n",
        "test_set = test_datagen.flow_from_directory(\"/content/drive/MyDrive/dogs-vs-cats/test\",    \n",
        "                                          target_size = (128, 128), \n",
        "                                          batch_size = 32,\n",
        "                                          class_mode=\"binary\")   #Training the CNN on the training set and evaluating it on test set\n",
        "classifier.fit(training_set,\n",
        "                 steps_per_epoch=100,\n",
        "                 epochs=50,\n",
        "                 validation_data=test_set,validation_steps=800)\n"
      ],
      "metadata": {
        "colab": {
          "base_uri": "https://localhost:8080/"
        },
        "id": "ceCjwrxVxQ0o",
        "outputId": "0e7d70e2-c598-40a1-af34-80a8cde099d9"
      },
      "execution_count": null,
      "outputs": [
        {
          "output_type": "stream",
          "name": "stdout",
          "text": [
            "Found 10000 images belonging to 2 classes.\n",
            "Found 1000 images belonging to 2 classes.\n",
            "Epoch 1/50\n",
            "100/100 [==============================] - ETA: 0s - loss: 0.7501 - accuracy: 0.5244WARNING:tensorflow:Your input ran out of data; interrupting training. Make sure that your dataset or generator can generate at least `steps_per_epoch * epochs` batches (in this case, 800 batches). You may need to use the repeat() function when building your dataset.\n",
            "100/100 [==============================] - 29s 284ms/step - loss: 0.7501 - accuracy: 0.5244 - val_loss: 0.6900 - val_accuracy: 0.5650\n",
            "Epoch 2/50\n",
            "100/100 [==============================] - 22s 219ms/step - loss: 0.6828 - accuracy: 0.5644\n",
            "Epoch 3/50\n",
            "100/100 [==============================] - 22s 217ms/step - loss: 0.6713 - accuracy: 0.6005\n",
            "Epoch 4/50\n",
            "100/100 [==============================] - 22s 215ms/step - loss: 0.6445 - accuracy: 0.6313\n",
            "Epoch 5/50\n",
            "100/100 [==============================] - 22s 216ms/step - loss: 0.6385 - accuracy: 0.6522\n",
            "Epoch 6/50\n",
            "100/100 [==============================] - 22s 218ms/step - loss: 0.6210 - accuracy: 0.6562\n",
            "Epoch 7/50\n",
            "100/100 [==============================] - 22s 218ms/step - loss: 0.5929 - accuracy: 0.6928\n",
            "Epoch 8/50\n",
            "100/100 [==============================] - 22s 216ms/step - loss: 0.5828 - accuracy: 0.6928\n",
            "Epoch 9/50\n",
            "100/100 [==============================] - 22s 217ms/step - loss: 0.5762 - accuracy: 0.6954\n",
            "Epoch 10/50\n",
            "100/100 [==============================] - 22s 218ms/step - loss: 0.5599 - accuracy: 0.7150\n",
            "Epoch 11/50\n",
            "100/100 [==============================] - 22s 217ms/step - loss: 0.5485 - accuracy: 0.7278\n",
            "Epoch 12/50\n",
            "100/100 [==============================] - 22s 218ms/step - loss: 0.5427 - accuracy: 0.7228\n",
            "Epoch 13/50\n",
            "100/100 [==============================] - 22s 217ms/step - loss: 0.5314 - accuracy: 0.7312\n",
            "Epoch 14/50\n",
            "100/100 [==============================] - 22s 218ms/step - loss: 0.4990 - accuracy: 0.7588\n",
            "Epoch 15/50\n",
            "100/100 [==============================] - 22s 219ms/step - loss: 0.5160 - accuracy: 0.7475\n",
            "Epoch 16/50\n",
            "100/100 [==============================] - 22s 220ms/step - loss: 0.4919 - accuracy: 0.7557\n",
            "Epoch 17/50\n",
            "100/100 [==============================] - 22s 218ms/step - loss: 0.5060 - accuracy: 0.7431\n",
            "Epoch 18/50\n",
            "100/100 [==============================] - 22s 219ms/step - loss: 0.4845 - accuracy: 0.7638\n",
            "Epoch 19/50\n",
            "100/100 [==============================] - 22s 217ms/step - loss: 0.4734 - accuracy: 0.7791\n",
            "Epoch 20/50\n",
            "100/100 [==============================] - 22s 216ms/step - loss: 0.4572 - accuracy: 0.7814\n",
            "Epoch 21/50\n",
            "100/100 [==============================] - 22s 217ms/step - loss: 0.4639 - accuracy: 0.7814\n",
            "Epoch 22/50\n",
            "100/100 [==============================] - 22s 218ms/step - loss: 0.4588 - accuracy: 0.7825\n",
            "Epoch 23/50\n",
            "100/100 [==============================] - 22s 217ms/step - loss: 0.4476 - accuracy: 0.7825\n",
            "Epoch 24/50\n",
            "100/100 [==============================] - 22s 219ms/step - loss: 0.4325 - accuracy: 0.7956\n",
            "Epoch 25/50\n",
            "100/100 [==============================] - 22s 225ms/step - loss: 0.4332 - accuracy: 0.7984\n",
            "Epoch 26/50\n",
            "100/100 [==============================] - 22s 219ms/step - loss: 0.4151 - accuracy: 0.8122\n",
            "Epoch 27/50\n",
            "100/100 [==============================] - 22s 219ms/step - loss: 0.4286 - accuracy: 0.8037\n",
            "Epoch 28/50\n",
            "100/100 [==============================] - 22s 219ms/step - loss: 0.4165 - accuracy: 0.8081\n",
            "Epoch 29/50\n",
            "100/100 [==============================] - 22s 220ms/step - loss: 0.4043 - accuracy: 0.8147\n",
            "Epoch 30/50\n",
            "100/100 [==============================] - 22s 218ms/step - loss: 0.3996 - accuracy: 0.8156\n",
            "Epoch 31/50\n",
            "100/100 [==============================] - 22s 216ms/step - loss: 0.3995 - accuracy: 0.8263\n",
            "Epoch 32/50\n",
            "100/100 [==============================] - 22s 217ms/step - loss: 0.3871 - accuracy: 0.8266\n",
            "Epoch 33/50\n",
            "100/100 [==============================] - 22s 216ms/step - loss: 0.3753 - accuracy: 0.8275\n",
            "Epoch 34/50\n",
            "100/100 [==============================] - 22s 219ms/step - loss: 0.3742 - accuracy: 0.8401\n",
            "Epoch 35/50\n",
            "100/100 [==============================] - 22s 217ms/step - loss: 0.3820 - accuracy: 0.8313\n",
            "Epoch 36/50\n",
            "100/100 [==============================] - 22s 217ms/step - loss: 0.3594 - accuracy: 0.8431\n",
            "Epoch 37/50\n",
            "100/100 [==============================] - 22s 217ms/step - loss: 0.3586 - accuracy: 0.8378\n",
            "Epoch 38/50\n",
            "100/100 [==============================] - 22s 216ms/step - loss: 0.3513 - accuracy: 0.8552\n",
            "Epoch 39/50\n",
            "100/100 [==============================] - 22s 216ms/step - loss: 0.3347 - accuracy: 0.8478\n",
            "Epoch 40/50\n",
            "100/100 [==============================] - 22s 217ms/step - loss: 0.3433 - accuracy: 0.8512\n",
            "Epoch 41/50\n",
            "100/100 [==============================] - 22s 217ms/step - loss: 0.3209 - accuracy: 0.8637\n",
            "Epoch 42/50\n",
            "100/100 [==============================] - 22s 217ms/step - loss: 0.3227 - accuracy: 0.8575\n",
            "Epoch 43/50\n",
            "100/100 [==============================] - 22s 222ms/step - loss: 0.3115 - accuracy: 0.8634\n",
            "Epoch 44/50\n",
            "100/100 [==============================] - 22s 218ms/step - loss: 0.3194 - accuracy: 0.8631\n",
            "Epoch 45/50\n",
            "100/100 [==============================] - 22s 216ms/step - loss: 0.3111 - accuracy: 0.8706\n",
            "Epoch 46/50\n",
            "100/100 [==============================] - 22s 215ms/step - loss: 0.3111 - accuracy: 0.8700\n",
            "Epoch 47/50\n",
            "100/100 [==============================] - 22s 216ms/step - loss: 0.3002 - accuracy: 0.8684\n",
            "Epoch 48/50\n",
            "100/100 [==============================] - 22s 216ms/step - loss: 0.2892 - accuracy: 0.8800\n",
            "Epoch 49/50\n",
            "100/100 [==============================] - 22s 219ms/step - loss: 0.2807 - accuracy: 0.8803\n",
            "Epoch 50/50\n",
            "100/100 [==============================] - 22s 218ms/step - loss: 0.2626 - accuracy: 0.8941\n"
          ]
        },
        {
          "output_type": "execute_result",
          "data": {
            "text/plain": [
              "<keras.callbacks.History at 0x7f152cdff710>"
            ]
          },
          "metadata": {},
          "execution_count": 32
        }
      ]
    },
    {
      "cell_type": "code",
      "source": [
        "\n",
        "unseen_image = image.load_img(\"/content/sample_data/2442.jpg\",target_size = (128, 128))\n",
        "unseen_image=image.img_to_array(unseen_image)\n",
        "unseen_image  = np.expand_dims(unseen_image,  axis  = 0)\n",
        "result  =  classifier.predict(unseen_image)\n",
        "training_set.class_indices\n",
        "if  result[0] [0]  ==1:\n",
        "            prediction  = \"dog\"\n",
        "else :\n",
        "            prediction  = \"cat\"\n",
        "print (\"The given image is of \"+prediction)"
      ],
      "metadata": {
        "colab": {
          "base_uri": "https://localhost:8080/"
        },
        "id": "SbWjeYEixZgg",
        "outputId": "040f2417-617e-4fba-dc70-c9e031e66366"
      },
      "execution_count": null,
      "outputs": [
        {
          "output_type": "stream",
          "name": "stdout",
          "text": [
            "The given image is of dog\n"
          ]
        }
      ]
    }
  ]
}
