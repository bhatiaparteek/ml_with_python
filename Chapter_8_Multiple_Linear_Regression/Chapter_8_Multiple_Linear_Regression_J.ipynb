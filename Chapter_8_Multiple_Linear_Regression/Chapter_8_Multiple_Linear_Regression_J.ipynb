{
 "cells": [
  {
   "cell_type": "markdown",
   "metadata": {
    "id": "OBLR_SfkA0Df"
   },
   "source": [
    "1. Importing the Libraries\n"
   ]
  },
  {
   "cell_type": "code",
   "execution_count": 2,
   "metadata": {
    "id": "Th5XfT8LA0UM"
   },
   "outputs": [],
   "source": [
    "# Importing the Libraries\n",
    "import numpy as np\n",
    "import pandas as pd\n",
    "import matplotlib.pyplot as plt"
   ]
  },
  {
   "cell_type": "markdown",
   "metadata": {
    "id": "4GoUTuswsvj8"
   },
   "source": []
  },
  {
   "cell_type": "markdown",
   "metadata": {
    "id": "hVIgPHeqA0iy"
   },
   "source": [
    "2. Data Acquistion"
   ]
  },
  {
   "cell_type": "code",
   "execution_count": 3,
   "metadata": {
    "colab": {
     "base_uri": "https://localhost:8080/"
    },
    "id": "JLV7G76CeGbu",
    "outputId": "1599a3d4-1f04-47f7-f42c-8afe74e9c4f6"
   },
   "outputs": [],
   "source": [
    "File = '50_AdAgency.csv'\n",
    "dataset = pd.read_csv(File)"
   ]
  },
  {
   "cell_type": "markdown",
   "metadata": {
    "id": "2Jd-kexdA1Aq"
   },
   "source": [
    "3.  Creating Data Frames\n"
   ]
  },
  {
   "cell_type": "code",
   "execution_count": 4,
   "metadata": {
    "id": "1GAEUPvCA1UG"
   },
   "outputs": [],
   "source": [
    "# Creating Data Frames\n",
    "X = dataset.iloc[:, :- 1].values\n",
    "Y = dataset.iloc[:, 4].values"
   ]
  },
  {
   "cell_type": "markdown",
   "metadata": {
    "id": "VK0z8q9f4svy"
   },
   "source": [
    "4. Encoding categorical data"
   ]
  },
  {
   "cell_type": "code",
   "execution_count": 5,
   "metadata": {
    "id": "KXeKvWba6qBZ"
   },
   "outputs": [],
   "source": [
    "#encoding categorical data\n",
    "from sklearn.preprocessing import LabelEncoder\n",
    "labelEncoder_X = LabelEncoder()\n",
    "X[:, 3] = labelEncoder_X.fit_transform(X[:, 3])\n",
    "\n",
    "\n",
    "from sklearn.preprocessing import LabelEncoder,OneHotEncoder\n",
    "from sklearn.compose import ColumnTransformer\n",
    "ct = ColumnTransformer([(\"Geography\", OneHotEncoder(), [3])], remainder = 'passthrough')\n",
    "X = ct.fit_transform(X)\n",
    "\n",
    "\n",
    "labelEncoder_Y = LabelEncoder()\n",
    "Y = labelEncoder_Y.fit_transform(Y)\t "
   ]
  },
  {
   "cell_type": "markdown",
   "metadata": {
    "id": "VZ0SWqAh4y56"
   },
   "source": [
    "5. Avoiding the Dummy Variable Trap"
   ]
  },
  {
   "cell_type": "code",
   "execution_count": 6,
   "metadata": {
    "id": "nLm9Oz4a6qDK"
   },
   "outputs": [],
   "source": [
    "# Avoiding the Dummy Variable Trap\n",
    "X = X[:, 1:]"
   ]
  },
  {
   "cell_type": "markdown",
   "metadata": {
    "id": "IP_YMuVnA1iS"
   },
   "source": [
    "6. Dataset Splition"
   ]
  },
  {
   "cell_type": "code",
   "execution_count": 7,
   "metadata": {
    "id": "Kyjx3rPIA1yb"
   },
   "outputs": [],
   "source": [
    "from sklearn.model_selection import train_test_split\n",
    "X_train, X_test, y_train, y_test = train_test_split(X,Y,test_size= 1/3, random_state = 0) "
   ]
  },
  {
   "cell_type": "markdown",
   "metadata": {
    "id": "DuZ7aMNtA2AQ"
   },
   "source": [
    "7. Modeling"
   ]
  },
  {
   "cell_type": "code",
   "execution_count": 8,
   "metadata": {
    "colab": {
     "base_uri": "https://localhost:8080/"
    },
    "id": "r172_7WgA2PW",
    "outputId": "f80610ce-a6e2-40d3-cdf0-a46b36c42ac6"
   },
   "outputs": [
    {
     "data": {
      "text/plain": [
       "LinearRegression()"
      ]
     },
     "execution_count": 8,
     "metadata": {},
     "output_type": "execute_result"
    }
   ],
   "source": [
    "from sklearn.linear_model import LinearRegression\n",
    "linear_regressor = LinearRegression()\n",
    "linear_regressor.fit(X_train, y_train)"
   ]
  },
  {
   "cell_type": "markdown",
   "metadata": {
    "id": "BSOS8IrRA2dc"
   },
   "source": [
    "8. Predictions"
   ]
  },
  {
   "cell_type": "code",
   "execution_count": 9,
   "metadata": {
    "id": "OG1W0icHA2rV"
   },
   "outputs": [],
   "source": [
    "# Predicting the Test set results\n",
    "y_pred = linear_regressor.predict(X_test)"
   ]
  },
  {
   "cell_type": "markdown",
   "metadata": {
    "id": "xuwSwzneA304"
   },
   "source": [
    "9. Performance Evaluation\n"
   ]
  },
  {
   "cell_type": "code",
   "execution_count": 10,
   "metadata": {
    "colab": {
     "base_uri": "https://localhost:8080/"
    },
    "id": "sydqqAA2A4DI",
    "outputId": "9a808a6e-346b-4fe6-d8de-2785cd3dab1b"
   },
   "outputs": [
    {
     "name": "stdout",
     "output_type": "stream",
     "text": [
      "3.2813815861195543\n",
      "13.455276392296268\n",
      "3.66814345306945\n"
     ]
    }
   ],
   "source": [
    "# Importing metrics library\n",
    "from sklearn import metrics\n",
    "# Evaluating the model and printing the results using MAE\n",
    "print(metrics.mean_absolute_error(y_test, y_pred))\n",
    "\n",
    "# Evaluating the model and printing the results using MSE\n",
    "print(metrics.mean_squared_error(y_test, y_pred))\n",
    "\n",
    "# Importing the math library\n",
    "import math\n",
    "\n",
    "# Evaluating the model and printing the results using RMSE\n",
    "print(np.sqrt(metrics.mean_squared_error(y_test, y_pred)))"
   ]
  },
  {
   "cell_type": "markdown",
   "metadata": {
    "id": "1ubIraa44D3l"
   },
   "source": [
    "\n",
    "\n",
    "#**Polynomial Regression**  \n"
   ]
  },
  {
   "cell_type": "markdown",
   "metadata": {
    "id": "fwvAACtl4KyM"
   },
   "source": [
    "2.1: Importing of the Libraries"
   ]
  },
  {
   "cell_type": "code",
   "execution_count": 11,
   "metadata": {
    "id": "wYTqjaHn4AUz"
   },
   "outputs": [],
   "source": [
    "# Polynomial Regression\n",
    "\n",
    "# Importing the Libraries\n",
    "import numpy as np\n",
    "import pandas as pd\n",
    "import matplotlib.pyplot as plt"
   ]
  },
  {
   "cell_type": "markdown",
   "metadata": {
    "id": "nIBUTq3v4owR"
   },
   "source": [
    "2.2: Data Acquistion"
   ]
  },
  {
   "cell_type": "code",
   "execution_count": 12,
   "metadata": {
    "id": "kWo00XNf4oa6"
   },
   "outputs": [],
   "source": [
    "File = 'Position_Salaries.csv'\n",
    "dataset = pd.read_csv(File)"
   ]
  },
  {
   "cell_type": "markdown",
   "metadata": {
    "id": "OX314t015Gk4"
   },
   "source": [
    "2.3:  Creating Data Frames\n"
   ]
  },
  {
   "cell_type": "code",
   "execution_count": 13,
   "metadata": {
    "id": "UaXRd6mX5Gk5"
   },
   "outputs": [],
   "source": [
    "# Creating Data Frames\n",
    "X = dataset.iloc[:, 1:2].values\n",
    "y = dataset.iloc[:, 2].values"
   ]
  },
  {
   "cell_type": "markdown",
   "metadata": {
    "id": "LvtYCpwA4BuH"
   },
   "source": [
    "2.4: Creating Polynomial Regressor"
   ]
  },
  {
   "cell_type": "code",
   "execution_count": 14,
   "metadata": {
    "id": "cUxZvZIv5Gk6"
   },
   "outputs": [],
   "source": [
    "from sklearn.preprocessing import PolynomialFeatures\n",
    "poly_reg = PolynomialFeatures(degree = 2)\n",
    "X_poly = poly_reg.fit_transform(X)"
   ]
  },
  {
   "cell_type": "markdown",
   "metadata": {
    "id": "44I7QvxT572G"
   },
   "source": [
    "2.5: Training the Polynomial Regression model on the whole dataset\n"
   ]
  },
  {
   "cell_type": "code",
   "execution_count": 15,
   "metadata": {
    "colab": {
     "base_uri": "https://localhost:8080/"
    },
    "id": "xKfRElLaGjMn",
    "outputId": "66752276-bdae-40d8-ec46-12735fe6f45e"
   },
   "outputs": [
    {
     "data": {
      "text/plain": [
       "LinearRegression()"
      ]
     },
     "execution_count": 15,
     "metadata": {},
     "output_type": "execute_result"
    }
   ],
   "source": [
    "#Training the Polynomial Regression model on the whole dataset\n",
    "from sklearn.linear_model import LinearRegression\n",
    "Poly_reg_model = LinearRegression()\n",
    "Poly_reg_model.fit(X_poly, y)"
   ]
  },
  {
   "cell_type": "markdown",
   "metadata": {
    "id": "OUG_z9T-6daq"
   },
   "source": [
    "2.6: Visualising the Training set results"
   ]
  },
  {
   "cell_type": "code",
   "execution_count": 16,
   "metadata": {
    "colab": {
     "base_uri": "https://localhost:8080/",
     "height": 313
    },
    "id": "UEtjIImI6dnK",
    "outputId": "653b57e5-a5b6-4f3f-9a69-f6ddc3869706"
   },
   "outputs": [
    {
     "data": {
      "text/plain": [
       "[<matplotlib.lines.Line2D at 0x1df3097bd08>]"
      ]
     },
     "execution_count": 16,
     "metadata": {},
     "output_type": "execute_result"
    },
    {
     "data": {
      "image/png": "[encoded data removed]",
      "text/plain": [
       "<Figure size 432x288 with 1 Axes>"
      ]
     },
     "metadata": {
      "needs_background": "light"
     },
     "output_type": "display_data"
    }
   ],
   "source": [
    "# Visualising the Training set results\n",
    "plt.scatter(X, y, color = 'red')\n",
    "plt.title('Visualization of Training Data')\n",
    "plt.xlabel('Years of Research Experience')\n",
    "plt.ylabel('Stipend')\n",
    "plt.plot(X, Poly_reg_model.predict(X_poly), color = 'blue')"
   ]
  },
  {
   "cell_type": "markdown",
   "metadata": {
    "id": "ZOhUfaIUNFw-"
   },
   "source": [
    "2.7:  Changing the degree of polynomial to 3 "
   ]
  },
  {
   "cell_type": "code",
   "execution_count": 17,
   "metadata": {
    "colab": {
     "base_uri": "https://localhost:8080/",
     "height": 308
    },
    "id": "eTpDL3FtNPC3",
    "outputId": "6311ddae-ebdd-4e52-8869-9b1296ae6d4a"
   },
   "outputs": [
    {
     "data": {
      "text/plain": [
       "[<matplotlib.lines.Line2D at 0x1df32a8eec8>]"
      ]
     },
     "execution_count": 17,
     "metadata": {},
     "output_type": "execute_result"
    },
    {
     "data": {
      "image/png": "[encoded data removed]",
      "text/plain": [
       "<Figure size 432x288 with 1 Axes>"
      ]
     },
     "metadata": {
      "needs_background": "light"
     },
     "output_type": "display_data"
    }
   ],
   "source": [
    "#Transforming X to higher degree polynomial terms\n",
    "from sklearn.preprocessing import PolynomialFeatures\n",
    "Poly_reg = PolynomialFeatures(degree = 3)\n",
    "X_poly = Poly_reg.fit_transform(X)\n",
    " \n",
    "#Training the Polynomial Regression model on the whole dataset\n",
    "from sklearn.linear_model import LinearRegression\n",
    "Poly_reg_model = LinearRegression()\n",
    "Poly_reg_model.fit(X_poly, y)\n",
    "\n",
    "# Visualising the Polynomial Regression results\n",
    "plt.scatter(X,y, color = 'red') \n",
    "plt.xlabel('Position Level')\n",
    "plt.ylabel('Salary')\n",
    "plt.plot(X, Poly_reg_model.predict(X_poly), color = 'blue')\n",
    " \n"
   ]
  },
  {
   "cell_type": "markdown",
   "metadata": {
    "id": "V3EhwZWaNqtJ"
   },
   "source": [
    "2.8: Changing the degree of polynomial to 4"
   ]
  },
  {
   "cell_type": "code",
   "execution_count": 18,
   "metadata": {
    "colab": {
     "base_uri": "https://localhost:8080/",
     "height": 308
    },
    "id": "zDg7aHiuNpnE",
    "outputId": "60ec70c6-73af-4c64-ef0a-fe525708cfbe"
   },
   "outputs": [
    {
     "data": {
      "text/plain": [
       "[<matplotlib.lines.Line2D at 0x1df32afeec8>]"
      ]
     },
     "execution_count": 18,
     "metadata": {},
     "output_type": "execute_result"
    },
    {
     "data": {
      "image/png": "[encoded data removed]",
      "text/plain": [
       "<Figure size 432x288 with 1 Axes>"
      ]
     },
     "metadata": {
      "needs_background": "light"
     },
     "output_type": "display_data"
    }
   ],
   "source": [
    "#Transforming X to higher degree polynomial terms\n",
    "from sklearn.preprocessing import PolynomialFeatures\n",
    "Poly_reg = PolynomialFeatures(degree = 4)\n",
    "X_poly = Poly_reg.fit_transform(X)\n",
    " \n",
    "#Training the Polynomial Regression model on the whole dataset\n",
    "from sklearn.linear_model import LinearRegression\n",
    "Poly_reg_model = LinearRegression()\n",
    "Poly_reg_model.fit(X_poly, y)\n",
    "\n",
    "# Visualising the Polynomial Regression results\n",
    "plt.scatter(X,y, color = 'red') \n",
    "plt.xlabel('Position Level')\n",
    "plt.ylabel('Salary')\n",
    "plt.plot(X, Poly_reg_model.predict(X_poly), color = 'blue')\n",
    " \n"
   ]
  },
  {
   "cell_type": "markdown",
   "metadata": {
    "id": "oNz9bUP8N8t1"
   },
   "source": [
    "2.9: Predict Polynomial Regression Results"
   ]
  },
  {
   "cell_type": "code",
   "execution_count": 19,
   "metadata": {
    "colab": {
     "base_uri": "https://localhost:8080/"
    },
    "id": "Mvzh3Mj7N-yA",
    "outputId": "eed8b693-cf23-478e-d1df-f7f27c5984a5"
   },
   "outputs": [
    {
     "data": {
      "text/plain": [
       "array([225126.29297787])"
      ]
     },
     "execution_count": 19,
     "metadata": {},
     "output_type": "execute_result"
    }
   ],
   "source": [
    "Poly_reg_model.predict(Poly_reg.fit_transform([[7.5]]))"
   ]
  },
  {
   "cell_type": "markdown",
   "metadata": {
    "id": "lyQApwKIPAdn"
   },
   "source": [
    "2.10: Comparison of Linear Regression and Polynomial Regression Results"
   ]
  },
  {
   "cell_type": "code",
   "execution_count": 20,
   "metadata": {
    "colab": {
     "base_uri": "https://localhost:8080/"
    },
    "id": "STs3vzQgO-0u",
    "outputId": "13a2ad9f-1362-4ae0-832c-0eec784eab03"
   },
   "outputs": [
    {
     "data": {
      "text/plain": [
       "LinearRegression()"
      ]
     },
     "execution_count": 20,
     "metadata": {},
     "output_type": "execute_result"
    }
   ],
   "source": [
    "#Comparison of Linear Regression and Polynomial Regression Results\n",
    "from sklearn.linear_model import LinearRegression\n",
    "# Training the Linear Regression model on the whole dataset\n",
    "linear_regressor = LinearRegression()\n",
    "linear_regressor.fit(X,y)\n"
   ]
  },
  {
   "cell_type": "markdown",
   "metadata": {
    "id": "XKrqdsdJ4nSH"
   },
   "source": [
    "2.11: Visualising the Polynomial Regression results"
   ]
  },
  {
   "cell_type": "code",
   "execution_count": 21,
   "metadata": {
    "colab": {
     "base_uri": "https://localhost:8080/",
     "height": 290
    },
    "id": "ixp2fB25PkhQ",
    "outputId": "76dde9b6-5d8f-489a-facb-5fd07cd60980"
   },
   "outputs": [
    {
     "data": {
      "image/png": "[encoded data removed]",
      "text/plain": [
       "<Figure size 432x288 with 1 Axes>"
      ]
     },
     "metadata": {
      "needs_background": "light"
     },
     "output_type": "display_data"
    }
   ],
   "source": [
    "# Visualising the Polynomial Regression results\n",
    "plt.scatter(X,y, color = 'red') \n",
    "plt.plot(X, linear_regressor.predict(X), color = 'blue')\n",
    "plt.xlabel('Position Level')\n",
    "plt.ylabel('Salary')\n",
    "plt.show()\n"
   ]
  },
  {
   "cell_type": "code",
   "execution_count": null,
   "metadata": {},
   "outputs": [],
   "source": []
  },
  {
   "cell_type": "code",
   "execution_count": null,
   "metadata": {},
   "outputs": [],
   "source": []
  },
  {
   "cell_type": "code",
   "execution_count": null,
   "metadata": {},
   "outputs": [],
   "source": []
  },
  {
   "cell_type": "code",
   "execution_count": null,
   "metadata": {},
   "outputs": [],
   "source": []
  },
  {
   "cell_type": "code",
   "execution_count": null,
   "metadata": {},
   "outputs": [],
   "source": []
  },
  {
   "cell_type": "code",
   "execution_count": null,
   "metadata": {},
   "outputs": [],
   "source": []
  }
 ],
 "metadata": {
  "colab": {
   "collapsed_sections": [],
   "name": "Chapter 8: - Multiple Linear Regression",
   "provenance": []
  },
  "kernelspec": {
   "display_name": "Python 3",
   "language": "python",
   "name": "python3"
  },
  "language_info": {
   "codemirror_mode": {
    "name": "ipython",
    "version": 3
   },
   "file_extension": ".py",
   "mimetype": "text/x-python",
   "name": "python",
   "nbconvert_exporter": "python",
   "pygments_lexer": "ipython3",
   "version": "3.7.6"
  }
 },
 "nbformat": 4,
 "nbformat_minor": 1
}
