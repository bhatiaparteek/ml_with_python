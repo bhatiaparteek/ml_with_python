{
  "nbformat": 4,
  "nbformat_minor": 0,
  "metadata": {
    "colab": {
      "provenance": [],
      "include_colab_link": true
    },
    "kernelspec": {
      "name": "python3",
      "display_name": "Python 3"
    },
    "language_info": {
      "name": "python"
    }
  },
  "cells": [
    {
      "cell_type": "markdown",
      "metadata": {
        "id": "view-in-github",
        "colab_type": "text"
      },
      "source": [
        "<a href=\"https://colab.research.google.com/github/bhatiaparteek/ml_with_python/blob/main/MNIST.ipynb\" target=\"_parent\"><img src=\"https://colab.research.google.com/assets/colab-badge.svg\" alt=\"Open In Colab\"/></a>"
      ]
    },
    {
      "cell_type": "code",
      "source": [
        "#Code Snippet to mount google drive\n",
        "from google.colab import drive\n",
        "drive.mount('/content/drive')"
      ],
      "metadata": {
        "colab": {
          "base_uri": "https://localhost:8080/"
        },
        "id": "vAF-2BYKJhyZ",
        "outputId": "0e9b6ffa-e389-410c-a8a2-8dc08b6efaa1"
      },
      "execution_count": null,
      "outputs": [
        {
          "output_type": "stream",
          "name": "stdout",
          "text": [
            "Drive already mounted at /content/drive; to attempt to forcibly remount, call drive.mount(\"/content/drive\", force_remount=True).\n"
          ]
        }
      ]
    },
    {
      "cell_type": "code",
      "source": [
        "from keras.models import Sequential\n",
        "from keras.layers import Conv2D\n",
        "from keras.layers import MaxPooling2D\n",
        "from keras.layers import Flatten\n",
        "from keras.layers import  Dense\n",
        "from keras.layers import  Dropout\n",
        "#Additional libraries\n",
        "import tensorflow as tf\n",
        "import numpy as np"
      ],
      "metadata": {
        "id": "jnI1vkkXJjnw"
      },
      "execution_count": null,
      "outputs": []
    },
    {
      "cell_type": "code",
      "source": [
        "mnist=tf.keras.datasets.mnist\n",
        "(x_train,y_train),(x_test,y_test)=mnist.load_data()"
      ],
      "metadata": {
        "id": "8b793Gv2xtrd"
      },
      "execution_count": null,
      "outputs": []
    },
    {
      "cell_type": "code",
      "source": [
        "x_train.shape"
      ],
      "metadata": {
        "colab": {
          "base_uri": "https://localhost:8080/"
        },
        "id": "2AG5nHNhSNLk",
        "outputId": "4fa6d837-f1da-470b-fe51-0a00ccb302b7"
      },
      "execution_count": null,
      "outputs": [
        {
          "output_type": "execute_result",
          "data": {
            "text/plain": [
              "(60000, 28, 28)"
            ]
          },
          "metadata": {},
          "execution_count": 4
        }
      ]
    },
    {
      "cell_type": "code",
      "source": [
        "x_test.shape"
      ],
      "metadata": {
        "colab": {
          "base_uri": "https://localhost:8080/"
        },
        "id": "wGgLm1RISGnt",
        "outputId": "b692ff79-3cb8-4038-8fd4-30c2970b12c0"
      },
      "execution_count": null,
      "outputs": [
        {
          "output_type": "execute_result",
          "data": {
            "text/plain": [
              "(10000, 28, 28)"
            ]
          },
          "metadata": {},
          "execution_count": 5
        }
      ]
    },
    {
      "cell_type": "code",
      "source": [
        "#Reshaping the array to 4-dims so that it can work with the keras API\n",
        "x_train=x_train.reshape(x_train.shape[0], 28, 28, 1)\n",
        "x_test=x_test.reshape(x_test.shape[0], 28, 28, 1)\n",
        "input_shape=(28, 28, 1)"
      ],
      "metadata": {
        "id": "0i-aMGVjxwzq"
      },
      "execution_count": null,
      "outputs": []
    },
    {
      "cell_type": "code",
      "source": [
        "x_train.shape"
      ],
      "metadata": {
        "colab": {
          "base_uri": "https://localhost:8080/"
        },
        "id": "AimKj0Ss0ODN",
        "outputId": "2c006394-1c03-46dc-9db1-c6b58881d32c"
      },
      "execution_count": null,
      "outputs": [
        {
          "output_type": "execute_result",
          "data": {
            "text/plain": [
              "(60000, 28, 28, 1)"
            ]
          },
          "metadata": {},
          "execution_count": 7
        }
      ]
    },
    {
      "cell_type": "code",
      "source": [
        "#Making sure that the values are float\n",
        "x_train=x_train.astype(\"float32\")\n",
        "x_test=x_test.astype(\"float32\")"
      ],
      "metadata": {
        "id": "zBrvzxfBMYOy"
      },
      "execution_count": null,
      "outputs": []
    },
    {
      "cell_type": "code",
      "source": [
        "#Normalizing the RGB codes by dividing it to the max RGB value.\n",
        "x_train/=255\n",
        "x_test/=255"
      ],
      "metadata": {
        "id": "6IePO-Oaxz-D"
      },
      "execution_count": null,
      "outputs": []
    },
    {
      "cell_type": "code",
      "source": [
        "#Initialising the CNN\n",
        "classifier =Sequential()\n",
        "#Convolution\n",
        "classifier.add(Conv2D(filters=32,  kernel_size=3,  activation=\"relu\",input_shape=input_shape))\n",
        "#Pooling\n",
        "classifier.add(MaxPooling2D(pool_size=2,  strides=2))\n",
        "#Flattening\n",
        "classifier.add(Flatten())\n",
        "#Full Connection\n",
        "classifier.add(Dense(units=200,  activation=\"relu\"))\n",
        "#Adding a dropout layer\n",
        "classifier.add(Dropout(0.5))\n",
        "#Output layer\n",
        "classifier.add(Dense(units=10,  activation=\"softmax\"))"
      ],
      "metadata": {
        "id": "sPocxfaIx21A"
      },
      "execution_count": null,
      "outputs": []
    },
    {
      "cell_type": "code",
      "source": [
        "#Compiling the CNN\n",
        "classifier.compile(optimizer=\"adam\", loss=\"sparse_categorical_crossentropy\",metrics=[\"accuracy\"])\n",
        "#Training the CNN on the training set and evaluating it on test set\n",
        "classifier.fit(x=x_train,y=y_train,epochs=10)\n",
        "classifier.evaluate(x=x_test,y=y_test)"
      ],
      "metadata": {
        "colab": {
          "base_uri": "https://localhost:8080/"
        },
        "id": "CggV1YbAx8aG",
        "outputId": "f824ffe2-2eae-4855-e176-96333defb37a"
      },
      "execution_count": null,
      "outputs": [
        {
          "output_type": "stream",
          "name": "stdout",
          "text": [
            "Epoch 1/10\n",
            "1875/1875 [==============================] - 40s 21ms/step - loss: 0.2185 - accuracy: 0.9328\n",
            "Epoch 2/10\n",
            "1875/1875 [==============================] - 39s 21ms/step - loss: 0.0889 - accuracy: 0.9735\n",
            "Epoch 3/10\n",
            "1875/1875 [==============================] - 39s 21ms/step - loss: 0.0672 - accuracy: 0.9795\n",
            "Epoch 4/10\n",
            "1875/1875 [==============================] - 40s 21ms/step - loss: 0.0533 - accuracy: 0.9830\n",
            "Epoch 5/10\n",
            "1875/1875 [==============================] - 40s 21ms/step - loss: 0.0443 - accuracy: 0.9858\n",
            "Epoch 6/10\n",
            "1875/1875 [==============================] - 40s 21ms/step - loss: 0.0365 - accuracy: 0.9880\n",
            "Epoch 7/10\n",
            "1875/1875 [==============================] - 39s 21ms/step - loss: 0.0307 - accuracy: 0.9898\n",
            "Epoch 8/10\n",
            "1875/1875 [==============================] - 39s 21ms/step - loss: 0.0272 - accuracy: 0.9908\n",
            "Epoch 9/10\n",
            "1875/1875 [==============================] - 40s 21ms/step - loss: 0.0243 - accuracy: 0.9915\n",
            "Epoch 10/10\n",
            "1875/1875 [==============================] - 40s 21ms/step - loss: 0.0206 - accuracy: 0.9931\n",
            "313/313 [==============================] - 2s 6ms/step - loss: 0.0376 - accuracy: 0.9891\n"
          ]
        },
        {
          "output_type": "execute_result",
          "data": {
            "text/plain": [
              "[0.03755372762680054, 0.9890999794006348]"
            ]
          },
          "metadata": {},
          "execution_count": 11
        }
      ]
    },
    {
      "cell_type": "code",
      "source": [
        "from keras.preprocessing import image\n",
        "from keras.preprocessing.image import img_to_array"
      ],
      "metadata": {
        "id": "RWNHK3cU2-v9"
      },
      "execution_count": null,
      "outputs": []
    },
    {
      "cell_type": "code",
      "source": [
        "#Making a single prediction\n",
        "unseen_image=image.load_img(\"/content/sample_data/zero.jpg\",color_mode=\"grayscale\",target_size=(28, 28, 1))\n",
        "unseen_image=image.img_to_array(unseen_image)\n",
        "unseen_image=img_to_array(unseen_image)\n",
        "unseen_image=unseen_image.reshape(1, 28, 28, 1)\n",
        "unseen_image=unseen_image.astype(\"float32\")\n",
        "unseen_image=unseen_image/255.0"
      ],
      "metadata": {
        "id": "BDZBp3yrx_3L"
      },
      "execution_count": null,
      "outputs": []
    },
    {
      "cell_type": "code",
      "source": [
        "unseen_image.shape"
      ],
      "metadata": {
        "colab": {
          "base_uri": "https://localhost:8080/"
        },
        "id": "pJprGK3Q4SX9",
        "outputId": "1eecdfeb-580d-488b-f898-c64847fef11f"
      },
      "execution_count": null,
      "outputs": [
        {
          "output_type": "execute_result",
          "data": {
            "text/plain": [
              "(1, 28, 28, 1)"
            ]
          },
          "metadata": {},
          "execution_count": 14
        }
      ]
    },
    {
      "cell_type": "code",
      "source": [
        "result=classifier.predict(unseen_image)\n",
        "print(\"The given image is of\",np.argmax(result) )"
      ],
      "metadata": {
        "colab": {
          "base_uri": "https://localhost:8080/"
        },
        "id": "O5ArNTdS297y",
        "outputId": "0b43260d-78ef-499f-afc8-7c48be5726b2"
      },
      "execution_count": null,
      "outputs": [
        {
          "output_type": "stream",
          "name": "stdout",
          "text": [
            "The given image is of 0\n"
          ]
        }
      ]
    }
  ]
}