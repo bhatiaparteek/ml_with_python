{
  "nbformat": 4,
  "nbformat_minor": 0,
  "metadata": {
    "colab": {
      "name": "Chapter 11 Implementation of Classifiers colab.ipynb",
      "provenance": [],
      "collapsed_sections": [],
      "mount_file_id": "1LE3ifiZB5GbVWnREEXkKoTS327j6yrvI",
      "authorship_tag": "ABX9TyPCpHGQmKXiOblZ5WAd+COu",
      "include_colab_link": true
    },
    "kernelspec": {
      "name": "python3",
      "display_name": "Python 3"
    },
    "language_info": {
      "name": "python"
    }
  },
  "cells": [
    {
      "cell_type": "markdown",
      "metadata": {
        "id": "view-in-github",
        "colab_type": "text"
      },
      "source": [
        "<a href=\"https://colab.research.google.com/github/Sukhi02/ML-Content/blob/main/Chapter%2011%20Implementation%20of%20Classifiers/Chapter_11_Implementation_of_Classifiers_colab.ipynb\" target=\"_parent\"><img src=\"https://colab.research.google.com/assets/colab-badge.svg\" alt=\"Open In Colab\"/></a>"
      ]
    },
    {
      "cell_type": "markdown",
      "metadata": {
        "id": "NNAZ1hPh1C_G"
      },
      "source": [
        "# Classifier – I (Decision Tree Classifier)"
      ]
    },
    {
      "cell_type": "markdown",
      "metadata": {
        "id": "Nqd5yo6Zomjb"
      },
      "source": [
        "1.1: Importing the Libraries"
      ]
    },
    {
      "cell_type": "code",
      "metadata": {
        "id": "ebba3nHdoPaN"
      },
      "source": [
        "#Importing the Libraries\n",
        "import numpy as np\n",
        "import matplotlib.pyplot as plt\n",
        "import pandas as pd "
      ],
      "execution_count": null,
      "outputs": []
    },
    {
      "cell_type": "markdown",
      "metadata": {
        "id": "XMOQBOa6p5gf"
      },
      "source": [
        "1.2: Importing the Dataset"
      ]
    },
    {
      "cell_type": "code",
      "metadata": {
        "id": "jVD-3tyioSFr"
      },
      "source": [
        "#Importing the Dataset\n",
        "PATH = '/content/drive/MyDrive/CHapter ML/Alexa_dataset.csv'\n",
        "Dataset =  pd.read_csv(PATH) \n",
        "X = Dataset.iloc[:, [2, 3]].values\n",
        "y = Dataset.iloc[:, 4].values"
      ],
      "execution_count": null,
      "outputs": []
    },
    {
      "cell_type": "markdown",
      "metadata": {
        "id": "covFBuBjp8cG"
      },
      "source": [
        "1.3: Splitting the dataset into the Training set and Test set "
      ]
    },
    {
      "cell_type": "code",
      "metadata": {
        "id": "vkKgI0w_oUwj"
      },
      "source": [
        "#Splitting the dataset into the Training set and Test set \n",
        "from sklearn.model_selection import train_test_split\n",
        "X_train, X_test, y_train, y_test = train_test_split(X, y, test_size = 0.25, random_state = 0)"
      ],
      "execution_count": null,
      "outputs": []
    },
    {
      "cell_type": "markdown",
      "metadata": {
        "id": "dAUjivwqp__7"
      },
      "source": [
        "1.4: Feature Scaling "
      ]
    },
    {
      "cell_type": "code",
      "metadata": {
        "id": "5DDzoXiBoX-8"
      },
      "source": [
        "#Feature Scaling \n",
        "from sklearn.preprocessing import StandardScaler\n",
        "scale_X = StandardScaler()\n",
        "X_train = scale_X.fit_transform(X_train)\n",
        "X_test = scale_X.transform(X_test)"
      ],
      "execution_count": null,
      "outputs": []
    },
    {
      "cell_type": "markdown",
      "metadata": {
        "id": "kL_NXbqQqGaR"
      },
      "source": [
        "1.5: Fitting Decision Tree Classification to the Training set "
      ]
    },
    {
      "cell_type": "code",
      "metadata": {
        "colab": {
          "base_uri": "https://localhost:8080/"
        },
        "id": "lQnL-HVcoZ-0",
        "outputId": "d1786b69-34f1-4c8e-9652-2e8c5387dcc0"
      },
      "source": [
        "# Classifier – I (Decision Tree Classifier)\n",
        "# Fitting Decision Tree Classification to the Training set \n",
        "from sklearn.tree import DecisionTreeClassifier\n",
        "classifier = DecisionTreeClassifier( criterion =  'entropy', random_state = 0)\n",
        "classifier.fit(X_train, y_train)"
      ],
      "execution_count": null,
      "outputs": [
        {
          "output_type": "execute_result",
          "data": {
            "text/plain": [
              "DecisionTreeClassifier(ccp_alpha=0.0, class_weight=None, criterion='entropy',\n",
              "                       max_depth=None, max_features=None, max_leaf_nodes=None,\n",
              "                       min_impurity_decrease=0.0, min_impurity_split=None,\n",
              "                       min_samples_leaf=1, min_samples_split=2,\n",
              "                       min_weight_fraction_leaf=0.0, presort='deprecated',\n",
              "                       random_state=0, splitter='best')"
            ]
          },
          "metadata": {},
          "execution_count": 69
        }
      ]
    },
    {
      "cell_type": "markdown",
      "metadata": {
        "id": "qOV-4OZ4qfP6"
      },
      "source": [
        "1.5:\tPredicting the Decision Tree Classifier"
      ]
    },
    {
      "cell_type": "code",
      "metadata": {
        "id": "4Q4QzUiloch1"
      },
      "source": [
        "# Predicting the Decision Tree Classifier\n",
        "y_pred = classifier.predict(X_test)"
      ],
      "execution_count": null,
      "outputs": []
    },
    {
      "cell_type": "markdown",
      "metadata": {
        "id": "iB2QEbdTqKNd"
      },
      "source": [
        "1.6: Making the confusion matrix"
      ]
    },
    {
      "cell_type": "code",
      "metadata": {
        "id": "ds5E9ypNofJt"
      },
      "source": [
        "#Making the confusion matrix\n",
        "from sklearn.metrics import confusion_matrix\n",
        "cm = confusion_matrix(y_test, y_pred)"
      ],
      "execution_count": null,
      "outputs": []
    },
    {
      "cell_type": "markdown",
      "metadata": {
        "id": "4dDZvJ4fqn1x"
      },
      "source": [
        "1.7: Performance metrics"
      ]
    },
    {
      "cell_type": "code",
      "metadata": {
        "colab": {
          "base_uri": "https://localhost:8080/"
        },
        "id": "vk4QU0EIog_7",
        "outputId": "29bf472a-45cb-4ae4-dae9-4f9439d20af8"
      },
      "source": [
        "#Performance metrics\n",
        "# Accuracy\n",
        "from sklearn.metrics import accuracy_score\n",
        "accuracy = accuracy_score(y_test, y_pred)\n",
        "print('Accuracy is %f' % accuracy)\n",
        "\n",
        "#Precision\n",
        "from sklearn.metrics import precision_score\n",
        "precision = precision_score(y_test, y_pred)\n",
        "print('Precision is %f' % precision)\n",
        " \n",
        "# Recall\n",
        "from sklearn.metrics import recall_score\n",
        "recall = recall_score(y_test, y_pred)\n",
        "print('Recall is %f' % recall) "
      ],
      "execution_count": null,
      "outputs": [
        {
          "output_type": "stream",
          "name": "stdout",
          "text": [
            "Accuracy is 0.910000\n",
            "Precision is 0.828571\n",
            "Recall is 0.906250\n"
          ]
        }
      ]
    },
    {
      "cell_type": "markdown",
      "metadata": {
        "id": "jXndQmAKq6EP"
      },
      "source": [
        "1.8: Function definition for visualization of results"
      ]
    },
    {
      "cell_type": "code",
      "metadata": {
        "id": "hIQcebwnkfDv"
      },
      "source": [
        "# Function definition for visualization of results\n",
        "def Visualizer(argument1, arguement2):\n",
        "  from matplotlib.colors import ListedColormap\n",
        "  X_set, y_set = argument1, arguement2\n",
        "  X1, X2 = np.meshgrid(np.arange(start=X_set[:,0].min()-1, stop        \n",
        "  =X_set[:,0].max()+1, step=0.01), \n",
        "  np.arange(start=X_set[:, 1].min() - 1, stop = \n",
        "  X_set[:, 1].max() + 1, step = 0.01))\n",
        "  plt.contourf(X1,X2,classifier.predict(np.array([X1.ravel(), \n",
        "  X2.ravel()]).T).reshape(X1.shape),\n",
        "  alpha= 0.75, cmap = ListedColormap(('red', 'green')))\n",
        "\n",
        "  plt.xlim(X1.min(), X1.max())\n",
        "  plt.ylim(X2.min(), X2.max())\n",
        "  for i, j in enumerate(np.unique(y_set)):\n",
        "    plt.scatter(X_set[y_set == j, 0], X_set[y_set == j, 1],\n",
        "    c = ListedColormap(('red', 'green'))(i), label=j)\n",
        "  plt.xlabel('Age')\n",
        "  plt.ylabel('Minutes_of_Music_Consumed')\n",
        "  plt.legend()\n",
        "  plt.show()"
      ],
      "execution_count": null,
      "outputs": []
    },
    {
      "cell_type": "markdown",
      "metadata": {
        "id": "zy-fqwRZq-xw"
      },
      "source": [
        "1.9: Visualizing the Training set results"
      ]
    },
    {
      "cell_type": "code",
      "metadata": {
        "colab": {
          "base_uri": "https://localhost:8080/",
          "height": 336
        },
        "id": "9lZ12jrxrGob",
        "outputId": "73975548-dea1-4242-ce8c-4eb0ce3cac41"
      },
      "source": [
        "#Visualizing the Training set results\n",
        "Visualizer(X_train, y_train) "
      ],
      "execution_count": null,
      "outputs": [
        {
          "output_type": "stream",
          "name": "stderr",
          "text": [
            "*c* argument looks like a single numeric RGB or RGBA sequence, which should be avoided as value-mapping will have precedence in case its length matches with *x* & *y*.  Please use the *color* keyword-argument or provide a 2-D array with a single row if you intend to specify the same RGB or RGBA value for all points.\n",
            "*c* argument looks like a single numeric RGB or RGBA sequence, which should be avoided as value-mapping will have precedence in case its length matches with *x* & *y*.  Please use the *color* keyword-argument or provide a 2-D array with a single row if you intend to specify the same RGB or RGBA value for all points.\n"
          ]
        },
        {
          "output_type": "display_data",
          "data": {
            "image/png": "[encoded data removed]",
            "text/plain": [
              "<Figure size 432x288 with 1 Axes>"
            ]
          },
          "metadata": {
            "needs_background": "light"
          }
        }
      ]
    },
    {
      "cell_type": "markdown",
      "metadata": {
        "id": "rN0vAiJWrIIu"
      },
      "source": [
        "1.10: Visualizing the Test set results"
      ]
    },
    {
      "cell_type": "code",
      "metadata": {
        "colab": {
          "base_uri": "https://localhost:8080/",
          "height": 336
        },
        "id": "bsvwb1UOrK_S",
        "outputId": "b0227f41-c817-41e8-9411-bcaccd4f3d40"
      },
      "source": [
        "#Visualizing the Test set results\n",
        "Visualizer(X_test, y_test)"
      ],
      "execution_count": null,
      "outputs": [
        {
          "output_type": "stream",
          "name": "stderr",
          "text": [
            "*c* argument looks like a single numeric RGB or RGBA sequence, which should be avoided as value-mapping will have precedence in case its length matches with *x* & *y*.  Please use the *color* keyword-argument or provide a 2-D array with a single row if you intend to specify the same RGB or RGBA value for all points.\n",
            "*c* argument looks like a single numeric RGB or RGBA sequence, which should be avoided as value-mapping will have precedence in case its length matches with *x* & *y*.  Please use the *color* keyword-argument or provide a 2-D array with a single row if you intend to specify the same RGB or RGBA value for all points.\n"
          ]
        },
        {
          "output_type": "display_data",
          "data": {
            "image/png": "[encoded data removed]",
            "text/plain": [
              "<Figure size 432x288 with 1 Axes>"
            ]
          },
          "metadata": {
            "needs_background": "light"
          }
        }
      ]
    },
    {
      "cell_type": "markdown",
      "metadata": {
        "id": "7KuTc9CQt0bC"
      },
      "source": [
        "# Classifier – II (Random Forest Classifier)"
      ]
    },
    {
      "cell_type": "markdown",
      "metadata": {
        "id": "7LdHMbct1Rxw"
      },
      "source": [
        "2.1: Importing the Libraries"
      ]
    },
    {
      "cell_type": "code",
      "metadata": {
        "id": "rEw77mo-1Rxw"
      },
      "source": [
        "#Importing the Libraries\n",
        "import numpy as np\n",
        "import matplotlib.pyplot as plt\n",
        "import pandas as pd "
      ],
      "execution_count": null,
      "outputs": []
    },
    {
      "cell_type": "markdown",
      "metadata": {
        "id": "pQOdoLy91Rxw"
      },
      "source": [
        "2.2: Importing the Dataset"
      ]
    },
    {
      "cell_type": "code",
      "metadata": {
        "id": "JfpAc7KT1Rxx"
      },
      "source": [
        "#Importing the Dataset\n",
        "Dataset =  pd.read_csv(PATH) \n",
        "X = Dataset.iloc[:, [2, 3]].values\n",
        "y = Dataset.iloc[:, 4].values"
      ],
      "execution_count": null,
      "outputs": []
    },
    {
      "cell_type": "markdown",
      "metadata": {
        "id": "d8LT2Auq1Rxx"
      },
      "source": [
        "2.3: Splitting the dataset into the Training set and Test set "
      ]
    },
    {
      "cell_type": "code",
      "metadata": {
        "id": "VCLXz1CR1Rxy"
      },
      "source": [
        "#Splitting the dataset into the Training set and Test set \n",
        "from sklearn.model_selection import train_test_split\n",
        "X_train, X_test, y_train, y_test = train_test_split(X, y, test_size = 0.25, random_state = 0)"
      ],
      "execution_count": null,
      "outputs": []
    },
    {
      "cell_type": "markdown",
      "metadata": {
        "id": "yf6Qst2Q1Rxy"
      },
      "source": [
        "2.4: Feature Scaling "
      ]
    },
    {
      "cell_type": "code",
      "metadata": {
        "id": "B-D9ui_n1Rxy"
      },
      "source": [
        "#Feature Scaling \n",
        "from sklearn.preprocessing import StandardScaler\n",
        "scale_X = StandardScaler()\n",
        "X_train = scale_X.fit_transform(X_train)\n",
        "X_test = scale_X.transform(X_test)"
      ],
      "execution_count": null,
      "outputs": []
    },
    {
      "cell_type": "markdown",
      "metadata": {
        "id": "k9PM4WnpxrVU"
      },
      "source": [
        "2.5: Fitting Random Forest Classification to the Training set "
      ]
    },
    {
      "cell_type": "code",
      "metadata": {
        "colab": {
          "base_uri": "https://localhost:8080/"
        },
        "id": "8P6ASwynv6gi",
        "outputId": "a26f42e1-d3ee-45cf-f6ad-39be57a2c631"
      },
      "source": [
        "# Classifier – II (Random Forest Classifier)\n",
        "# Fitting Random Forest Classification to the Training set \n",
        "from sklearn.ensemble import RandomForestClassifier\n",
        "classifier = RandomForestClassifier(n_estimators = 10, criterion =  'entropy', random_state = 0)\n",
        "classifier.fit(X_train, y_train)"
      ],
      "execution_count": null,
      "outputs": [
        {
          "output_type": "execute_result",
          "data": {
            "text/plain": [
              "RandomForestClassifier(bootstrap=True, ccp_alpha=0.0, class_weight=None,\n",
              "                       criterion='entropy', max_depth=None, max_features='auto',\n",
              "                       max_leaf_nodes=None, max_samples=None,\n",
              "                       min_impurity_decrease=0.0, min_impurity_split=None,\n",
              "                       min_samples_leaf=1, min_samples_split=2,\n",
              "                       min_weight_fraction_leaf=0.0, n_estimators=10,\n",
              "                       n_jobs=None, oob_score=False, random_state=0, verbose=0,\n",
              "                       warm_start=False)"
            ]
          },
          "metadata": {},
          "execution_count": 80
        }
      ]
    },
    {
      "cell_type": "markdown",
      "metadata": {
        "id": "y282BMzAxjp9"
      },
      "source": [
        "2.6: Predicting the Test set results"
      ]
    },
    {
      "cell_type": "code",
      "metadata": {
        "id": "KkOiD53txfg3"
      },
      "source": [
        "# Predicting the Test set results\n",
        "y_pred = classifier.predict(X_test)"
      ],
      "execution_count": null,
      "outputs": []
    },
    {
      "cell_type": "markdown",
      "metadata": {
        "id": "Ur7cX8F0x7DD"
      },
      "source": [
        "2.7: Making the confusion matrix\n"
      ]
    },
    {
      "cell_type": "code",
      "metadata": {
        "id": "i5K_a-qKyi9M"
      },
      "source": [
        "from sklearn.metrics import confusion_matrix\n",
        "cm = confusion_matrix(y_test, y_pred)"
      ],
      "execution_count": null,
      "outputs": []
    },
    {
      "cell_type": "markdown",
      "metadata": {
        "id": "7iQRYEkdy6oK"
      },
      "source": [
        "2.8: Performance metrics"
      ]
    },
    {
      "cell_type": "code",
      "metadata": {
        "colab": {
          "base_uri": "https://localhost:8080/"
        },
        "id": "rqsfC1Cky4hA",
        "outputId": "c6c6c021-aaa7-405c-bbc8-ee5fd9f3d1f7"
      },
      "source": [
        "#Performance metrics\n",
        "# Accuracy\n",
        "from sklearn.metrics import accuracy_score\n",
        "accuracy = accuracy_score(y_test, y_pred)\n",
        "print('Accuracy is %f' % accuracy)\n",
        "\t \n",
        "# Precision\n",
        "from sklearn.metrics import precision_score\n",
        "precision = precision_score(y_test, y_pred)\n",
        "print('Precision is %f' % precision)\n",
        " \n",
        "# Recall\n",
        "from sklearn.metrics import recall_score\n",
        "recall = recall_score(y_test, y_pred)\n",
        "print('Recall is %f' % recall) "
      ],
      "execution_count": null,
      "outputs": [
        {
          "output_type": "stream",
          "name": "stdout",
          "text": [
            "Accuracy is 0.910000\n",
            "Precision is 0.828571\n",
            "Recall is 0.906250\n"
          ]
        }
      ]
    },
    {
      "cell_type": "markdown",
      "metadata": {
        "id": "7oek9ZazzsL4"
      },
      "source": [
        "2.9: Visualizing the Training set results\n"
      ]
    },
    {
      "cell_type": "code",
      "metadata": {
        "colab": {
          "base_uri": "https://localhost:8080/"
        },
        "id": "9VfT8OvVz6aE",
        "outputId": "9a58c7ab-d384-4e1c-8de7-829dea17f0d6"
      },
      "source": [
        "#Visualizing the Training set results\n",
        "Visualizer(X_train, y_train) "
      ],
      "execution_count": null,
      "outputs": [
        {
          "output_type": "stream",
          "name": "stderr",
          "text": [
            "*c* argument looks like a single numeric RGB or RGBA sequence, which should be avoided as value-mapping will have precedence in case its length matches with *x* & *y*.  Please use the *color* keyword-argument or provide a 2-D array with a single row if you intend to specify the same RGB or RGBA value for all points.\n",
            "*c* argument looks like a single numeric RGB or RGBA sequence, which should be avoided as value-mapping will have precedence in case its length matches with *x* & *y*.  Please use the *color* keyword-argument or provide a 2-D array with a single row if you intend to specify the same RGB or RGBA value for all points.\n"
          ]
        },
        {
          "output_type": "display_data",
          "data": {
            "image/png": "[encoded data removed]",
            "text/plain": [
              "<Figure size 432x288 with 1 Axes>"
            ]
          },
          "metadata": {
            "needs_background": "light"
          }
        }
      ]
    },
    {
      "cell_type": "markdown",
      "metadata": {
        "id": "4er3QPtG0UOm"
      },
      "source": [
        "2.10: Visualizing the Test set results"
      ]
    },
    {
      "cell_type": "code",
      "metadata": {
        "colab": {
          "base_uri": "https://localhost:8080/"
        },
        "id": "GOpLhqiZ0QY2",
        "outputId": "49b83ca4-1ccb-4f31-bf73-bdc7a53a978d"
      },
      "source": [
        "#Visualizing the Test set results\n",
        "Visualizer(X_test, y_test) "
      ],
      "execution_count": null,
      "outputs": [
        {
          "output_type": "stream",
          "name": "stderr",
          "text": [
            "*c* argument looks like a single numeric RGB or RGBA sequence, which should be avoided as value-mapping will have precedence in case its length matches with *x* & *y*.  Please use the *color* keyword-argument or provide a 2-D array with a single row if you intend to specify the same RGB or RGBA value for all points.\n",
            "*c* argument looks like a single numeric RGB or RGBA sequence, which should be avoided as value-mapping will have precedence in case its length matches with *x* & *y*.  Please use the *color* keyword-argument or provide a 2-D array with a single row if you intend to specify the same RGB or RGBA value for all points.\n"
          ]
        },
        {
          "output_type": "display_data",
          "data": {
            "image/png": "[encoded data removed]",
            "text/plain": [
              "<Figure size 432x288 with 1 Axes>"
            ]
          },
          "metadata": {
            "needs_background": "light"
          }
        }
      ]
    },
    {
      "cell_type": "markdown",
      "metadata": {
        "id": "WDBMbSZI4YOH"
      },
      "source": [
        "# Classifier – III (Naïve Bayes Classifier)"
      ]
    },
    {
      "cell_type": "markdown",
      "metadata": {
        "id": "dgiX1Hya4YOI"
      },
      "source": [
        "3.1: Importing the Libraries"
      ]
    },
    {
      "cell_type": "code",
      "metadata": {
        "id": "2LOVn0vr4YOI"
      },
      "source": [
        "#Importing the Libraries\n",
        "import numpy as np\n",
        "import matplotlib.pyplot as plt\n",
        "import pandas as pd "
      ],
      "execution_count": 1,
      "outputs": []
    },
    {
      "cell_type": "markdown",
      "metadata": {
        "id": "OgGGWuxj4YOI"
      },
      "source": [
        "3.2: Importing the Dataset"
      ]
    },
    {
      "cell_type": "code",
      "metadata": {
        "id": "A1J2GWsj4YOJ",
        "colab": {
          "base_uri": "https://localhost:8080/",
          "height": 231
        },
        "outputId": "169fd553-5590-4150-d543-acfae9b015bc"
      },
      "source": [
        "#Importing the Dataset\n",
        "Dataset =  pd.read_csv(PATH) \n",
        "X = Dataset.iloc[:, [2, 3]].values\n",
        "y = Dataset.iloc[:, 4].values"
      ],
      "execution_count": 2,
      "outputs": [
        {
          "output_type": "error",
          "ename": "NameError",
          "evalue": "ignored",
          "traceback": [
            "\u001b[0;31m---------------------------------------------------------------------------\u001b[0m",
            "\u001b[0;31mNameError\u001b[0m                                 Traceback (most recent call last)",
            "\u001b[0;32m<ipython-input-2-07a3bbe3b2f8>\u001b[0m in \u001b[0;36m<module>\u001b[0;34m()\u001b[0m\n\u001b[1;32m      1\u001b[0m \u001b[0;31m#Importing the Dataset\u001b[0m\u001b[0;34m\u001b[0m\u001b[0;34m\u001b[0m\u001b[0;34m\u001b[0m\u001b[0m\n\u001b[0;32m----> 2\u001b[0;31m \u001b[0mDataset\u001b[0m \u001b[0;34m=\u001b[0m  \u001b[0mpd\u001b[0m\u001b[0;34m.\u001b[0m\u001b[0mread_csv\u001b[0m\u001b[0;34m(\u001b[0m\u001b[0mPATH\u001b[0m\u001b[0;34m)\u001b[0m\u001b[0;34m\u001b[0m\u001b[0;34m\u001b[0m\u001b[0m\n\u001b[0m\u001b[1;32m      3\u001b[0m \u001b[0mX\u001b[0m \u001b[0;34m=\u001b[0m \u001b[0mDataset\u001b[0m\u001b[0;34m.\u001b[0m\u001b[0miloc\u001b[0m\u001b[0;34m[\u001b[0m\u001b[0;34m:\u001b[0m\u001b[0;34m,\u001b[0m \u001b[0;34m[\u001b[0m\u001b[0;36m2\u001b[0m\u001b[0;34m,\u001b[0m \u001b[0;36m3\u001b[0m\u001b[0;34m]\u001b[0m\u001b[0;34m]\u001b[0m\u001b[0;34m.\u001b[0m\u001b[0mvalues\u001b[0m\u001b[0;34m\u001b[0m\u001b[0;34m\u001b[0m\u001b[0m\n\u001b[1;32m      4\u001b[0m \u001b[0my\u001b[0m \u001b[0;34m=\u001b[0m \u001b[0mDataset\u001b[0m\u001b[0;34m.\u001b[0m\u001b[0miloc\u001b[0m\u001b[0;34m[\u001b[0m\u001b[0;34m:\u001b[0m\u001b[0;34m,\u001b[0m \u001b[0;36m4\u001b[0m\u001b[0;34m]\u001b[0m\u001b[0;34m.\u001b[0m\u001b[0mvalues\u001b[0m\u001b[0;34m\u001b[0m\u001b[0;34m\u001b[0m\u001b[0m\n",
            "\u001b[0;31mNameError\u001b[0m: name 'PATH' is not defined"
          ]
        }
      ]
    },
    {
      "cell_type": "markdown",
      "metadata": {
        "id": "MCbgI-tI4YOJ"
      },
      "source": [
        "3.3: Splitting the dataset into the Training set and Test set "
      ]
    },
    {
      "cell_type": "code",
      "metadata": {
        "id": "MuPVCyaX4YOJ"
      },
      "source": [
        "#Splitting the dataset into the Training set and Test set \n",
        "from sklearn.model_selection import train_test_split\n",
        "X_train, X_test, y_train, y_test = train_test_split(X, y, test_size = 0.25, random_state = 0)"
      ],
      "execution_count": null,
      "outputs": []
    },
    {
      "cell_type": "markdown",
      "metadata": {
        "id": "TcaX8NI_4YOJ"
      },
      "source": [
        "3.4: Feature Scaling "
      ]
    },
    {
      "cell_type": "code",
      "metadata": {
        "id": "1BLmzHcj4YOK"
      },
      "source": [
        "#Feature Scaling \n",
        "from sklearn.preprocessing import StandardScaler\n",
        "scale_X = StandardScaler()\n",
        "X_train = scale_X.fit_transform(X_train)\n",
        "X_test = scale_X.transform(X_test)"
      ],
      "execution_count": null,
      "outputs": []
    },
    {
      "cell_type": "markdown",
      "metadata": {
        "id": "aOlMUFrd4YOK"
      },
      "source": [
        "3.5: Fitting Naive Bayes to the Training set "
      ]
    },
    {
      "cell_type": "code",
      "metadata": {
        "id": "tKn_huCI4YOL"
      },
      "source": [
        "# Classifier – III  (Naïve Bayes Classifier)\n",
        "# Fitting Naïve Bayes to the Training set \n",
        "from sklearn.naive_bayes import GaussianNB\n",
        "classifier = GaussianNB()\n",
        "classifier.fit(X_train, y_train)"
      ],
      "execution_count": null,
      "outputs": []
    },
    {
      "cell_type": "markdown",
      "metadata": {
        "id": "sWaifO_G4YOM"
      },
      "source": [
        "3.6: Predicting the Test set results"
      ]
    },
    {
      "cell_type": "code",
      "metadata": {
        "id": "YG0GNmrI4YOM"
      },
      "source": [
        "# Predicting the Test set results\n",
        "y_pred = classifier.predict(X_test)"
      ],
      "execution_count": null,
      "outputs": []
    },
    {
      "cell_type": "markdown",
      "metadata": {
        "id": "4S5hrfei4YOM"
      },
      "source": [
        "3.7: Making the confusion matrix\n"
      ]
    },
    {
      "cell_type": "code",
      "metadata": {
        "id": "bQ2jHIZy4YON"
      },
      "source": [
        "from sklearn.metrics import confusion_matrix\n",
        "cm = confusion_matrix(y_test, y_pred)"
      ],
      "execution_count": null,
      "outputs": []
    },
    {
      "cell_type": "markdown",
      "metadata": {
        "id": "SlKvxlwf4YON"
      },
      "source": [
        "3.8: Performance metrics"
      ]
    },
    {
      "cell_type": "code",
      "metadata": {
        "id": "4RdPliXY4YON"
      },
      "source": [
        "#Performance metrics\n",
        "# Accuracy\n",
        "from sklearn.metrics import accuracy_score\n",
        "accuracy = accuracy_score(y_test, y_pred)\n",
        "print('Accuracy is %f' % accuracy)\n",
        "\t \n",
        "# Precision\n",
        "from sklearn.metrics import precision_score\n",
        "precision = precision_score(y_test, y_pred)\n",
        "print('Precision is %f' % precision)\n",
        " \n",
        "# Recall\n",
        "from sklearn.metrics import recall_score\n",
        "recall = recall_score(y_test, y_pred)\n",
        "print('Recall is %f'% recall) "
      ],
      "execution_count": null,
      "outputs": []
    },
    {
      "cell_type": "markdown",
      "metadata": {
        "id": "mF420Z-R4YON"
      },
      "source": [
        "3.9: Visualizing the Training set results\n"
      ]
    },
    {
      "cell_type": "code",
      "metadata": {
        "id": "c7-1RCoc4YON"
      },
      "source": [
        "#Visualizing the Training set results\n",
        "Visualizer(X_train, y_train) "
      ],
      "execution_count": null,
      "outputs": []
    },
    {
      "cell_type": "markdown",
      "metadata": {
        "id": "lLOnfnwu4YON"
      },
      "source": [
        "3.10: Visualizing the Test set results"
      ]
    },
    {
      "cell_type": "code",
      "metadata": {
        "id": "ldVYX5S14YOO"
      },
      "source": [
        "#Visualizing the Test set results\n",
        "Visualizer(X_test, y_test) "
      ],
      "execution_count": null,
      "outputs": []
    },
    {
      "cell_type": "markdown",
      "metadata": {
        "id": "25mc4wjn9tiC"
      },
      "source": [
        "# Classifier – IV (K-Nearest Neighbors)"
      ]
    },
    {
      "cell_type": "markdown",
      "metadata": {
        "id": "qltbqHiR9tiC"
      },
      "source": [
        "4.1: Importing the Libraries"
      ]
    },
    {
      "cell_type": "code",
      "metadata": {
        "id": "UWtOfsZK9tiC"
      },
      "source": [
        "#Importing the Libraries\n",
        "import numpy as np\n",
        "import matplotlib.pyplot as plt\n",
        "import pandas as pd "
      ],
      "execution_count": null,
      "outputs": []
    },
    {
      "cell_type": "markdown",
      "metadata": {
        "id": "q01XmHvX9tiC"
      },
      "source": [
        "4.2: Importing the Dataset"
      ]
    },
    {
      "cell_type": "code",
      "metadata": {
        "id": "RavnGw2J9tiD"
      },
      "source": [
        "#Importing the Dataset\n",
        "Dataset =  pd.read_csv(PATH) \n",
        "X = Dataset.iloc[:, [2, 3]].values\n",
        "y = Dataset.iloc[:, 4].values"
      ],
      "execution_count": null,
      "outputs": []
    },
    {
      "cell_type": "markdown",
      "metadata": {
        "id": "V0tGSdqB9tiD"
      },
      "source": [
        "4.3: Splitting the dataset into the Training set and Test set "
      ]
    },
    {
      "cell_type": "code",
      "metadata": {
        "id": "BVBWOsj09tiD"
      },
      "source": [
        "#Splitting the dataset into the Training set and Test set \n",
        "from sklearn.model_selection import train_test_split\n",
        "X_train, X_test, y_train, y_test = train_test_split(X, y, test_size = 0.25, random_state = 0)"
      ],
      "execution_count": null,
      "outputs": []
    },
    {
      "cell_type": "markdown",
      "metadata": {
        "id": "H-YEUYFt9tiE"
      },
      "source": [
        "4.4: Feature Scaling "
      ]
    },
    {
      "cell_type": "code",
      "metadata": {
        "id": "i4PIGOSE9tiF"
      },
      "source": [
        "#Feature Scaling \n",
        "from sklearn.preprocessing import StandardScaler\n",
        "scale_X = StandardScaler()\n",
        "X_train = scale_X.fit_transform(X_train)\n",
        "X_test = scale_X.transform(X_test)"
      ],
      "execution_count": null,
      "outputs": []
    },
    {
      "cell_type": "markdown",
      "metadata": {
        "id": "O-5WtY4p9tiF"
      },
      "source": [
        "4.5: Fitting KNN to the Training set "
      ]
    },
    {
      "cell_type": "code",
      "metadata": {
        "colab": {
          "base_uri": "https://localhost:8080/"
        },
        "id": "bIGo9J6t9tiG",
        "outputId": "acf2e527-1b4b-4b2f-e3ef-b34acd6c127a"
      },
      "source": [
        "# Classifier – IV  (KNN)\n",
        "# Fitting KNN to the Training set \n",
        "from sklearn.neighbors import KNeighborsClassifier\n",
        "classifier = KNeighborsClassifier( n_neighbors = 5, metric =  'minkowski', p = 2)\n",
        "classifier.fit(X_train, y_train)"
      ],
      "execution_count": null,
      "outputs": [
        {
          "output_type": "execute_result",
          "data": {
            "text/plain": [
              "KNeighborsClassifier(algorithm='auto', leaf_size=30, metric='minkowski',\n",
              "                     metric_params=None, n_jobs=None, n_neighbors=5, p=2,\n",
              "                     weights='uniform')"
            ]
          },
          "metadata": {},
          "execution_count": 100
        }
      ]
    },
    {
      "cell_type": "markdown",
      "metadata": {
        "id": "nmkvdvqe9tiG"
      },
      "source": [
        "2.6: Predicting the Test set results"
      ]
    },
    {
      "cell_type": "code",
      "metadata": {
        "id": "Z6V2wTS69tiH"
      },
      "source": [
        "# Predicting the Test set results\n",
        "y_pred = classifier.predict(X_test)"
      ],
      "execution_count": null,
      "outputs": []
    },
    {
      "cell_type": "markdown",
      "metadata": {
        "id": "Ivw3BHOI9tiH"
      },
      "source": [
        "4.7: Making the confusion matrix\n"
      ]
    },
    {
      "cell_type": "code",
      "metadata": {
        "id": "oGl-HZ8T9tiH"
      },
      "source": [
        "from sklearn.metrics import confusion_matrix\n",
        "cm = confusion_matrix(y_test, y_pred)"
      ],
      "execution_count": null,
      "outputs": []
    },
    {
      "cell_type": "markdown",
      "metadata": {
        "id": "i8Jry9Ii9tiH"
      },
      "source": [
        "4.8: Performance metrics"
      ]
    },
    {
      "cell_type": "code",
      "metadata": {
        "colab": {
          "base_uri": "https://localhost:8080/"
        },
        "id": "6Qa9rAmy9tiI",
        "outputId": "36b8bd2d-2f34-4012-dcab-fc5d2a9d8fc0"
      },
      "source": [
        "#Performance metrics\n",
        "# Accuracy\n",
        "from sklearn.metrics import accuracy_score\n",
        "accuracy = accuracy_score(y_test, y_pred)\n",
        "print('Accuracy is %f'% accuracy)\n",
        "\t \n",
        "# Precision\n",
        "from sklearn.metrics import precision_score\n",
        "precision = precision_score(y_test, y_pred)\n",
        "print('Precision is %f' % precision)\n",
        " \n",
        "# Recall\n",
        "from sklearn.metrics import recall_score\n",
        "recall = recall_score(y_test, y_pred)\n",
        "print('Recall is %f' % recall) "
      ],
      "execution_count": null,
      "outputs": [
        {
          "output_type": "stream",
          "name": "stdout",
          "text": [
            "Accuracy is 0.910000\n",
            "Precision is 0.828571\n",
            "Recall is 0.906250\n"
          ]
        }
      ]
    },
    {
      "cell_type": "markdown",
      "metadata": {
        "id": "CeYcxDo49tiI"
      },
      "source": [
        "4.9: Visualizing the Training set results\n"
      ]
    },
    {
      "cell_type": "code",
      "metadata": {
        "colab": {
          "base_uri": "https://localhost:8080/"
        },
        "id": "r6MNiF199tiI",
        "outputId": "3c4e287d-7eae-4349-c8cf-ab0f68d8e9ff"
      },
      "source": [
        "#Visualizing the Training set results\n",
        "Visualizer(X_train, y_train) "
      ],
      "execution_count": null,
      "outputs": [
        {
          "output_type": "stream",
          "name": "stderr",
          "text": [
            "*c* argument looks like a single numeric RGB or RGBA sequence, which should be avoided as value-mapping will have precedence in case its length matches with *x* & *y*.  Please use the *color* keyword-argument or provide a 2-D array with a single row if you intend to specify the same RGB or RGBA value for all points.\n",
            "*c* argument looks like a single numeric RGB or RGBA sequence, which should be avoided as value-mapping will have precedence in case its length matches with *x* & *y*.  Please use the *color* keyword-argument or provide a 2-D array with a single row if you intend to specify the same RGB or RGBA value for all points.\n"
          ]
        },
        {
          "output_type": "display_data",
          "data": {
            "image/png": "[encoded data removed]",
            "text/plain": [
              "<Figure size 432x288 with 1 Axes>"
            ]
          },
          "metadata": {
            "needs_background": "light"
          }
        }
      ]
    },
    {
      "cell_type": "markdown",
      "metadata": {
        "id": "hsxsJ-iX9tiJ"
      },
      "source": [
        "4.10: Visualizing the Test set results"
      ]
    },
    {
      "cell_type": "code",
      "metadata": {
        "colab": {
          "base_uri": "https://localhost:8080/"
        },
        "id": "XnEz2mxh9tiJ",
        "outputId": "9a9d08bb-4f05-4f77-e4b0-7c1efabbfd05"
      },
      "source": [
        "#Visualizing the Test set results\n",
        "Visualizer(X_test, y_test) "
      ],
      "execution_count": null,
      "outputs": [
        {
          "output_type": "stream",
          "name": "stderr",
          "text": [
            "*c* argument looks like a single numeric RGB or RGBA sequence, which should be avoided as value-mapping will have precedence in case its length matches with *x* & *y*.  Please use the *color* keyword-argument or provide a 2-D array with a single row if you intend to specify the same RGB or RGBA value for all points.\n",
            "*c* argument looks like a single numeric RGB or RGBA sequence, which should be avoided as value-mapping will have precedence in case its length matches with *x* & *y*.  Please use the *color* keyword-argument or provide a 2-D array with a single row if you intend to specify the same RGB or RGBA value for all points.\n"
          ]
        },
        {
          "output_type": "display_data",
          "data": {
            "image/png": "[encoded data removed]",
            "text/plain": [
              "<Figure size 432x288 with 1 Axes>"
            ]
          },
          "metadata": {
            "needs_background": "light"
          }
        }
      ]
    },
    {
      "cell_type": "markdown",
      "metadata": {
        "id": "KoeDg9jrGRWT"
      },
      "source": [
        "# Classifier – V (Logistic Regression)"
      ]
    },
    {
      "cell_type": "markdown",
      "metadata": {
        "id": "2T9PCcvJGRWU"
      },
      "source": [
        "5.1: Importing the Libraries"
      ]
    },
    {
      "cell_type": "code",
      "metadata": {
        "id": "2Dk55aW4GRWU"
      },
      "source": [
        "#Importing the Libraries\n",
        "import numpy as np\n",
        "import matplotlib.pyplot as plt\n",
        "import pandas as pd "
      ],
      "execution_count": null,
      "outputs": []
    },
    {
      "cell_type": "markdown",
      "metadata": {
        "id": "asHOoPOMGRWU"
      },
      "source": [
        "5.2: Importing the Dataset"
      ]
    },
    {
      "cell_type": "code",
      "metadata": {
        "id": "OKm3syFUGRWV"
      },
      "source": [
        "#Importing the Dataset\n",
        "Dataset =  pd.read_csv(PATH) \n",
        "X = Dataset.iloc[:, [2, 3]].values\n",
        "y = Dataset.iloc[:, 4].values"
      ],
      "execution_count": null,
      "outputs": []
    },
    {
      "cell_type": "markdown",
      "metadata": {
        "id": "dwzHKIgjGRWV"
      },
      "source": [
        "5.3: Splitting the dataset into the Training set and Test set "
      ]
    },
    {
      "cell_type": "code",
      "metadata": {
        "id": "crKyoNQpGRWV"
      },
      "source": [
        "#Splitting the dataset into the Training set and Test set \n",
        "from sklearn.model_selection import train_test_split\n",
        "X_train, X_test, y_train, y_test = train_test_split(X, y, test_size = 0.25, random_state = 0)"
      ],
      "execution_count": null,
      "outputs": []
    },
    {
      "cell_type": "markdown",
      "metadata": {
        "id": "MVmy_HyBGRWV"
      },
      "source": [
        "5.4: Feature Scaling "
      ]
    },
    {
      "cell_type": "code",
      "metadata": {
        "id": "B1DAVPi0GRWW"
      },
      "source": [
        "#Feature Scaling \n",
        "from sklearn.preprocessing import StandardScaler\n",
        "scale_X = StandardScaler()\n",
        "X_train = scale_X.fit_transform(X_train)\n",
        "X_test = scale_X.transform(X_test)"
      ],
      "execution_count": null,
      "outputs": []
    },
    {
      "cell_type": "markdown",
      "metadata": {
        "id": "B55XQE1HGRWW"
      },
      "source": [
        "5.5: Fitting LR to the Training set "
      ]
    },
    {
      "cell_type": "code",
      "metadata": {
        "colab": {
          "base_uri": "https://localhost:8080/"
        },
        "id": "WkOucp4EGRWW",
        "outputId": "ed4ec063-da79-4477-bb14-f6e6feb3e7cc"
      },
      "source": [
        "# Classifier – V (Logistic Regression)\n",
        "# Fitting Logistic Regression to the Training set \n",
        "from sklearn.linear_model import LogisticRegression\n",
        "classifier = LogisticRegression( random_state = 0)\n",
        "classifier.fit(X_train, y_train)\n"
      ],
      "execution_count": null,
      "outputs": [
        {
          "output_type": "execute_result",
          "data": {
            "text/plain": [
              "LogisticRegression(C=1.0, class_weight=None, dual=False, fit_intercept=True,\n",
              "                   intercept_scaling=1, l1_ratio=None, max_iter=100,\n",
              "                   multi_class='auto', n_jobs=None, penalty='l2',\n",
              "                   random_state=0, solver='lbfgs', tol=0.0001, verbose=0,\n",
              "                   warm_start=False)"
            ]
          },
          "metadata": {},
          "execution_count": 110
        }
      ]
    },
    {
      "cell_type": "markdown",
      "metadata": {
        "id": "jUroL5RAGRWW"
      },
      "source": [
        "5.6: Predicting the Test set results"
      ]
    },
    {
      "cell_type": "code",
      "metadata": {
        "id": "G15-yJgjGRWW"
      },
      "source": [
        "# Predicting the Test set results\n",
        "y_pred = classifier.predict(X_test)"
      ],
      "execution_count": null,
      "outputs": []
    },
    {
      "cell_type": "markdown",
      "metadata": {
        "id": "NywiOs7RGRWX"
      },
      "source": [
        "5.7: Making the confusion matrix\n"
      ]
    },
    {
      "cell_type": "code",
      "metadata": {
        "id": "1CRnC34ZGRWX"
      },
      "source": [
        "from sklearn.metrics import confusion_matrix\n",
        "cm = confusion_matrix(y_test, y_pred)"
      ],
      "execution_count": null,
      "outputs": []
    },
    {
      "cell_type": "markdown",
      "metadata": {
        "id": "KYyis7cRGRWY"
      },
      "source": [
        "5.8: Performance metrics"
      ]
    },
    {
      "cell_type": "code",
      "metadata": {
        "colab": {
          "base_uri": "https://localhost:8080/"
        },
        "id": "eW-Az4rzGRWY",
        "outputId": "15f37e2e-354f-4a53-d8a5-033937085b6c"
      },
      "source": [
        "#Performance metrics\n",
        "# Accuracy\n",
        "from sklearn.metrics import accuracy_score\n",
        "accuracy = accuracy_score(y_test, y_pred)\n",
        "print('Accuracy is %f'% accuracy)\n",
        "\t \n",
        "# Precision\n",
        "from sklearn.metrics import precision_score\n",
        "precision = precision_score(y_test, y_pred)\n",
        "print('Precision is %f' % precision)\n",
        " \n",
        "# Recall\n",
        "from sklearn.metrics import recall_score\n",
        "recall = recall_score(y_test, y_pred)\n",
        "print('Recall is %f' % recall) "
      ],
      "execution_count": null,
      "outputs": [
        {
          "output_type": "stream",
          "name": "stdout",
          "text": [
            "Accuracy is 0.910000\n",
            "Precision is 0.828571\n",
            "Recall is 0.906250\n"
          ]
        }
      ]
    },
    {
      "cell_type": "markdown",
      "metadata": {
        "id": "vNKrjWw5GRWY"
      },
      "source": [
        "5.9: Visualizing the Training set results\n"
      ]
    },
    {
      "cell_type": "code",
      "metadata": {
        "colab": {
          "base_uri": "https://localhost:8080/"
        },
        "id": "ok94m7bWGRWY",
        "outputId": "9df41ede-03e8-42bc-9307-09147f80a134"
      },
      "source": [
        "#Visualizing the Training set results\n",
        "Visualizer(X_train, y_train) "
      ],
      "execution_count": null,
      "outputs": [
        {
          "output_type": "stream",
          "name": "stderr",
          "text": [
            "*c* argument looks like a single numeric RGB or RGBA sequence, which should be avoided as value-mapping will have precedence in case its length matches with *x* & *y*.  Please use the *color* keyword-argument or provide a 2-D array with a single row if you intend to specify the same RGB or RGBA value for all points.\n",
            "*c* argument looks like a single numeric RGB or RGBA sequence, which should be avoided as value-mapping will have precedence in case its length matches with *x* & *y*.  Please use the *color* keyword-argument or provide a 2-D array with a single row if you intend to specify the same RGB or RGBA value for all points.\n"
          ]
        },
        {
          "output_type": "display_data",
          "data": {
            "image/png": "[encoded data removed]",
            "text/plain": [
              "<Figure size 432x288 with 1 Axes>"
            ]
          },
          "metadata": {
            "needs_background": "light"
          }
        }
      ]
    },
    {
      "cell_type": "markdown",
      "metadata": {
        "id": "Fg8L_wWqGRWZ"
      },
      "source": [
        "5.10: Visualizing the Test set results"
      ]
    },
    {
      "cell_type": "code",
      "metadata": {
        "colab": {
          "base_uri": "https://localhost:8080/"
        },
        "id": "4ykkV4wQGRWZ",
        "outputId": "de51855d-f125-4fd2-bedb-0dd843700c7a"
      },
      "source": [
        "#Visualizing the Test set results\n",
        "Visualizer(X_test, y_test) "
      ],
      "execution_count": null,
      "outputs": [
        {
          "output_type": "stream",
          "name": "stderr",
          "text": [
            "*c* argument looks like a single numeric RGB or RGBA sequence, which should be avoided as value-mapping will have precedence in case its length matches with *x* & *y*.  Please use the *color* keyword-argument or provide a 2-D array with a single row if you intend to specify the same RGB or RGBA value for all points.\n",
            "*c* argument looks like a single numeric RGB or RGBA sequence, which should be avoided as value-mapping will have precedence in case its length matches with *x* & *y*.  Please use the *color* keyword-argument or provide a 2-D array with a single row if you intend to specify the same RGB or RGBA value for all points.\n"
          ]
        },
        {
          "output_type": "display_data",
          "data": {
            "image/png": "[encoded data removed]",
            "text/plain": [
              "<Figure size 432x288 with 1 Axes>"
            ]
          },
          "metadata": {
            "needs_background": "light"
          }
        }
      ]
    },
    {
      "cell_type": "markdown",
      "metadata": {
        "id": "H5ONV93qC6O2"
      },
      "source": [
        "# Classifier – VI (SVM Linear)"
      ]
    },
    {
      "cell_type": "markdown",
      "metadata": {
        "id": "GskTap-wC6O3"
      },
      "source": [
        "6.1: Importing the Libraries"
      ]
    },
    {
      "cell_type": "code",
      "metadata": {
        "id": "2YnNkt34C6O4"
      },
      "source": [
        "#Importing the Libraries\n",
        "import numpy as np\n",
        "import matplotlib.pyplot as plt\n",
        "import pandas as pd "
      ],
      "execution_count": null,
      "outputs": []
    },
    {
      "cell_type": "markdown",
      "metadata": {
        "id": "4s9beqgVC6O5"
      },
      "source": [
        "6.2: Importing the Dataset"
      ]
    },
    {
      "cell_type": "code",
      "metadata": {
        "id": "X4JOxp7OC6O5"
      },
      "source": [
        "#Importing the Dataset\n",
        "Dataset =  pd.read_csv(PATH) \n",
        "X = Dataset.iloc[:, [2, 3]].values\n",
        "y = Dataset.iloc[:, 4].values"
      ],
      "execution_count": null,
      "outputs": []
    },
    {
      "cell_type": "markdown",
      "metadata": {
        "id": "MYH8NSssC6O5"
      },
      "source": [
        "6.3: Splitting the dataset into the Training set and Test set "
      ]
    },
    {
      "cell_type": "code",
      "metadata": {
        "id": "EvpsHABRC6O6"
      },
      "source": [
        "#Splitting the dataset into the Training set and Test set \n",
        "from sklearn.model_selection import train_test_split\n",
        "X_train, X_test, y_train, y_test = train_test_split(X, y, test_size = 0.25, random_state = 0)"
      ],
      "execution_count": null,
      "outputs": []
    },
    {
      "cell_type": "markdown",
      "metadata": {
        "id": "lIgxYuQEC6O7"
      },
      "source": [
        "6.4: Feature Scaling "
      ]
    },
    {
      "cell_type": "code",
      "metadata": {
        "id": "gFPo7Bw4C6O8"
      },
      "source": [
        "#Feature Scaling \n",
        "from sklearn.preprocessing import StandardScaler\n",
        "scale_X = StandardScaler()\n",
        "X_train = scale_X.fit_transform(X_train)\n",
        "X_test = scale_X.transform(X_test)"
      ],
      "execution_count": null,
      "outputs": []
    },
    {
      "cell_type": "markdown",
      "metadata": {
        "id": "31e11F6UC6O8"
      },
      "source": [
        "6.5: Fitting SVM (Linear) to the Training set "
      ]
    },
    {
      "cell_type": "code",
      "metadata": {
        "colab": {
          "base_uri": "https://localhost:8080/"
        },
        "id": "WffSqCpwC6O9",
        "outputId": "7c54762e-6042-4199-b522-23393fb32fa2"
      },
      "source": [
        "# Classifier –  VI (SVM - Linear)\n",
        "# Fitting SVM to the Training set \n",
        "from sklearn.svm import SVC\n",
        "classifier = SVC( kernel =  'linear', random_state = 0)\n",
        "classifier.fit(X_train, y_train)"
      ],
      "execution_count": null,
      "outputs": [
        {
          "output_type": "execute_result",
          "data": {
            "text/plain": [
              "SVC(C=1.0, break_ties=False, cache_size=200, class_weight=None, coef0=0.0,\n",
              "    decision_function_shape='ovr', degree=3, gamma='scale', kernel='linear',\n",
              "    max_iter=-1, probability=False, random_state=0, shrinking=True, tol=0.001,\n",
              "    verbose=False)"
            ]
          },
          "metadata": {},
          "execution_count": 120
        }
      ]
    },
    {
      "cell_type": "markdown",
      "metadata": {
        "id": "LWbIcFXTC6O-"
      },
      "source": [
        "6.6: Predicting the Test set results"
      ]
    },
    {
      "cell_type": "code",
      "metadata": {
        "id": "7cstU1w0C6O_"
      },
      "source": [
        "# Predicting the Test set results\n",
        "y_pred = classifier.predict(X_test)"
      ],
      "execution_count": null,
      "outputs": []
    },
    {
      "cell_type": "markdown",
      "metadata": {
        "id": "9Druub3MC6O_"
      },
      "source": [
        "6.7: Making the confusion matrix\n"
      ]
    },
    {
      "cell_type": "code",
      "metadata": {
        "id": "xDYtej0bC6O_"
      },
      "source": [
        "from sklearn.metrics import confusion_matrix\n",
        "cm = confusion_matrix(y_test, y_pred)"
      ],
      "execution_count": null,
      "outputs": []
    },
    {
      "cell_type": "markdown",
      "metadata": {
        "id": "dKuGmWO8C6PA"
      },
      "source": [
        "6.8: Performance metrics"
      ]
    },
    {
      "cell_type": "code",
      "metadata": {
        "colab": {
          "base_uri": "https://localhost:8080/"
        },
        "id": "HRMZrCAKC6PA",
        "outputId": "e639d358-fe49-4285-cc27-cf37c777aea2"
      },
      "source": [
        "#Performance metrics\n",
        "# Accuracy\n",
        "from sklearn.metrics import accuracy_score\n",
        "accuracy = accuracy_score(y_test, y_pred)\n",
        "print('Accuracy is %f'% accuracy)\n",
        "\t \n",
        "# Precision\n",
        "from sklearn.metrics import precision_score\n",
        "precision = precision_score(y_test, y_pred)\n",
        "print('Precision is %f' % precision)\n",
        " \n",
        "# Recall\n",
        "from sklearn.metrics import recall_score\n",
        "recall = recall_score(y_test, y_pred)\n",
        "print('Recall is %f' % recall) "
      ],
      "execution_count": null,
      "outputs": [
        {
          "output_type": "stream",
          "name": "stdout",
          "text": [
            "Accuracy is 0.910000\n",
            "Precision is 0.828571\n",
            "Recall is 0.906250\n"
          ]
        }
      ]
    },
    {
      "cell_type": "markdown",
      "metadata": {
        "id": "hBg2Fj1IC6PB"
      },
      "source": [
        "6.9: Visualizing the Training set results\n"
      ]
    },
    {
      "cell_type": "code",
      "metadata": {
        "colab": {
          "base_uri": "https://localhost:8080/"
        },
        "id": "p52bjyrIC6PB",
        "outputId": "60e229c3-00f7-4a48-9049-bd6e356dc3c0"
      },
      "source": [
        "#Visualizing the Training set results\n",
        "Visualizer(X_train, y_train) "
      ],
      "execution_count": null,
      "outputs": [
        {
          "output_type": "stream",
          "name": "stderr",
          "text": [
            "*c* argument looks like a single numeric RGB or RGBA sequence, which should be avoided as value-mapping will have precedence in case its length matches with *x* & *y*.  Please use the *color* keyword-argument or provide a 2-D array with a single row if you intend to specify the same RGB or RGBA value for all points.\n",
            "*c* argument looks like a single numeric RGB or RGBA sequence, which should be avoided as value-mapping will have precedence in case its length matches with *x* & *y*.  Please use the *color* keyword-argument or provide a 2-D array with a single row if you intend to specify the same RGB or RGBA value for all points.\n"
          ]
        },
        {
          "output_type": "display_data",
          "data": {
            "image/png": "[encoded data removed]",
            "text/plain": [
              "<Figure size 432x288 with 1 Axes>"
            ]
          },
          "metadata": {
            "needs_background": "light"
          }
        }
      ]
    },
    {
      "cell_type": "markdown",
      "metadata": {
        "id": "z5daTObOC6PB"
      },
      "source": [
        "6.10: Visualizing the Test set results"
      ]
    },
    {
      "cell_type": "code",
      "metadata": {
        "colab": {
          "base_uri": "https://localhost:8080/"
        },
        "id": "m92FFenPC6PB",
        "outputId": "136bddf3-9fb2-4457-93ea-d5deb9dfbff8"
      },
      "source": [
        "#Visualizing the Test set results\n",
        "Visualizer(X_test, y_test) "
      ],
      "execution_count": null,
      "outputs": [
        {
          "output_type": "stream",
          "name": "stderr",
          "text": [
            "*c* argument looks like a single numeric RGB or RGBA sequence, which should be avoided as value-mapping will have precedence in case its length matches with *x* & *y*.  Please use the *color* keyword-argument or provide a 2-D array with a single row if you intend to specify the same RGB or RGBA value for all points.\n",
            "*c* argument looks like a single numeric RGB or RGBA sequence, which should be avoided as value-mapping will have precedence in case its length matches with *x* & *y*.  Please use the *color* keyword-argument or provide a 2-D array with a single row if you intend to specify the same RGB or RGBA value for all points.\n"
          ]
        },
        {
          "output_type": "display_data",
          "data": {
            "image/png": "[encoded data removed]",
            "text/plain": [
              "<Figure size 432x288 with 1 Axes>"
            ]
          },
          "metadata": {
            "needs_background": "light"
          }
        }
      ]
    },
    {
      "cell_type": "markdown",
      "metadata": {
        "id": "txj5xC0WD4-J"
      },
      "source": [
        "# Classifier – VII (SVM Non-Linear)"
      ]
    },
    {
      "cell_type": "markdown",
      "metadata": {
        "id": "D6fPBr_TD4-L"
      },
      "source": [
        "7.1: Importing the Libraries"
      ]
    },
    {
      "cell_type": "code",
      "metadata": {
        "id": "TExiMBPDD4-M"
      },
      "source": [
        "#Importing the Libraries\n",
        "import numpy as np\n",
        "import matplotlib.pyplot as plt\n",
        "import pandas as pd "
      ],
      "execution_count": null,
      "outputs": []
    },
    {
      "cell_type": "markdown",
      "metadata": {
        "id": "F4uu0Qo8D4-N"
      },
      "source": [
        "7.2: Importing the Dataset"
      ]
    },
    {
      "cell_type": "code",
      "metadata": {
        "id": "JqMN6TvCD4-O"
      },
      "source": [
        "#Importing the Dataset\n",
        "Dataset =  pd.read_csv(PATH) \n",
        "X = Dataset.iloc[:, [2, 3]].values\n",
        "y = Dataset.iloc[:, 4].values"
      ],
      "execution_count": null,
      "outputs": []
    },
    {
      "cell_type": "markdown",
      "metadata": {
        "id": "yAFHAhmoD4-P"
      },
      "source": [
        "7.3: Splitting the dataset into the Training set and Test set "
      ]
    },
    {
      "cell_type": "code",
      "metadata": {
        "id": "ZnGTi1s-D4-P"
      },
      "source": [
        "#Splitting the dataset into the Training set and Test set \n",
        "from sklearn.model_selection import train_test_split\n",
        "X_train, X_test, y_train, y_test = train_test_split(X, y, test_size = 0.25, random_state = 0)"
      ],
      "execution_count": null,
      "outputs": []
    },
    {
      "cell_type": "markdown",
      "metadata": {
        "id": "-AMQ7QbPD4-R"
      },
      "source": [
        "7.4: Feature Scaling "
      ]
    },
    {
      "cell_type": "code",
      "metadata": {
        "id": "jTeTGRE_D4-S"
      },
      "source": [
        "#Feature Scaling \n",
        "from sklearn.preprocessing import StandardScaler\n",
        "scale_X = StandardScaler()\n",
        "X_train = scale_X.fit_transform(X_train)\n",
        "X_test = scale_X.transform(X_test)"
      ],
      "execution_count": null,
      "outputs": []
    },
    {
      "cell_type": "markdown",
      "metadata": {
        "id": "wAptjB-4D4-S"
      },
      "source": [
        "7.5: Fitting SVM (Non - Linear) to the Training set "
      ]
    },
    {
      "cell_type": "code",
      "metadata": {
        "colab": {
          "base_uri": "https://localhost:8080/"
        },
        "id": "4Wg9oRK7D4-T",
        "outputId": "503162fe-dd5a-4687-9880-b732458acbe5"
      },
      "source": [
        "# Classifier – VII (Non-Linear SVM)\n",
        "# Fitting Non-Linear SVM to the Training set \n",
        "from sklearn.svm import SVC\n",
        "classifier = SVC (kernel =  'rbf', random_state = 0)\n",
        "classifier.fit(X_train, y_train)"
      ],
      "execution_count": null,
      "outputs": [
        {
          "output_type": "execute_result",
          "data": {
            "text/plain": [
              "SVC(C=1.0, break_ties=False, cache_size=200, class_weight=None, coef0=0.0,\n",
              "    decision_function_shape='ovr', degree=3, gamma='scale', kernel='rbf',\n",
              "    max_iter=-1, probability=False, random_state=0, shrinking=True, tol=0.001,\n",
              "    verbose=False)"
            ]
          },
          "metadata": {},
          "execution_count": 130
        }
      ]
    },
    {
      "cell_type": "markdown",
      "metadata": {
        "id": "BBLDnnD4D4-U"
      },
      "source": [
        "7.6: Predicting the Test set results"
      ]
    },
    {
      "cell_type": "code",
      "metadata": {
        "id": "Eb5FWhPzD4-V"
      },
      "source": [
        "# Predicting the Test set results\n",
        "y_pred = classifier.predict(X_test)"
      ],
      "execution_count": null,
      "outputs": []
    },
    {
      "cell_type": "markdown",
      "metadata": {
        "id": "9-ZHc0pSD4-V"
      },
      "source": [
        "7.7: Making the confusion matrix\n"
      ]
    },
    {
      "cell_type": "code",
      "metadata": {
        "id": "9eruPAxwD4-W"
      },
      "source": [
        "from sklearn.metrics import confusion_matrix\n",
        "cm = confusion_matrix(y_test, y_pred)"
      ],
      "execution_count": null,
      "outputs": []
    },
    {
      "cell_type": "markdown",
      "metadata": {
        "id": "IfRqW0LwD4-W"
      },
      "source": [
        "7.8: Performance metrics"
      ]
    },
    {
      "cell_type": "code",
      "metadata": {
        "colab": {
          "base_uri": "https://localhost:8080/"
        },
        "id": "QHPaaj8AD4-W",
        "outputId": "0677afbf-95f3-4019-c57d-356716959758"
      },
      "source": [
        "#Performance metrics\n",
        "# Accuracy\n",
        "from sklearn.metrics import accuracy_score\n",
        "accuracy = accuracy_score(y_test, y_pred)\n",
        "print('Accuracy is %f'% accuracy)\n",
        "\t \n",
        "# Precision\n",
        "from sklearn.metrics import precision_score\n",
        "precision = precision_score(y_test, y_pred)\n",
        "print('Precision is %f' % precision)\n",
        " \n",
        "# Recall\n",
        "from sklearn.metrics import recall_score\n",
        "recall = recall_score(y_test, y_pred)\n",
        "print('Recall is %f' % recall) "
      ],
      "execution_count": null,
      "outputs": [
        {
          "output_type": "stream",
          "name": "stdout",
          "text": [
            "Accuracy is 0.910000\n",
            "Precision is 0.828571\n",
            "Recall is 0.906250\n"
          ]
        }
      ]
    },
    {
      "cell_type": "markdown",
      "metadata": {
        "id": "Bw_fvP92D4-X"
      },
      "source": [
        "7.9: Visualizing the Training set results\n"
      ]
    },
    {
      "cell_type": "code",
      "metadata": {
        "colab": {
          "base_uri": "https://localhost:8080/",
          "height": 336
        },
        "id": "WSBuWh63D4-X",
        "outputId": "d3152a3d-413f-42f8-ee3c-9da20ede7468"
      },
      "source": [
        "#Visualizing the Training set results\n",
        "Visualizer(X_train, y_train) "
      ],
      "execution_count": null,
      "outputs": [
        {
          "output_type": "stream",
          "name": "stderr",
          "text": [
            "*c* argument looks like a single numeric RGB or RGBA sequence, which should be avoided as value-mapping will have precedence in case its length matches with *x* & *y*.  Please use the *color* keyword-argument or provide a 2-D array with a single row if you intend to specify the same RGB or RGBA value for all points.\n",
            "*c* argument looks like a single numeric RGB or RGBA sequence, which should be avoided as value-mapping will have precedence in case its length matches with *x* & *y*.  Please use the *color* keyword-argument or provide a 2-D array with a single row if you intend to specify the same RGB or RGBA value for all points.\n"
          ]
        },
        {
          "output_type": "display_data",
          "data": {
            "image/png": "[encoded data removed]",
            "text/plain": [
              "<Figure size 432x288 with 1 Axes>"
            ]
          },
          "metadata": {
            "needs_background": "light"
          }
        }
      ]
    },
    {
      "cell_type": "markdown",
      "metadata": {
        "id": "9S4MYp70D4-Y"
      },
      "source": [
        "7.10: Visualizing the Test set results"
      ]
    },
    {
      "cell_type": "code",
      "metadata": {
        "colab": {
          "base_uri": "https://localhost:8080/",
          "height": 336
        },
        "id": "F9nkssN6D4-Y",
        "outputId": "ecb39faa-94e9-499b-eaf5-1bcc8fb9a8ce"
      },
      "source": [
        "#Visualizing the Test set results\n",
        "Visualizer(X_test, y_test) "
      ],
      "execution_count": null,
      "outputs": [
        {
          "output_type": "stream",
          "name": "stderr",
          "text": [
            "*c* argument looks like a single numeric RGB or RGBA sequence, which should be avoided as value-mapping will have precedence in case its length matches with *x* & *y*.  Please use the *color* keyword-argument or provide a 2-D array with a single row if you intend to specify the same RGB or RGBA value for all points.\n",
            "*c* argument looks like a single numeric RGB or RGBA sequence, which should be avoided as value-mapping will have precedence in case its length matches with *x* & *y*.  Please use the *color* keyword-argument or provide a 2-D array with a single row if you intend to specify the same RGB or RGBA value for all points.\n"
          ]
        },
        {
          "output_type": "display_data",
          "data": {
            "image/png": "[encoded data removed]",
            "text/plain": [
              "<Figure size 432x288 with 1 Axes>"
            ]
          },
          "metadata": {
            "needs_background": "light"
          }
        }
      ]
    }
  ]
}
