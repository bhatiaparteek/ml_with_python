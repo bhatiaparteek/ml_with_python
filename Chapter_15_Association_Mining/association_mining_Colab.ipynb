{
  "nbformat": 4,
  "nbformat_minor": 0,
  "metadata": {
    "colab": {
      "provenance": [],
      "authorship_tag": "ABX9TyNPNYST0xz8Ayv9RXVizA1e",
      "include_colab_link": true
    },
    "kernelspec": {
      "name": "python3",
      "display_name": "Python 3"
    },
    "language_info": {
      "name": "python"
    }
  },
  "cells": [
    {
      "cell_type": "markdown",
      "metadata": {
        "id": "view-in-github",
        "colab_type": "text"
      },
      "source": [
        "<a href=\"https://colab.research.google.com/github/bhatiaparteek/ml_with_python/blob/main/Chapter_15_Association_Mining/association_mining_Colab.ipynb\" target=\"_parent\"><img src=\"https://colab.research.google.com/assets/colab-badge.svg\" alt=\"Open In Colab\"/></a>"
      ]
    },
    {
      "cell_type": "code",
      "execution_count": 2,
      "metadata": {
        "id": "778hD-BzN6DF"
      },
      "outputs": [],
      "source": [
        "#Importing the Libraries\n",
        "import numpy as np\n",
        "import pandas as pd"
      ]
    },
    {
      "cell_type": "code",
      "source": [
        "from google.colab import files\n",
        "\n",
        "# Upload the file from your local system\n",
        "uploaded = files.upload()\n",
        "#select Dataset.csv to upload"
      ],
      "metadata": {
        "colab": {
          "base_uri": "https://localhost:8080/",
          "height": 73
        },
        "id": "bxjsf-lXOJBC",
        "outputId": "133b43e2-1486-418f-db07-4f14d0108f04"
      },
      "execution_count": 1,
      "outputs": [
        {
          "output_type": "display_data",
          "data": {
            "text/plain": [
              "<IPython.core.display.HTML object>"
            ],
            "text/html": [
              "\n",
              "     <input type=\"file\" id=\"files-b49cb992-9d82-493e-a178-4926b9f78361\" name=\"files[]\" multiple disabled\n",
              "        style=\"border:none\" />\n",
              "     <output id=\"result-b49cb992-9d82-493e-a178-4926b9f78361\">\n",
              "      Upload widget is only available when the cell has been executed in the\n",
              "      current browser session. Please rerun this cell to enable.\n",
              "      </output>\n",
              "      <script>// Copyright 2017 Google LLC\n",
              "//\n",
              "// Licensed under the Apache License, Version 2.0 (the \"License\");\n",
              "// you may not use this file except in compliance with the License.\n",
              "// You may obtain a copy of the License at\n",
              "//\n",
              "//      http://www.apache.org/licenses/LICENSE-2.0\n",
              "//\n",
              "// Unless required by applicable law or agreed to in writing, software\n",
              "// distributed under the License is distributed on an \"AS IS\" BASIS,\n",
              "// WITHOUT WARRANTIES OR CONDITIONS OF ANY KIND, either express or implied.\n",
              "// See the License for the specific language governing permissions and\n",
              "// limitations under the License.\n",
              "\n",
              "/**\n",
              " * @fileoverview Helpers for google.colab Python module.\n",
              " */\n",
              "(function(scope) {\n",
              "function span(text, styleAttributes = {}) {\n",
              "  const element = document.createElement('span');\n",
              "  element.textContent = text;\n",
              "  for (const key of Object.keys(styleAttributes)) {\n",
              "    element.style[key] = styleAttributes[key];\n",
              "  }\n",
              "  return element;\n",
              "}\n",
              "\n",
              "// Max number of bytes which will be uploaded at a time.\n",
              "const MAX_PAYLOAD_SIZE = 100 * 1024;\n",
              "\n",
              "function _uploadFiles(inputId, outputId) {\n",
              "  const steps = uploadFilesStep(inputId, outputId);\n",
              "  const outputElement = document.getElementById(outputId);\n",
              "  // Cache steps on the outputElement to make it available for the next call\n",
              "  // to uploadFilesContinue from Python.\n",
              "  outputElement.steps = steps;\n",
              "\n",
              "  return _uploadFilesContinue(outputId);\n",
              "}\n",
              "\n",
              "// This is roughly an async generator (not supported in the browser yet),\n",
              "// where there are multiple asynchronous steps and the Python side is going\n",
              "// to poll for completion of each step.\n",
              "// This uses a Promise to block the python side on completion of each step,\n",
              "// then passes the result of the previous step as the input to the next step.\n",
              "function _uploadFilesContinue(outputId) {\n",
              "  const outputElement = document.getElementById(outputId);\n",
              "  const steps = outputElement.steps;\n",
              "\n",
              "  const next = steps.next(outputElement.lastPromiseValue);\n",
              "  return Promise.resolve(next.value.promise).then((value) => {\n",
              "    // Cache the last promise value to make it available to the next\n",
              "    // step of the generator.\n",
              "    outputElement.lastPromiseValue = value;\n",
              "    return next.value.response;\n",
              "  });\n",
              "}\n",
              "\n",
              "/**\n",
              " * Generator function which is called between each async step of the upload\n",
              " * process.\n",
              " * @param {string} inputId Element ID of the input file picker element.\n",
              " * @param {string} outputId Element ID of the output display.\n",
              " * @return {!Iterable<!Object>} Iterable of next steps.\n",
              " */\n",
              "function* uploadFilesStep(inputId, outputId) {\n",
              "  const inputElement = document.getElementById(inputId);\n",
              "  inputElement.disabled = false;\n",
              "\n",
              "  const outputElement = document.getElementById(outputId);\n",
              "  outputElement.innerHTML = '';\n",
              "\n",
              "  const pickedPromise = new Promise((resolve) => {\n",
              "    inputElement.addEventListener('change', (e) => {\n",
              "      resolve(e.target.files);\n",
              "    });\n",
              "  });\n",
              "\n",
              "  const cancel = document.createElement('button');\n",
              "  inputElement.parentElement.appendChild(cancel);\n",
              "  cancel.textContent = 'Cancel upload';\n",
              "  const cancelPromise = new Promise((resolve) => {\n",
              "    cancel.onclick = () => {\n",
              "      resolve(null);\n",
              "    };\n",
              "  });\n",
              "\n",
              "  // Wait for the user to pick the files.\n",
              "  const files = yield {\n",
              "    promise: Promise.race([pickedPromise, cancelPromise]),\n",
              "    response: {\n",
              "      action: 'starting',\n",
              "    }\n",
              "  };\n",
              "\n",
              "  cancel.remove();\n",
              "\n",
              "  // Disable the input element since further picks are not allowed.\n",
              "  inputElement.disabled = true;\n",
              "\n",
              "  if (!files) {\n",
              "    return {\n",
              "      response: {\n",
              "        action: 'complete',\n",
              "      }\n",
              "    };\n",
              "  }\n",
              "\n",
              "  for (const file of files) {\n",
              "    const li = document.createElement('li');\n",
              "    li.append(span(file.name, {fontWeight: 'bold'}));\n",
              "    li.append(span(\n",
              "        `(${file.type || 'n/a'}) - ${file.size} bytes, ` +\n",
              "        `last modified: ${\n",
              "            file.lastModifiedDate ? file.lastModifiedDate.toLocaleDateString() :\n",
              "                                    'n/a'} - `));\n",
              "    const percent = span('0% done');\n",
              "    li.appendChild(percent);\n",
              "\n",
              "    outputElement.appendChild(li);\n",
              "\n",
              "    const fileDataPromise = new Promise((resolve) => {\n",
              "      const reader = new FileReader();\n",
              "      reader.onload = (e) => {\n",
              "        resolve(e.target.result);\n",
              "      };\n",
              "      reader.readAsArrayBuffer(file);\n",
              "    });\n",
              "    // Wait for the data to be ready.\n",
              "    let fileData = yield {\n",
              "      promise: fileDataPromise,\n",
              "      response: {\n",
              "        action: 'continue',\n",
              "      }\n",
              "    };\n",
              "\n",
              "    // Use a chunked sending to avoid message size limits. See b/62115660.\n",
              "    let position = 0;\n",
              "    do {\n",
              "      const length = Math.min(fileData.byteLength - position, MAX_PAYLOAD_SIZE);\n",
              "      const chunk = new Uint8Array(fileData, position, length);\n",
              "      position += length;\n",
              "\n",
              "      const base64 = btoa(String.fromCharCode.apply(null, chunk));\n",
              "      yield {\n",
              "        response: {\n",
              "          action: 'append',\n",
              "          file: file.name,\n",
              "          data: base64,\n",
              "        },\n",
              "      };\n",
              "\n",
              "      let percentDone = fileData.byteLength === 0 ?\n",
              "          100 :\n",
              "          Math.round((position / fileData.byteLength) * 100);\n",
              "      percent.textContent = `${percentDone}% done`;\n",
              "\n",
              "    } while (position < fileData.byteLength);\n",
              "  }\n",
              "\n",
              "  // All done.\n",
              "  yield {\n",
              "    response: {\n",
              "      action: 'complete',\n",
              "    }\n",
              "  };\n",
              "}\n",
              "\n",
              "scope.google = scope.google || {};\n",
              "scope.google.colab = scope.google.colab || {};\n",
              "scope.google.colab._files = {\n",
              "  _uploadFiles,\n",
              "  _uploadFilesContinue,\n",
              "};\n",
              "})(self);\n",
              "</script> "
            ]
          },
          "metadata": {}
        },
        {
          "output_type": "stream",
          "name": "stdout",
          "text": [
            "Saving Dataset.csv to Dataset.csv\n"
          ]
        }
      ]
    },
    {
      "cell_type": "code",
      "source": [
        "#Data loading\n",
        "dataset = pd.read_csv('Dataset.csv', header = None)\n",
        "print(dataset)"
      ],
      "metadata": {
        "colab": {
          "base_uri": "https://localhost:8080/"
        },
        "id": "wwyvezrXN-Ri",
        "outputId": "de141dbd-a187-460a-9562-7cde079e3bf3"
      },
      "execution_count": 3,
      "outputs": [
        {
          "output_type": "stream",
          "name": "stdout",
          "text": [
            "            0           1           2           3           4\n",
            "0     Biscuit   Bournvita      Butter  Cornflakes         Tea\n",
            "1   Bournvita       Bread      Butter  Cornflakes         NaN\n",
            "2      Butter      Coffee   Chocolate        Eggs         Jam\n",
            "3   Bournvita      Butter  Cornflakes       Bread        Eggs\n",
            "4   Bournvita       Bread      Coffee   Chocolate        Eggs\n",
            "5         Jam       Sugar         NaN         NaN         NaN\n",
            "6     Biscuit   Bournvita      Butter  Cornflakes         Jam\n",
            "7        Curd         Jam       Sugar         NaN         NaN\n",
            "8   Bournvita       Bread      Butter      Coffee  Cornflakes\n",
            "9   Bournvita       Bread      Coffee   Chocolate        Eggs\n",
            "10  Bournvita      Butter        Eggs         NaN         NaN\n",
            "11  Bournvita      Butter  Cornflakes   Chocolate        Eggs\n",
            "12    Biscuit   Bournvita       Bread         NaN         NaN\n",
            "13      Bread      Butter      Coffee   Chocolate        Eggs\n",
            "14     Coffee  Cornflakes         NaN         NaN         NaN\n",
            "15  Chocolate         NaN         NaN         NaN         NaN\n",
            "16  Chocolate        Curd        Eggs         NaN         NaN\n",
            "17    Biscuit   Bournvita      Butter  Cornflakes         NaN\n",
            "18  Bournvita       Bread      Coffee   Chocolate        Eggs\n",
            "19     Butter      Coffee   Chocolate        Eggs         NaN\n",
            "20        Jam       Sugar         Tea         NaN         NaN\n",
            "21  Bournvita       Bread      Butter  Cornflakes         NaN\n",
            "22     Coffee   Chocolate        Eggs         Jam       Juice\n",
            "23      Juice        Milk        Rice         NaN         NaN\n",
            "24       Rice        Soap       Sugar         NaN         NaN\n"
          ]
        }
      ]
    },
    {
      "cell_type": "code",
      "source": [
        "# Making transactions\n",
        "transactions = []\n",
        "for i in range (0, 25):\n",
        "      transactions.append([str(dataset.values[i,j]) for j in range (0, 5)])\n",
        "print(transactions)"
      ],
      "metadata": {
        "colab": {
          "base_uri": "https://localhost:8080/"
        },
        "id": "Jhg-0CCeOA8s",
        "outputId": "b5f658d0-7c53-4316-ddfd-47d6f94ddeb3"
      },
      "execution_count": 5,
      "outputs": [
        {
          "output_type": "stream",
          "name": "stdout",
          "text": [
            "[['Biscuit', 'Bournvita', 'Butter', 'Cornflakes', 'Tea'], ['Bournvita', 'Bread', 'Butter', 'Cornflakes', 'nan'], ['Butter', 'Coffee', 'Chocolate', 'Eggs', 'Jam'], ['Bournvita', 'Butter', 'Cornflakes', 'Bread', 'Eggs'], ['Bournvita', 'Bread', 'Coffee', 'Chocolate', 'Eggs'], ['Jam', 'Sugar', 'nan', 'nan', 'nan'], ['Biscuit', 'Bournvita', 'Butter', 'Cornflakes', 'Jam'], ['Curd', 'Jam', 'Sugar', 'nan', 'nan'], ['Bournvita', 'Bread', 'Butter', 'Coffee', 'Cornflakes'], ['Bournvita', 'Bread', 'Coffee', 'Chocolate', 'Eggs'], ['Bournvita', 'Butter', 'Eggs', 'nan', 'nan'], ['Bournvita', 'Butter', 'Cornflakes', 'Chocolate', 'Eggs'], ['Biscuit', 'Bournvita', 'Bread', 'nan', 'nan'], ['Bread', 'Butter', 'Coffee', 'Chocolate', 'Eggs'], ['Coffee', 'Cornflakes', 'nan', 'nan', 'nan'], ['Chocolate', 'nan', 'nan', 'nan', 'nan'], ['Chocolate', 'Curd', 'Eggs', 'nan', 'nan'], ['Biscuit', 'Bournvita', 'Butter', 'Cornflakes', 'nan'], ['Bournvita', 'Bread', 'Coffee', 'Chocolate', 'Eggs'], ['Butter', 'Coffee', 'Chocolate', 'Eggs', 'nan'], ['Jam', 'Sugar', 'Tea', 'nan', 'nan'], ['Bournvita', 'Bread', 'Butter', 'Cornflakes', 'nan'], ['Coffee', 'Chocolate', 'Eggs', 'Jam', 'Juice'], ['Juice', 'Milk', 'Rice', 'nan', 'nan'], ['Rice', 'Soap', 'Sugar', 'nan', 'nan']]\n"
          ]
        }
      ]
    },
    {
      "cell_type": "code",
      "source": [
        "#intall apriori_python\n",
        "!pip install apriori_python"
      ],
      "metadata": {
        "colab": {
          "base_uri": "https://localhost:8080/"
        },
        "id": "naiZmDmQODAk",
        "outputId": "581f27d0-a59a-46b1-da65-333a8cbf16ad"
      },
      "execution_count": 6,
      "outputs": [
        {
          "output_type": "stream",
          "name": "stdout",
          "text": [
            "Collecting apriori_python\n",
            "  Downloading apriori_python-1.0.4-py3-none-any.whl.metadata (2.3 kB)\n",
            "Downloading apriori_python-1.0.4-py3-none-any.whl (5.0 kB)\n",
            "Installing collected packages: apriori_python\n",
            "Successfully installed apriori_python-1.0.4\n"
          ]
        }
      ]
    },
    {
      "cell_type": "code",
      "source": [
        "#Training Apriori on the dataset\n",
        "from apriori_python import apriori\n",
        "#Building the model\n",
        "freq_Items, rules = apriori (transactions, minSup = 0.249, minConf = 0.699)\n",
        "print(rules[0])\n",
        "print(freq_Items)"
      ],
      "metadata": {
        "colab": {
          "base_uri": "https://localhost:8080/"
        },
        "id": "OEoCALzhOFol",
        "outputId": "e2d3e408-8d4c-4276-d711-fb4f3a4d59c3"
      },
      "execution_count": 7,
      "outputs": [
        {
          "output_type": "stream",
          "name": "stdout",
          "text": [
            "[{'Chocolate'}, {'Coffee'}, 0.7]\n",
            "{1: {frozenset({'nan'}), frozenset({'Coffee'}), frozenset({'Bournvita'}), frozenset({'Cornflakes'}), frozenset({'Bread'}), frozenset({'Butter'}), frozenset({'Eggs'}), frozenset({'Chocolate'})}, 2: {frozenset({'Coffee', 'Eggs'}), frozenset({'Bournvita', 'Butter'}), frozenset({'Butter', 'Cornflakes'}), frozenset({'Coffee', 'Chocolate'}), frozenset({'Bournvita', 'Bread'}), frozenset({'Bournvita', 'Cornflakes'}), frozenset({'Eggs', 'Chocolate'})}, 3: {frozenset({'Coffee', 'Chocolate', 'Eggs'}), frozenset({'Bournvita', 'Butter', 'Cornflakes'})}}\n"
          ]
        }
      ]
    }
  ]
}